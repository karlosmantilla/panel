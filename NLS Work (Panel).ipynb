{
 "cells": [
  {
   "cell_type": "markdown",
   "metadata": {},
   "source": [
    "<center> <h1>Análisis de Datos de Pánel</h1> </center>\n",
    "<center> <h1> <small> Estudio de Caso: Encuesta Nacional Longitudinal de Jóvenes Trabajadoras </small> </h1> </center>"
   ]
  },
  {
   "cell_type": "markdown",
   "metadata": {},
   "source": [
    "Las _Encuestas Nacionales Longitudinales_ *(NLS)* son un conjunto de encuestas diseñadas para recopilar información en múltiples momentos sobre las actividades del mercado laboral y otros eventos importantes de la vida de varios grupos de hombres y mujeres. Los datos de NLS han servido como una herramienta importante para economistas, sociólogos y otros investigadores durante más de 50 años."
   ]
  },
  {
   "cell_type": "markdown",
   "metadata": {},
   "source": [
    "## Los Encuesta Específica\n",
    "\n",
    "La Encuesta Nacional Longitudinal de Mujeres Maduras y Jóvenes (NLSW) comenzó a mediados de la década de 1960 porque el Departamento de Trabajo de EE. UU. estaba interesado en estudiar los patrones de empleo de dos grupos de mujeres:\n",
    "\n",
    "* Mujeres Maduras entre 30 y 40 años: y muchas volvieron a ingresar a la fuerza laboral y equilibraron los roles de ama de casa, madre y participante en la fuerza laboral.\n",
    "* Mujeres Jóvenes: adolescentes y a principios de los 20 años, que estaban completando la escuela, tomando decisiones iniciales de carrera y trabajo, y comenzando familias.\n",
    "\n",
    "Las encuestas de ambas cohortes se interrumpieron después de las entrevistas de 2003. Las Mujeres Maduras fueron encuestadas 21 veces y las Mujeres Jóvenes fueron encuestadas 22 veces. Para el análisis se emplearán los datos recogidos en el grupo de mujeres jóvenes.\n",
    "\n",
    "Todos los datos de NLS se pueden explorar en https://www.bls.gov/nls/home.htm"
   ]
  },
  {
   "cell_type": "markdown",
   "metadata": {},
   "source": [
    "## El Conjunto de Datos\n",
    "\n",
    "El conjunto de datos contiene información sobre 4711 mujeres jóvenes trabajadoras que tenían entre 14 y 26 años en 1968. Los datos fueron recolectados mediante la _Encuesta Nacional Longitudinal del Departamento de Trabajo de los EE.UU_ entre 1968 y 1988 (contiene brechas). Hay 28534 observaciones en total.\n",
    "\n",
    "El fragmento de datos contiene las siguientes columnas:\n",
    "\n",
    "* idcode: NLS ID.\n",
    "* year: año de la encuesta.\n",
    "* birth_yr: año de nacimiento.\n",
    "* age: edad al momento de la encuesta.\n",
    "* race: raza, 1=blanca, 2=negra, 3=otra.\n",
    "* msp: 1 si está casada y el vive con el esposo.\n",
    "* nev_mar: 1 si nunca se ha casaso.\n",
    "* grade: escolaridad actual completada.\n",
    "* collgrad: 1 si se ha graduado de la Universidad.\n",
    "* not_smsa: 1 si no está en el Área Estadística Metropolitana Estándar (Standard Metropolitan Statistical Area).\n",
    "* c_city: 1 si es una ciudad central.\n",
    "* south: 1 si está en el sur.\n",
    "* ind_code: Sector Industrial.\n",
    "* occ_code: Ocupación.\n",
    "* union: 1 si pertenece a una unión de trabajadores.\n",
    "* wks_ue: semanas de desempleo durante el último año.\n",
    "* ttl_exp: experiencia laboral total.\n",
    "* tenure: tenencia laboral en años.\n",
    "* hours: horas habituales trabajadas.\n",
    "* wks_work: semanas trabajadas el año pasado.\n",
    "* ln_wage: ln(deflactor de Salario/PIB).\n",
    "\n",
    "### Anotación\n",
    "\n",
    "Hay dos versiones en internet del conjunto de datos que tienen pequeñas diferencias: la variable `wks_work`(semanas trabajadas el año pasado) es `101` en la versión `.dta` pero `NA` en la versión proporcionada por el Boston College para la observación con `idcode = 1` y `year = 83`.  Además, esta variable es `NA` en la versión `.dta`, pero 104 en la versión proporcionada por el Boston College para la observación con `idcode = 2` y `year = 87`."
   ]
  },
  {
   "cell_type": "markdown",
   "metadata": {},
   "source": [
    "## Referencias\n",
    "\n",
    "Boston College, Encuesta Nacional Longitudinal. Mujeres jóvenes de 14 a 26 años de edad en 1968, http://fmwww.bc.edu/ec-p/data/stata/nlswork.dta"
   ]
  },
  {
   "cell_type": "markdown",
   "metadata": {},
   "source": [
    "## El Estudio de Caso\n",
    "\n",
    "Se puede trabajar con dos orígenes de los datos: uno proporcionado por la librería `sampleSelection` y las versiones de internet en extensión `.dta`. Se trabajará con la versión del sofware pero se proprocionarán los dos procedimientos:"
   ]
  },
  {
   "cell_type": "markdown",
   "metadata": {},
   "source": [
    "### Para trabajar con el conjunto de datos del software\n",
    "\n",
    "Se debe instalar la librería `sampleSelection` y llamar el conjunto de datos llamado `nlswork` con la orden `data()`"
   ]
  },
  {
   "cell_type": "code",
   "execution_count": 1,
   "metadata": {},
   "outputs": [],
   "source": [
    "# Instalación del paquete si es necesaria (no se va a ejecutar)\n",
    "# install.packages('sampleSelection')"
   ]
  },
  {
   "cell_type": "code",
   "execution_count": 2,
   "metadata": {},
   "outputs": [
    {
     "data": {
      "text/html": [
       "<pre class=language-r><code>function (pkgs, lib, repos = getOption(\"repos\"), contriburl = contrib.url(repos, \n",
       "<span style=white-space:pre-wrap>    type), method, available = NULL, destdir = NULL, dependencies = NA, </span>\n",
       "<span style=white-space:pre-wrap>    type = getOption(\"pkgType\"), configure.args = getOption(\"configure.args\"), </span>\n",
       "<span style=white-space:pre-wrap>    configure.vars = getOption(\"configure.vars\"), clean = FALSE, </span>\n",
       "<span style=white-space:pre-wrap>    Ncpus = getOption(\"Ncpus\", 1L), verbose = getOption(\"verbose\"), </span>\n",
       "<span style=white-space:pre-wrap>    libs_only = FALSE, INSTALL_opts, quiet = FALSE, keep_outputs = FALSE, </span>\n",
       "<span style=white-space:pre-wrap>    ...) </span>\n",
       "NULL</code></pre>"
      ],
      "text/latex": [
       "\\begin{minted}{r}\n",
       "function (pkgs, lib, repos = getOption(\"repos\"), contriburl = contrib.url(repos, \n",
       "    type), method, available = NULL, destdir = NULL, dependencies = NA, \n",
       "    type = getOption(\"pkgType\"), configure.args = getOption(\"configure.args\"), \n",
       "    configure.vars = getOption(\"configure.vars\"), clean = FALSE, \n",
       "    Ncpus = getOption(\"Ncpus\", 1L), verbose = getOption(\"verbose\"), \n",
       "    libs\\_only = FALSE, INSTALL\\_opts, quiet = FALSE, keep\\_outputs = FALSE, \n",
       "    ...) \n",
       "NULL\n",
       "\\end{minted}"
      ],
      "text/markdown": [
       "```r\n",
       "function (pkgs, lib, repos = getOption(\"repos\"), contriburl = contrib.url(repos, \n",
       "    type), method, available = NULL, destdir = NULL, dependencies = NA, \n",
       "    type = getOption(\"pkgType\"), configure.args = getOption(\"configure.args\"), \n",
       "    configure.vars = getOption(\"configure.vars\"), clean = FALSE, \n",
       "    Ncpus = getOption(\"Ncpus\", 1L), verbose = getOption(\"verbose\"), \n",
       "    libs_only = FALSE, INSTALL_opts, quiet = FALSE, keep_outputs = FALSE, \n",
       "    ...) \n",
       "NULL\n",
       "```"
      ],
      "text/plain": [
       "function (pkgs, lib, repos = getOption(\"repos\"), contriburl = contrib.url(repos, \n",
       "    type), method, available = NULL, destdir = NULL, dependencies = NA, \n",
       "    type = getOption(\"pkgType\"), configure.args = getOption(\"configure.args\"), \n",
       "    configure.vars = getOption(\"configure.vars\"), clean = FALSE, \n",
       "    Ncpus = getOption(\"Ncpus\", 1L), verbose = getOption(\"verbose\"), \n",
       "    libs_only = FALSE, INSTALL_opts, quiet = FALSE, keep_outputs = FALSE, \n",
       "    ...) \n",
       "NULL"
      ]
     },
     "metadata": {},
     "output_type": "display_data"
    }
   ],
   "source": [
    "args(install.packages)"
   ]
  },
  {
   "cell_type": "code",
   "execution_count": 3,
   "metadata": {
    "scrolled": true
   },
   "outputs": [
    {
     "name": "stderr",
     "output_type": "stream",
     "text": [
      "Loading required package: maxLik\n",
      "\n",
      "Loading required package: miscTools\n",
      "\n",
      "\n",
      "Please cite the 'maxLik' package as:\n",
      "Henningsen, Arne and Toomet, Ott (2011). maxLik: A package for maximum likelihood estimation in R. Computational Statistics 26(3), 443-458. DOI 10.1007/s00180-010-0217-1.\n",
      "\n",
      "If you have questions, suggestions, or comments regarding the 'maxLik' package, please use a forum or 'tracker' at maxLik's R-Forge site:\n",
      "https://r-forge.r-project.org/projects/maxlik/\n",
      "\n"
     ]
    }
   ],
   "source": [
    "# Llamada de los datos\n",
    "# primera opción:\n",
    "library(sampleSelection)\n",
    "data('nlswork')"
   ]
  },
  {
   "cell_type": "code",
   "execution_count": 4,
   "metadata": {},
   "outputs": [],
   "source": [
    "# Segunda opción (no se va a ajecutar)\n",
    "# data('nlswork', package = 'sampleSelection')"
   ]
  },
  {
   "cell_type": "code",
   "execution_count": 5,
   "metadata": {},
   "outputs": [
    {
     "data": {
      "text/html": [
       "'nlswork'"
      ],
      "text/latex": [
       "'nlswork'"
      ],
      "text/markdown": [
       "'nlswork'"
      ],
      "text/plain": [
       "[1] \"nlswork\""
      ]
     },
     "metadata": {},
     "output_type": "display_data"
    }
   ],
   "source": [
    "# verificamos tener los objetos\n",
    "ls()"
   ]
  },
  {
   "cell_type": "markdown",
   "metadata": {},
   "source": [
    "### Para importar los datos desde internet\n",
    "\n",
    "Se debe instalar la librería `haven` y llamar los datos desde la url: http://www.stata-press.com/data/r9/nlswork.dta ((vamos a usar el archivo alojado en los manuales de stata) usando la orden `read_stata()`"
   ]
  },
  {
   "cell_type": "code",
   "execution_count": 6,
   "metadata": {},
   "outputs": [],
   "source": [
    "# Instalación del paquete si es necesaria (ninguna línea se ejecutará)\n",
    "# install.packages('haven')\n",
    "# library(haven)\n",
    "# nlswork_2 <- read_stata(url('http://www.stata-press.com/data/r9/nlswork.dta'))"
   ]
  },
  {
   "cell_type": "markdown",
   "metadata": {},
   "source": [
    "### Exploración de Datos\n",
    "\n",
    "Veamos algunos detalles del conjunto de datos, por ejemplo, la dimensión: ¿cuántas filas y cuántas columnas posee la tabla?"
   ]
  },
  {
   "cell_type": "code",
   "execution_count": 7,
   "metadata": {},
   "outputs": [
    {
     "data": {
      "text/html": [
       "<style>\n",
       ".list-inline {list-style: none; margin:0; padding: 0}\n",
       ".list-inline>li {display: inline-block}\n",
       ".list-inline>li:not(:last-child)::after {content: \"\\00b7\"; padding: 0 .5ex}\n",
       "</style>\n",
       "<ol class=list-inline><li>28534</li><li>21</li></ol>\n"
      ],
      "text/latex": [
       "\\begin{enumerate*}\n",
       "\\item 28534\n",
       "\\item 21\n",
       "\\end{enumerate*}\n"
      ],
      "text/markdown": [
       "1. 28534\n",
       "2. 21\n",
       "\n",
       "\n"
      ],
      "text/plain": [
       "[1] 28534    21"
      ]
     },
     "metadata": {},
     "output_type": "display_data"
    }
   ],
   "source": [
    "# Dimensiones\n",
    "dim(nlswork)"
   ]
  },
  {
   "cell_type": "code",
   "execution_count": 8,
   "metadata": {},
   "outputs": [
    {
     "data": {
      "text/html": [
       "<table>\n",
       "<caption>A data.frame: 10 × 21</caption>\n",
       "<thead>\n",
       "\t<tr><th></th><th scope=col>idcode</th><th scope=col>year</th><th scope=col>birth_yr</th><th scope=col>age</th><th scope=col>race</th><th scope=col>msp</th><th scope=col>nev_mar</th><th scope=col>grade</th><th scope=col>collgrad</th><th scope=col>not_smsa</th><th scope=col>...</th><th scope=col>south</th><th scope=col>ind_code</th><th scope=col>occ_code</th><th scope=col>union</th><th scope=col>wks_ue</th><th scope=col>ttl_exp</th><th scope=col>tenure</th><th scope=col>hours</th><th scope=col>wks_work</th><th scope=col>ln_wage</th></tr>\n",
       "\t<tr><th></th><th scope=col>&lt;int&gt;</th><th scope=col>&lt;int&gt;</th><th scope=col>&lt;int&gt;</th><th scope=col>&lt;int&gt;</th><th scope=col>&lt;int&gt;</th><th scope=col>&lt;int&gt;</th><th scope=col>&lt;int&gt;</th><th scope=col>&lt;int&gt;</th><th scope=col>&lt;int&gt;</th><th scope=col>&lt;int&gt;</th><th scope=col>...</th><th scope=col>&lt;int&gt;</th><th scope=col>&lt;int&gt;</th><th scope=col>&lt;int&gt;</th><th scope=col>&lt;int&gt;</th><th scope=col>&lt;int&gt;</th><th scope=col>&lt;dbl&gt;</th><th scope=col>&lt;dbl&gt;</th><th scope=col>&lt;int&gt;</th><th scope=col>&lt;int&gt;</th><th scope=col>&lt;dbl&gt;</th></tr>\n",
       "</thead>\n",
       "<tbody>\n",
       "\t<tr><th scope=row>1</th><td>1</td><td>70</td><td>51</td><td>18</td><td>2</td><td>0</td><td>1</td><td>12</td><td>0</td><td>0</td><td>...</td><td>0</td><td> 6</td><td>3</td><td>NA</td><td> 2</td><td>1.083333</td><td>0.08333334</td><td>20</td><td> 27</td><td>1.451214</td></tr>\n",
       "\t<tr><th scope=row>2</th><td>1</td><td>71</td><td>51</td><td>19</td><td>2</td><td>1</td><td>0</td><td>12</td><td>0</td><td>0</td><td>...</td><td>0</td><td> 4</td><td>6</td><td>NA</td><td>22</td><td>1.275641</td><td>0.08333334</td><td>44</td><td> 10</td><td>1.028620</td></tr>\n",
       "\t<tr><th scope=row>3</th><td>1</td><td>72</td><td>51</td><td>20</td><td>2</td><td>1</td><td>0</td><td>12</td><td>0</td><td>0</td><td>...</td><td>0</td><td> 4</td><td>6</td><td> 1</td><td> 0</td><td>2.256410</td><td>0.91666669</td><td>40</td><td> 51</td><td>1.589977</td></tr>\n",
       "\t<tr><th scope=row>4</th><td>1</td><td>73</td><td>51</td><td>21</td><td>2</td><td>1</td><td>0</td><td>12</td><td>0</td><td>0</td><td>...</td><td>0</td><td> 4</td><td>6</td><td>NA</td><td> 0</td><td>2.314102</td><td>0.08333334</td><td>40</td><td>  3</td><td>1.780273</td></tr>\n",
       "\t<tr><th scope=row>5</th><td>1</td><td>75</td><td>51</td><td>23</td><td>2</td><td>1</td><td>0</td><td>12</td><td>0</td><td>0</td><td>...</td><td>0</td><td> 5</td><td>6</td><td>NA</td><td> 0</td><td>2.775641</td><td>0.16666667</td><td>10</td><td> 24</td><td>1.777012</td></tr>\n",
       "\t<tr><th scope=row>6</th><td>1</td><td>77</td><td>51</td><td>25</td><td>2</td><td>0</td><td>0</td><td>12</td><td>0</td><td>0</td><td>...</td><td>0</td><td>12</td><td>8</td><td> 0</td><td> 0</td><td>3.775641</td><td>1.50000000</td><td>32</td><td> 52</td><td>1.778681</td></tr>\n",
       "\t<tr><th scope=row>7</th><td>1</td><td>78</td><td>51</td><td>26</td><td>2</td><td>0</td><td>0</td><td>12</td><td>0</td><td>0</td><td>...</td><td>0</td><td> 5</td><td>6</td><td>NA</td><td> 7</td><td>3.852564</td><td>0.08333334</td><td>52</td><td>  4</td><td>2.493976</td></tr>\n",
       "\t<tr><th scope=row>8</th><td>1</td><td>80</td><td>51</td><td>28</td><td>2</td><td>0</td><td>0</td><td>12</td><td>0</td><td>0</td><td>...</td><td>0</td><td> 5</td><td>6</td><td> 1</td><td> 0</td><td>5.294872</td><td>1.83333337</td><td>45</td><td> 75</td><td>2.551715</td></tr>\n",
       "\t<tr><th scope=row>9</th><td>1</td><td>83</td><td>51</td><td>31</td><td>2</td><td>0</td><td>0</td><td>12</td><td>0</td><td>0</td><td>...</td><td>0</td><td> 5</td><td>6</td><td> 1</td><td>NA</td><td>5.294872</td><td>0.66666669</td><td>49</td><td>101</td><td>2.420261</td></tr>\n",
       "\t<tr><th scope=row>10</th><td>1</td><td>85</td><td>51</td><td>33</td><td>2</td><td>0</td><td>0</td><td>12</td><td>0</td><td>0</td><td>...</td><td>0</td><td> 5</td><td>6</td><td> 1</td><td> 0</td><td>7.160256</td><td>1.91666663</td><td>42</td><td> 97</td><td>2.614172</td></tr>\n",
       "</tbody>\n",
       "</table>\n"
      ],
      "text/latex": [
       "A data.frame: 10 × 21\n",
       "\\begin{tabular}{r|lllllllllllllllllllll}\n",
       "  & idcode & year & birth\\_yr & age & race & msp & nev\\_mar & grade & collgrad & not\\_smsa & ... & south & ind\\_code & occ\\_code & union & wks\\_ue & ttl\\_exp & tenure & hours & wks\\_work & ln\\_wage\\\\\n",
       "  & <int> & <int> & <int> & <int> & <int> & <int> & <int> & <int> & <int> & <int> & ... & <int> & <int> & <int> & <int> & <int> & <dbl> & <dbl> & <int> & <int> & <dbl>\\\\\n",
       "\\hline\n",
       "\t1 & 1 & 70 & 51 & 18 & 2 & 0 & 1 & 12 & 0 & 0 & ... & 0 &  6 & 3 & NA &  2 & 1.083333 & 0.08333334 & 20 &  27 & 1.451214\\\\\n",
       "\t2 & 1 & 71 & 51 & 19 & 2 & 1 & 0 & 12 & 0 & 0 & ... & 0 &  4 & 6 & NA & 22 & 1.275641 & 0.08333334 & 44 &  10 & 1.028620\\\\\n",
       "\t3 & 1 & 72 & 51 & 20 & 2 & 1 & 0 & 12 & 0 & 0 & ... & 0 &  4 & 6 &  1 &  0 & 2.256410 & 0.91666669 & 40 &  51 & 1.589977\\\\\n",
       "\t4 & 1 & 73 & 51 & 21 & 2 & 1 & 0 & 12 & 0 & 0 & ... & 0 &  4 & 6 & NA &  0 & 2.314102 & 0.08333334 & 40 &   3 & 1.780273\\\\\n",
       "\t5 & 1 & 75 & 51 & 23 & 2 & 1 & 0 & 12 & 0 & 0 & ... & 0 &  5 & 6 & NA &  0 & 2.775641 & 0.16666667 & 10 &  24 & 1.777012\\\\\n",
       "\t6 & 1 & 77 & 51 & 25 & 2 & 0 & 0 & 12 & 0 & 0 & ... & 0 & 12 & 8 &  0 &  0 & 3.775641 & 1.50000000 & 32 &  52 & 1.778681\\\\\n",
       "\t7 & 1 & 78 & 51 & 26 & 2 & 0 & 0 & 12 & 0 & 0 & ... & 0 &  5 & 6 & NA &  7 & 3.852564 & 0.08333334 & 52 &   4 & 2.493976\\\\\n",
       "\t8 & 1 & 80 & 51 & 28 & 2 & 0 & 0 & 12 & 0 & 0 & ... & 0 &  5 & 6 &  1 &  0 & 5.294872 & 1.83333337 & 45 &  75 & 2.551715\\\\\n",
       "\t9 & 1 & 83 & 51 & 31 & 2 & 0 & 0 & 12 & 0 & 0 & ... & 0 &  5 & 6 &  1 & NA & 5.294872 & 0.66666669 & 49 & 101 & 2.420261\\\\\n",
       "\t10 & 1 & 85 & 51 & 33 & 2 & 0 & 0 & 12 & 0 & 0 & ... & 0 &  5 & 6 &  1 &  0 & 7.160256 & 1.91666663 & 42 &  97 & 2.614172\\\\\n",
       "\\end{tabular}\n"
      ],
      "text/markdown": [
       "\n",
       "A data.frame: 10 × 21\n",
       "\n",
       "| <!--/--> | idcode &lt;int&gt; | year &lt;int&gt; | birth_yr &lt;int&gt; | age &lt;int&gt; | race &lt;int&gt; | msp &lt;int&gt; | nev_mar &lt;int&gt; | grade &lt;int&gt; | collgrad &lt;int&gt; | not_smsa &lt;int&gt; | ... ... | south &lt;int&gt; | ind_code &lt;int&gt; | occ_code &lt;int&gt; | union &lt;int&gt; | wks_ue &lt;int&gt; | ttl_exp &lt;dbl&gt; | tenure &lt;dbl&gt; | hours &lt;int&gt; | wks_work &lt;int&gt; | ln_wage &lt;dbl&gt; |\n",
       "|---|---|---|---|---|---|---|---|---|---|---|---|---|---|---|---|---|---|---|---|---|---|\n",
       "| 1 | 1 | 70 | 51 | 18 | 2 | 0 | 1 | 12 | 0 | 0 | ... | 0 |  6 | 3 | NA |  2 | 1.083333 | 0.08333334 | 20 |  27 | 1.451214 |\n",
       "| 2 | 1 | 71 | 51 | 19 | 2 | 1 | 0 | 12 | 0 | 0 | ... | 0 |  4 | 6 | NA | 22 | 1.275641 | 0.08333334 | 44 |  10 | 1.028620 |\n",
       "| 3 | 1 | 72 | 51 | 20 | 2 | 1 | 0 | 12 | 0 | 0 | ... | 0 |  4 | 6 |  1 |  0 | 2.256410 | 0.91666669 | 40 |  51 | 1.589977 |\n",
       "| 4 | 1 | 73 | 51 | 21 | 2 | 1 | 0 | 12 | 0 | 0 | ... | 0 |  4 | 6 | NA |  0 | 2.314102 | 0.08333334 | 40 |   3 | 1.780273 |\n",
       "| 5 | 1 | 75 | 51 | 23 | 2 | 1 | 0 | 12 | 0 | 0 | ... | 0 |  5 | 6 | NA |  0 | 2.775641 | 0.16666667 | 10 |  24 | 1.777012 |\n",
       "| 6 | 1 | 77 | 51 | 25 | 2 | 0 | 0 | 12 | 0 | 0 | ... | 0 | 12 | 8 |  0 |  0 | 3.775641 | 1.50000000 | 32 |  52 | 1.778681 |\n",
       "| 7 | 1 | 78 | 51 | 26 | 2 | 0 | 0 | 12 | 0 | 0 | ... | 0 |  5 | 6 | NA |  7 | 3.852564 | 0.08333334 | 52 |   4 | 2.493976 |\n",
       "| 8 | 1 | 80 | 51 | 28 | 2 | 0 | 0 | 12 | 0 | 0 | ... | 0 |  5 | 6 |  1 |  0 | 5.294872 | 1.83333337 | 45 |  75 | 2.551715 |\n",
       "| 9 | 1 | 83 | 51 | 31 | 2 | 0 | 0 | 12 | 0 | 0 | ... | 0 |  5 | 6 |  1 | NA | 5.294872 | 0.66666669 | 49 | 101 | 2.420261 |\n",
       "| 10 | 1 | 85 | 51 | 33 | 2 | 0 | 0 | 12 | 0 | 0 | ... | 0 |  5 | 6 |  1 |  0 | 7.160256 | 1.91666663 | 42 |  97 | 2.614172 |\n",
       "\n"
      ],
      "text/plain": [
       "   idcode year birth_yr age race msp nev_mar grade collgrad not_smsa ... south\n",
       "1  1      70   51       18  2    0   1       12    0        0        ... 0    \n",
       "2  1      71   51       19  2    1   0       12    0        0        ... 0    \n",
       "3  1      72   51       20  2    1   0       12    0        0        ... 0    \n",
       "4  1      73   51       21  2    1   0       12    0        0        ... 0    \n",
       "5  1      75   51       23  2    1   0       12    0        0        ... 0    \n",
       "6  1      77   51       25  2    0   0       12    0        0        ... 0    \n",
       "7  1      78   51       26  2    0   0       12    0        0        ... 0    \n",
       "8  1      80   51       28  2    0   0       12    0        0        ... 0    \n",
       "9  1      83   51       31  2    0   0       12    0        0        ... 0    \n",
       "10 1      85   51       33  2    0   0       12    0        0        ... 0    \n",
       "   ind_code occ_code union wks_ue ttl_exp  tenure     hours wks_work ln_wage \n",
       "1   6       3        NA     2     1.083333 0.08333334 20     27      1.451214\n",
       "2   4       6        NA    22     1.275641 0.08333334 44     10      1.028620\n",
       "3   4       6         1     0     2.256410 0.91666669 40     51      1.589977\n",
       "4   4       6        NA     0     2.314102 0.08333334 40      3      1.780273\n",
       "5   5       6        NA     0     2.775641 0.16666667 10     24      1.777012\n",
       "6  12       8         0     0     3.775641 1.50000000 32     52      1.778681\n",
       "7   5       6        NA     7     3.852564 0.08333334 52      4      2.493976\n",
       "8   5       6         1     0     5.294872 1.83333337 45     75      2.551715\n",
       "9   5       6         1    NA     5.294872 0.66666669 49    101      2.420261\n",
       "10  5       6         1     0     7.160256 1.91666663 42     97      2.614172"
      ]
     },
     "metadata": {},
     "output_type": "display_data"
    }
   ],
   "source": [
    "# Encabezado de la tabla:\n",
    "head(nlswork, 10)"
   ]
  },
  {
   "cell_type": "code",
   "execution_count": 9,
   "metadata": {},
   "outputs": [
    {
     "name": "stdout",
     "output_type": "stream",
     "text": [
      "'data.frame':\t28534 obs. of  21 variables:\n",
      " $ idcode  : int  1 1 1 1 1 1 1 1 1 1 ...\n",
      " $ year    : int  70 71 72 73 75 77 78 80 83 85 ...\n",
      " $ birth_yr: int  51 51 51 51 51 51 51 51 51 51 ...\n",
      " $ age     : int  18 19 20 21 23 25 26 28 31 33 ...\n",
      " $ race    : int  2 2 2 2 2 2 2 2 2 2 ...\n",
      " $ msp     : int  0 1 1 1 1 0 0 0 0 0 ...\n",
      " $ nev_mar : int  1 0 0 0 0 0 0 0 0 0 ...\n",
      " $ grade   : int  12 12 12 12 12 12 12 12 12 12 ...\n",
      " $ collgrad: int  0 0 0 0 0 0 0 0 0 0 ...\n",
      " $ not_smsa: int  0 0 0 0 0 0 0 0 0 0 ...\n",
      " $ c_city  : int  1 1 1 1 1 1 1 1 1 1 ...\n",
      " $ south   : int  0 0 0 0 0 0 0 0 0 0 ...\n",
      " $ ind_code: int  6 4 4 4 5 12 5 5 5 5 ...\n",
      " $ occ_code: int  3 6 6 6 6 8 6 6 6 6 ...\n",
      " $ union   : int  NA NA 1 NA NA 0 NA 1 1 1 ...\n",
      " $ wks_ue  : int  2 22 0 0 0 0 7 0 NA 0 ...\n",
      " $ ttl_exp : num  1.08 1.28 2.26 2.31 2.78 ...\n",
      " $ tenure  : num  0.0833 0.0833 0.9167 0.0833 0.1667 ...\n",
      " $ hours   : int  20 44 40 40 10 32 52 45 49 42 ...\n",
      " $ wks_work: int  27 10 51 3 24 52 4 75 101 97 ...\n",
      " $ ln_wage : num  1.45 1.03 1.59 1.78 1.78 ...\n",
      " - attr(*, \"datalabel\")= chr \"National Longitudinal Survey.  Young Women 14-26 years of age in 1968\"\n",
      " - attr(*, \"time.stamp\")= chr \" 7 Dec 2006 17:02\"\n",
      " - attr(*, \"formats\")= chr [1:21] \"%8.0g\" \"%8.0g\" \"%8.0g\" \"%8.0g\" ...\n",
      " - attr(*, \"types\")= int [1:21] 252 251 251 251 251 251 251 251 251 251 ...\n",
      " - attr(*, \"val.labels\")= chr [1:21] \"\" \"\" \"\" \"\" ...\n",
      " - attr(*, \"var.labels\")= chr [1:21] \"NLS ID\" \"interview year\" \"birth year\" \"age in current year\" ...\n",
      " - attr(*, \"version\")= int 10\n"
     ]
    }
   ],
   "source": [
    "# Estructura de la tabla\n",
    "str(nlswork)"
   ]
  },
  {
   "cell_type": "code",
   "execution_count": 10,
   "metadata": {},
   "outputs": [
    {
     "data": {
      "text/html": [
       "'data.frame'"
      ],
      "text/latex": [
       "'data.frame'"
      ],
      "text/markdown": [
       "'data.frame'"
      ],
      "text/plain": [
       "[1] \"data.frame\""
      ]
     },
     "metadata": {},
     "output_type": "display_data"
    }
   ],
   "source": [
    "# Tipo de objeto que se tiene:\n",
    "class(nlswork)"
   ]
  },
  {
   "cell_type": "markdown",
   "metadata": {},
   "source": [
    "Hagamos algunas adaptaciones de los datos. La tabla presenta todo en formato numérico (esto se debe al origen de los datos) y variables como `race`, `msp`, `nev_mar` y otras son categóricas. Procederemos con la función `factor` para crear las categorías:"
   ]
  },
  {
   "cell_type": "code",
   "execution_count": 11,
   "metadata": {},
   "outputs": [],
   "source": [
    "nlswork$raza <- factor(nlswork$race, levels = c(1,2,3), labels = c('Blanca', 'Negra', 'Otra'))"
   ]
  },
  {
   "cell_type": "code",
   "execution_count": 12,
   "metadata": {},
   "outputs": [
    {
     "data": {
      "text/plain": [
       "      race           raza      \n",
       " Min.   :1.000   Blanca:20180  \n",
       " 1st Qu.:1.000   Negra : 8051  \n",
       " Median :1.000   Otra  :  303  \n",
       " Mean   :1.303                 \n",
       " 3rd Qu.:2.000                 \n",
       " Max.   :3.000                 "
      ]
     },
     "metadata": {},
     "output_type": "display_data"
    }
   ],
   "source": [
    "summary(nlswork[,c('race','raza')])"
   ]
  },
  {
   "cell_type": "code",
   "execution_count": 13,
   "metadata": {},
   "outputs": [
    {
     "data": {
      "text/plain": [
       "      race           raza     \n",
       " Min.   :1.000   Blanca:1014  \n",
       " 1st Qu.:1.000   Negra : 350  \n",
       " Median :1.000   Otra  :  11  \n",
       " Mean   :1.271                \n",
       " 3rd Qu.:2.000                \n",
       " Max.   :3.000                "
      ]
     },
     "metadata": {},
     "output_type": "display_data"
    }
   ],
   "source": [
    "summary(nlswork[nlswork$year=='68',c('race','raza')])"
   ]
  },
  {
   "cell_type": "code",
   "execution_count": 14,
   "metadata": {},
   "outputs": [],
   "source": [
    "nlswork$casada <- factor(nlswork$msp, levels = c(1,0), labels = c('Está Casada', 'No Está Casada'))"
   ]
  },
  {
   "cell_type": "code",
   "execution_count": 15,
   "metadata": {},
   "outputs": [
    {
     "data": {
      "text/plain": [
       "      msp                    casada     \n",
       " Min.   :0.0000   Está Casada   :17194  \n",
       " 1st Qu.:0.0000   No Está Casada:11324  \n",
       " Median :1.0000   NA's          :   16  \n",
       " Mean   :0.6029                         \n",
       " 3rd Qu.:1.0000                         \n",
       " Max.   :1.0000                         \n",
       " NA's   :16                             "
      ]
     },
     "metadata": {},
     "output_type": "display_data"
    }
   ],
   "source": [
    "summary(nlswork[,c('msp','casada')])"
   ]
  },
  {
   "cell_type": "code",
   "execution_count": 16,
   "metadata": {},
   "outputs": [
    {
     "data": {
      "text/html": [
       "<table>\n",
       "<caption>A table: 4 × 3 of type dbl</caption>\n",
       "<thead>\n",
       "\t<tr><th></th><th scope=col>Está Casada</th><th scope=col>No Está Casada</th><th scope=col>Sum</th></tr>\n",
       "</thead>\n",
       "<tbody>\n",
       "\t<tr><th scope=row>Blanca</th><td>46.71</td><td>24.03</td><td> 70.74</td></tr>\n",
       "\t<tr><th scope=row>Negra</th><td>12.91</td><td>15.29</td><td> 28.20</td></tr>\n",
       "\t<tr><th scope=row>Otra</th><td> 0.67</td><td> 0.39</td><td>  1.06</td></tr>\n",
       "\t<tr><th scope=row>Sum</th><td>60.29</td><td>39.71</td><td>100.00</td></tr>\n",
       "</tbody>\n",
       "</table>\n"
      ],
      "text/latex": [
       "A table: 4 × 3 of type dbl\n",
       "\\begin{tabular}{r|lll}\n",
       "  & Está Casada & No Está Casada & Sum\\\\\n",
       "\\hline\n",
       "\tBlanca & 46.71 & 24.03 &  70.74\\\\\n",
       "\tNegra & 12.91 & 15.29 &  28.20\\\\\n",
       "\tOtra &  0.67 &  0.39 &   1.06\\\\\n",
       "\tSum & 60.29 & 39.71 & 100.00\\\\\n",
       "\\end{tabular}\n"
      ],
      "text/markdown": [
       "\n",
       "A table: 4 × 3 of type dbl\n",
       "\n",
       "| <!--/--> | Está Casada | No Está Casada | Sum |\n",
       "|---|---|---|---|\n",
       "| Blanca | 46.71 | 24.03 |  70.74 |\n",
       "| Negra | 12.91 | 15.29 |  28.20 |\n",
       "| Otra |  0.67 |  0.39 |   1.06 |\n",
       "| Sum | 60.29 | 39.71 | 100.00 |\n",
       "\n"
      ],
      "text/plain": [
       "        casada\n",
       "raza     Está Casada No Está Casada Sum   \n",
       "  Blanca 46.71       24.03           70.74\n",
       "  Negra  12.91       15.29           28.20\n",
       "  Otra    0.67        0.39            1.06\n",
       "  Sum    60.29       39.71          100.00"
      ]
     },
     "metadata": {},
     "output_type": "display_data"
    }
   ],
   "source": [
    "with(nlswork, round(100*addmargins(prop.table(table(raza,casada))),2))"
   ]
  },
  {
   "cell_type": "code",
   "execution_count": 17,
   "metadata": {},
   "outputs": [],
   "source": [
    "nlswork$se_caso <- factor(nlswork$nev_mar, levels = c(1,0), labels = c('Nunca Se Casó', 'Se Casó'))"
   ]
  },
  {
   "cell_type": "code",
   "execution_count": 18,
   "metadata": {
    "scrolled": true
   },
   "outputs": [
    {
     "data": {
      "text/html": [
       "<table>\n",
       "<caption>A table: 3 × 3 of type dbl</caption>\n",
       "<thead>\n",
       "\t<tr><th></th><th scope=col>Está Casada</th><th scope=col>No Está Casada</th><th scope=col>Sum</th></tr>\n",
       "</thead>\n",
       "<tbody>\n",
       "\t<tr><th scope=row>Nunca Se Casó</th><td> 0.00</td><td>22.97</td><td> 22.97</td></tr>\n",
       "\t<tr><th scope=row>Se Casó</th><td>60.29</td><td>16.74</td><td> 77.03</td></tr>\n",
       "\t<tr><th scope=row>Sum</th><td>60.29</td><td>39.71</td><td>100.00</td></tr>\n",
       "</tbody>\n",
       "</table>\n"
      ],
      "text/latex": [
       "A table: 3 × 3 of type dbl\n",
       "\\begin{tabular}{r|lll}\n",
       "  & Está Casada & No Está Casada & Sum\\\\\n",
       "\\hline\n",
       "\tNunca Se Casó &  0.00 & 22.97 &  22.97\\\\\n",
       "\tSe Casó & 60.29 & 16.74 &  77.03\\\\\n",
       "\tSum & 60.29 & 39.71 & 100.00\\\\\n",
       "\\end{tabular}\n"
      ],
      "text/markdown": [
       "\n",
       "A table: 3 × 3 of type dbl\n",
       "\n",
       "| <!--/--> | Está Casada | No Está Casada | Sum |\n",
       "|---|---|---|---|\n",
       "| Nunca Se Casó |  0.00 | 22.97 |  22.97 |\n",
       "| Se Casó | 60.29 | 16.74 |  77.03 |\n",
       "| Sum | 60.29 | 39.71 | 100.00 |\n",
       "\n"
      ],
      "text/plain": [
       "               casada\n",
       "se_caso         Está Casada No Está Casada Sum   \n",
       "  Nunca Se Casó  0.00       22.97           22.97\n",
       "  Se Casó       60.29       16.74           77.03\n",
       "  Sum           60.29       39.71          100.00"
      ]
     },
     "metadata": {},
     "output_type": "display_data"
    }
   ],
   "source": [
    "with(nlswork, round(100*addmargins(prop.table(table(se_caso,casada))),2))"
   ]
  },
  {
   "cell_type": "code",
   "execution_count": 19,
   "metadata": {},
   "outputs": [],
   "source": [
    "nlswork$universidad <- factor(nlswork$collgrad, levels = c(1,0), labels = c('Se Graduó U','No Se Graduó U'))"
   ]
  },
  {
   "cell_type": "code",
   "execution_count": 20,
   "metadata": {},
   "outputs": [
    {
     "data": {
      "text/html": [
       "<table>\n",
       "<caption>A table: 3 × 3 of type dbl</caption>\n",
       "<thead>\n",
       "\t<tr><th></th><th scope=col>Se Graduó U</th><th scope=col>No Se Graduó U</th><th scope=col>Sum</th></tr>\n",
       "</thead>\n",
       "<tbody>\n",
       "\t<tr><th scope=row>Nunca Se Casó</th><td> 4.20</td><td>18.77</td><td> 22.97</td></tr>\n",
       "\t<tr><th scope=row>Se Casó</th><td>12.61</td><td>64.43</td><td> 77.03</td></tr>\n",
       "\t<tr><th scope=row>Sum</th><td>16.80</td><td>83.20</td><td>100.00</td></tr>\n",
       "</tbody>\n",
       "</table>\n"
      ],
      "text/latex": [
       "A table: 3 × 3 of type dbl\n",
       "\\begin{tabular}{r|lll}\n",
       "  & Se Graduó U & No Se Graduó U & Sum\\\\\n",
       "\\hline\n",
       "\tNunca Se Casó &  4.20 & 18.77 &  22.97\\\\\n",
       "\tSe Casó & 12.61 & 64.43 &  77.03\\\\\n",
       "\tSum & 16.80 & 83.20 & 100.00\\\\\n",
       "\\end{tabular}\n"
      ],
      "text/markdown": [
       "\n",
       "A table: 3 × 3 of type dbl\n",
       "\n",
       "| <!--/--> | Se Graduó U | No Se Graduó U | Sum |\n",
       "|---|---|---|---|\n",
       "| Nunca Se Casó |  4.20 | 18.77 |  22.97 |\n",
       "| Se Casó | 12.61 | 64.43 |  77.03 |\n",
       "| Sum | 16.80 | 83.20 | 100.00 |\n",
       "\n"
      ],
      "text/plain": [
       "               universidad\n",
       "se_caso         Se Graduó U No Se Graduó U Sum   \n",
       "  Nunca Se Casó  4.20       18.77           22.97\n",
       "  Se Casó       12.61       64.43           77.03\n",
       "  Sum           16.80       83.20          100.00"
      ]
     },
     "metadata": {},
     "output_type": "display_data"
    }
   ],
   "source": [
    "with(nlswork, round(100*addmargins(prop.table(table(se_caso,universidad))),2))"
   ]
  },
  {
   "cell_type": "code",
   "execution_count": 21,
   "metadata": {},
   "outputs": [
    {
     "data": {
      "text/html": [
       "<table>\n",
       "<caption>A table: 3 × 3 of type dbl</caption>\n",
       "<thead>\n",
       "\t<tr><th></th><th scope=col>Se Graduó U</th><th scope=col>No Se Graduó U</th><th scope=col>Sum</th></tr>\n",
       "</thead>\n",
       "<tbody>\n",
       "\t<tr><th scope=row>Está Casada</th><td>10.39</td><td>49.91</td><td> 60.29</td></tr>\n",
       "\t<tr><th scope=row>No Está Casada</th><td> 6.42</td><td>33.29</td><td> 39.71</td></tr>\n",
       "\t<tr><th scope=row>Sum</th><td>16.80</td><td>83.20</td><td>100.00</td></tr>\n",
       "</tbody>\n",
       "</table>\n"
      ],
      "text/latex": [
       "A table: 3 × 3 of type dbl\n",
       "\\begin{tabular}{r|lll}\n",
       "  & Se Graduó U & No Se Graduó U & Sum\\\\\n",
       "\\hline\n",
       "\tEstá Casada & 10.39 & 49.91 &  60.29\\\\\n",
       "\tNo Está Casada &  6.42 & 33.29 &  39.71\\\\\n",
       "\tSum & 16.80 & 83.20 & 100.00\\\\\n",
       "\\end{tabular}\n"
      ],
      "text/markdown": [
       "\n",
       "A table: 3 × 3 of type dbl\n",
       "\n",
       "| <!--/--> | Se Graduó U | No Se Graduó U | Sum |\n",
       "|---|---|---|---|\n",
       "| Está Casada | 10.39 | 49.91 |  60.29 |\n",
       "| No Está Casada |  6.42 | 33.29 |  39.71 |\n",
       "| Sum | 16.80 | 83.20 | 100.00 |\n",
       "\n"
      ],
      "text/plain": [
       "                universidad\n",
       "casada           Se Graduó U No Se Graduó U Sum   \n",
       "  Está Casada    10.39       49.91           60.29\n",
       "  No Está Casada  6.42       33.29           39.71\n",
       "  Sum            16.80       83.20          100.00"
      ]
     },
     "metadata": {},
     "output_type": "display_data"
    }
   ],
   "source": [
    "with(nlswork, round(100*addmargins(prop.table(table(casada,universidad))),2))"
   ]
  },
  {
   "cell_type": "code",
   "execution_count": 22,
   "metadata": {},
   "outputs": [
    {
     "data": {
      "text/html": [
       "<table>\n",
       "<caption>A data.frame: 6 × 25</caption>\n",
       "<thead>\n",
       "\t<tr><th></th><th scope=col>idcode</th><th scope=col>year</th><th scope=col>birth_yr</th><th scope=col>age</th><th scope=col>race</th><th scope=col>msp</th><th scope=col>nev_mar</th><th scope=col>grade</th><th scope=col>collgrad</th><th scope=col>not_smsa</th><th scope=col>...</th><th scope=col>wks_ue</th><th scope=col>ttl_exp</th><th scope=col>tenure</th><th scope=col>hours</th><th scope=col>wks_work</th><th scope=col>ln_wage</th><th scope=col>raza</th><th scope=col>casada</th><th scope=col>se_caso</th><th scope=col>universidad</th></tr>\n",
       "\t<tr><th></th><th scope=col>&lt;int&gt;</th><th scope=col>&lt;int&gt;</th><th scope=col>&lt;int&gt;</th><th scope=col>&lt;int&gt;</th><th scope=col>&lt;int&gt;</th><th scope=col>&lt;int&gt;</th><th scope=col>&lt;int&gt;</th><th scope=col>&lt;int&gt;</th><th scope=col>&lt;int&gt;</th><th scope=col>&lt;int&gt;</th><th scope=col>...</th><th scope=col>&lt;int&gt;</th><th scope=col>&lt;dbl&gt;</th><th scope=col>&lt;dbl&gt;</th><th scope=col>&lt;int&gt;</th><th scope=col>&lt;int&gt;</th><th scope=col>&lt;dbl&gt;</th><th scope=col>&lt;fct&gt;</th><th scope=col>&lt;fct&gt;</th><th scope=col>&lt;fct&gt;</th><th scope=col>&lt;fct&gt;</th></tr>\n",
       "</thead>\n",
       "<tbody>\n",
       "\t<tr><th scope=row>1</th><td>1</td><td>70</td><td>51</td><td>18</td><td>2</td><td>0</td><td>1</td><td>12</td><td>0</td><td>0</td><td>...</td><td> 2</td><td>1.083333</td><td>0.08333334</td><td>20</td><td>27</td><td>1.451214</td><td>Negra</td><td>No Está Casada</td><td>Nunca Se Casó</td><td>No Se Graduó U</td></tr>\n",
       "\t<tr><th scope=row>2</th><td>1</td><td>71</td><td>51</td><td>19</td><td>2</td><td>1</td><td>0</td><td>12</td><td>0</td><td>0</td><td>...</td><td>22</td><td>1.275641</td><td>0.08333334</td><td>44</td><td>10</td><td>1.028620</td><td>Negra</td><td>Está Casada   </td><td>Se Casó      </td><td>No Se Graduó U</td></tr>\n",
       "\t<tr><th scope=row>3</th><td>1</td><td>72</td><td>51</td><td>20</td><td>2</td><td>1</td><td>0</td><td>12</td><td>0</td><td>0</td><td>...</td><td> 0</td><td>2.256410</td><td>0.91666669</td><td>40</td><td>51</td><td>1.589977</td><td>Negra</td><td>Está Casada   </td><td>Se Casó      </td><td>No Se Graduó U</td></tr>\n",
       "\t<tr><th scope=row>4</th><td>1</td><td>73</td><td>51</td><td>21</td><td>2</td><td>1</td><td>0</td><td>12</td><td>0</td><td>0</td><td>...</td><td> 0</td><td>2.314102</td><td>0.08333334</td><td>40</td><td> 3</td><td>1.780273</td><td>Negra</td><td>Está Casada   </td><td>Se Casó      </td><td>No Se Graduó U</td></tr>\n",
       "\t<tr><th scope=row>5</th><td>1</td><td>75</td><td>51</td><td>23</td><td>2</td><td>1</td><td>0</td><td>12</td><td>0</td><td>0</td><td>...</td><td> 0</td><td>2.775641</td><td>0.16666667</td><td>10</td><td>24</td><td>1.777012</td><td>Negra</td><td>Está Casada   </td><td>Se Casó      </td><td>No Se Graduó U</td></tr>\n",
       "\t<tr><th scope=row>6</th><td>1</td><td>77</td><td>51</td><td>25</td><td>2</td><td>0</td><td>0</td><td>12</td><td>0</td><td>0</td><td>...</td><td> 0</td><td>3.775641</td><td>1.50000000</td><td>32</td><td>52</td><td>1.778681</td><td>Negra</td><td>No Está Casada</td><td>Se Casó      </td><td>No Se Graduó U</td></tr>\n",
       "</tbody>\n",
       "</table>\n"
      ],
      "text/latex": [
       "A data.frame: 6 × 25\n",
       "\\begin{tabular}{r|lllllllllllllllllllll}\n",
       "  & idcode & year & birth\\_yr & age & race & msp & nev\\_mar & grade & collgrad & not\\_smsa & ... & wks\\_ue & ttl\\_exp & tenure & hours & wks\\_work & ln\\_wage & raza & casada & se\\_caso & universidad\\\\\n",
       "  & <int> & <int> & <int> & <int> & <int> & <int> & <int> & <int> & <int> & <int> & ... & <int> & <dbl> & <dbl> & <int> & <int> & <dbl> & <fct> & <fct> & <fct> & <fct>\\\\\n",
       "\\hline\n",
       "\t1 & 1 & 70 & 51 & 18 & 2 & 0 & 1 & 12 & 0 & 0 & ... &  2 & 1.083333 & 0.08333334 & 20 & 27 & 1.451214 & Negra & No Está Casada & Nunca Se Casó & No Se Graduó U\\\\\n",
       "\t2 & 1 & 71 & 51 & 19 & 2 & 1 & 0 & 12 & 0 & 0 & ... & 22 & 1.275641 & 0.08333334 & 44 & 10 & 1.028620 & Negra & Está Casada    & Se Casó       & No Se Graduó U\\\\\n",
       "\t3 & 1 & 72 & 51 & 20 & 2 & 1 & 0 & 12 & 0 & 0 & ... &  0 & 2.256410 & 0.91666669 & 40 & 51 & 1.589977 & Negra & Está Casada    & Se Casó       & No Se Graduó U\\\\\n",
       "\t4 & 1 & 73 & 51 & 21 & 2 & 1 & 0 & 12 & 0 & 0 & ... &  0 & 2.314102 & 0.08333334 & 40 &  3 & 1.780273 & Negra & Está Casada    & Se Casó       & No Se Graduó U\\\\\n",
       "\t5 & 1 & 75 & 51 & 23 & 2 & 1 & 0 & 12 & 0 & 0 & ... &  0 & 2.775641 & 0.16666667 & 10 & 24 & 1.777012 & Negra & Está Casada    & Se Casó       & No Se Graduó U\\\\\n",
       "\t6 & 1 & 77 & 51 & 25 & 2 & 0 & 0 & 12 & 0 & 0 & ... &  0 & 3.775641 & 1.50000000 & 32 & 52 & 1.778681 & Negra & No Está Casada & Se Casó       & No Se Graduó U\\\\\n",
       "\\end{tabular}\n"
      ],
      "text/markdown": [
       "\n",
       "A data.frame: 6 × 25\n",
       "\n",
       "| <!--/--> | idcode &lt;int&gt; | year &lt;int&gt; | birth_yr &lt;int&gt; | age &lt;int&gt; | race &lt;int&gt; | msp &lt;int&gt; | nev_mar &lt;int&gt; | grade &lt;int&gt; | collgrad &lt;int&gt; | not_smsa &lt;int&gt; | ... ... | wks_ue &lt;int&gt; | ttl_exp &lt;dbl&gt; | tenure &lt;dbl&gt; | hours &lt;int&gt; | wks_work &lt;int&gt; | ln_wage &lt;dbl&gt; | raza &lt;fct&gt; | casada &lt;fct&gt; | se_caso &lt;fct&gt; | universidad &lt;fct&gt; |\n",
       "|---|---|---|---|---|---|---|---|---|---|---|---|---|---|---|---|---|---|---|---|---|---|\n",
       "| 1 | 1 | 70 | 51 | 18 | 2 | 0 | 1 | 12 | 0 | 0 | ... |  2 | 1.083333 | 0.08333334 | 20 | 27 | 1.451214 | Negra | No Está Casada | Nunca Se Casó | No Se Graduó U |\n",
       "| 2 | 1 | 71 | 51 | 19 | 2 | 1 | 0 | 12 | 0 | 0 | ... | 22 | 1.275641 | 0.08333334 | 44 | 10 | 1.028620 | Negra | Está Casada    | Se Casó       | No Se Graduó U |\n",
       "| 3 | 1 | 72 | 51 | 20 | 2 | 1 | 0 | 12 | 0 | 0 | ... |  0 | 2.256410 | 0.91666669 | 40 | 51 | 1.589977 | Negra | Está Casada    | Se Casó       | No Se Graduó U |\n",
       "| 4 | 1 | 73 | 51 | 21 | 2 | 1 | 0 | 12 | 0 | 0 | ... |  0 | 2.314102 | 0.08333334 | 40 |  3 | 1.780273 | Negra | Está Casada    | Se Casó       | No Se Graduó U |\n",
       "| 5 | 1 | 75 | 51 | 23 | 2 | 1 | 0 | 12 | 0 | 0 | ... |  0 | 2.775641 | 0.16666667 | 10 | 24 | 1.777012 | Negra | Está Casada    | Se Casó       | No Se Graduó U |\n",
       "| 6 | 1 | 77 | 51 | 25 | 2 | 0 | 0 | 12 | 0 | 0 | ... |  0 | 3.775641 | 1.50000000 | 32 | 52 | 1.778681 | Negra | No Está Casada | Se Casó       | No Se Graduó U |\n",
       "\n"
      ],
      "text/plain": [
       "  idcode year birth_yr age race msp nev_mar grade collgrad not_smsa ... wks_ue\n",
       "1 1      70   51       18  2    0   1       12    0        0        ...  2    \n",
       "2 1      71   51       19  2    1   0       12    0        0        ... 22    \n",
       "3 1      72   51       20  2    1   0       12    0        0        ...  0    \n",
       "4 1      73   51       21  2    1   0       12    0        0        ...  0    \n",
       "5 1      75   51       23  2    1   0       12    0        0        ...  0    \n",
       "6 1      77   51       25  2    0   0       12    0        0        ...  0    \n",
       "  ttl_exp  tenure     hours wks_work ln_wage  raza  casada        \n",
       "1 1.083333 0.08333334 20    27       1.451214 Negra No Está Casada\n",
       "2 1.275641 0.08333334 44    10       1.028620 Negra Está Casada   \n",
       "3 2.256410 0.91666669 40    51       1.589977 Negra Está Casada   \n",
       "4 2.314102 0.08333334 40     3       1.780273 Negra Está Casada   \n",
       "5 2.775641 0.16666667 10    24       1.777012 Negra Está Casada   \n",
       "6 3.775641 1.50000000 32    52       1.778681 Negra No Está Casada\n",
       "  se_caso       universidad   \n",
       "1 Nunca Se Casó No Se Graduó U\n",
       "2 Se Casó       No Se Graduó U\n",
       "3 Se Casó       No Se Graduó U\n",
       "4 Se Casó       No Se Graduó U\n",
       "5 Se Casó       No Se Graduó U\n",
       "6 Se Casó       No Se Graduó U"
      ]
     },
     "metadata": {},
     "output_type": "display_data"
    }
   ],
   "source": [
    "head(nlswork)"
   ]
  },
  {
   "cell_type": "code",
   "execution_count": 23,
   "metadata": {},
   "outputs": [],
   "source": [
    "library(ggplot2)"
   ]
  },
  {
   "cell_type": "code",
   "execution_count": 24,
   "metadata": {},
   "outputs": [
    {
     "data": {
      "image/png": "[encoded data removed]",
      "text/plain": [
       "plot without title"
      ]
     },
     "metadata": {
      "image/png": {
       "height": 420,
       "width": 420
      },
      "text/plain": {
       "height": 420,
       "width": 420
      }
     },
     "output_type": "display_data"
    }
   ],
   "source": [
    "ggplot(data = na.omit(nlswork), aes(x = raza, y = ln_wage, fill = raza)) + geom_boxplot() +\n",
    "labs(y = 'ln(Salario/PIB)', x = '') +\n",
    "theme_test() + scale_fill_manual(values=c(\"#00AFBB\", \"#E7B800\", \"#FC4E07\")) +\n",
    "theme(axis.title.x = element_text(size = 16),\n",
    "      axis.text.x = element_text(size = 16),\n",
    "      axis.title.y = element_text(size = 16),\n",
    "      axis.text.y = element_text(size = 16),\n",
    "     legend.position = 'none') + facet_wrap(~year)"
   ]
  },
  {
   "cell_type": "code",
   "execution_count": 25,
   "metadata": {},
   "outputs": [
    {
     "data": {
      "image/png": "[encoded data removed]",
      "text/plain": [
       "plot without title"
      ]
     },
     "metadata": {
      "image/png": {
       "height": 420,
       "width": 420
      },
      "text/plain": {
       "height": 420,
       "width": 420
      }
     },
     "output_type": "display_data"
    }
   ],
   "source": [
    "ggplot(data = na.omit(nlswork), aes(x = casada, y = ln_wage, fill = casada)) + geom_boxplot() +\n",
    "labs(y = 'ln(Salario/PIB)', x = '') +\n",
    "theme_test() + scale_fill_manual(values=c(\"#00AFBB\", \"#E7B800\", \"#FC4E07\")) +\n",
    "theme(axis.title.x = element_text(size = 16),\n",
    "      axis.text.x = element_text(size = 16),\n",
    "      axis.title.y = element_text(size = 16),\n",
    "      axis.text.y = element_text(size = 16),\n",
    "     legend.position = 'none')"
   ]
  },
  {
   "cell_type": "code",
   "execution_count": 26,
   "metadata": {},
   "outputs": [],
   "source": [
    "library(repr)\n",
    "options(repr.plot.width=12, repr.plot.height=12)"
   ]
  },
  {
   "cell_type": "code",
   "execution_count": 27,
   "metadata": {},
   "outputs": [
    {
     "data": {
      "image/png": "[encoded data removed]",
      "text/plain": [
       "plot without title"
      ]
     },
     "metadata": {
      "image/png": {
       "height": 720,
       "width": 720
      },
      "text/plain": {
       "height": 720,
       "width": 720
      }
     },
     "output_type": "display_data"
    }
   ],
   "source": [
    "ggplot(data = na.omit(nlswork), aes(x = universidad, y = ln_wage, fill = universidad)) + geom_boxplot() +\n",
    "labs(y = 'ln(Salario/PIB)', x = '') +\n",
    "theme_test() + scale_fill_manual(values=c(\"#00AFBB\", \"#E7B800\", \"#FC4E07\")) +\n",
    "theme(axis.title.x = element_text(size = 14),\n",
    "      axis.text.x = element_text(size = 14),\n",
    "      axis.title.y = element_text(size = 14),\n",
    "      axis.text.y = element_text(size = 14),\n",
    "      strip.text = element_text(size = 14),\n",
    "      legend.position = 'none') +\n",
    "facet_wrap(~year)"
   ]
  },
  {
   "cell_type": "code",
   "execution_count": 28,
   "metadata": {},
   "outputs": [
    {
     "name": "stderr",
     "output_type": "stream",
     "text": [
      "Registered S3 method overwritten by 'GGally':\n",
      "  method from   \n",
      "  +.gg   ggplot2\n",
      "\n"
     ]
    }
   ],
   "source": [
    "library(GGally)"
   ]
  },
  {
   "cell_type": "code",
   "execution_count": 29,
   "metadata": {},
   "outputs": [
    {
     "data": {
      "image/png": "[encoded data removed]",
      "text/plain": [
       "plot without title"
      ]
     },
     "metadata": {
      "image/png": {
       "height": 720,
       "width": 720
      },
      "text/plain": {
       "height": 720,
       "width": 720
      }
     },
     "output_type": "display_data"
    }
   ],
   "source": [
    "ggpairs(na.omit(nlswork[,21:18])) + theme_test() +\n",
    "theme(axis.title.x = element_text(size = 16),\n",
    "      axis.text.x = element_text(size = 16),\n",
    "      axis.title.y = element_text(size = 16),\n",
    "      axis.text.y = element_text(size = 16),\n",
    "      strip.text = element_text(size = 16),\n",
    "      legend.position = 'none')"
   ]
  },
  {
   "cell_type": "code",
   "execution_count": 30,
   "metadata": {},
   "outputs": [
    {
     "data": {
      "text/html": [
       "<table>\n",
       "<caption>A data.frame: 6 × 4</caption>\n",
       "<thead>\n",
       "\t<tr><th></th><th scope=col>tenure</th><th scope=col>hours</th><th scope=col>wks_work</th><th scope=col>ln_wage</th></tr>\n",
       "\t<tr><th></th><th scope=col>&lt;dbl&gt;</th><th scope=col>&lt;int&gt;</th><th scope=col>&lt;int&gt;</th><th scope=col>&lt;dbl&gt;</th></tr>\n",
       "</thead>\n",
       "<tbody>\n",
       "\t<tr><th scope=row>1</th><td>0.08333334</td><td>20</td><td>27</td><td>1.451214</td></tr>\n",
       "\t<tr><th scope=row>2</th><td>0.08333334</td><td>44</td><td>10</td><td>1.028620</td></tr>\n",
       "\t<tr><th scope=row>3</th><td>0.91666669</td><td>40</td><td>51</td><td>1.589977</td></tr>\n",
       "\t<tr><th scope=row>4</th><td>0.08333334</td><td>40</td><td> 3</td><td>1.780273</td></tr>\n",
       "\t<tr><th scope=row>5</th><td>0.16666667</td><td>10</td><td>24</td><td>1.777012</td></tr>\n",
       "\t<tr><th scope=row>6</th><td>1.50000000</td><td>32</td><td>52</td><td>1.778681</td></tr>\n",
       "</tbody>\n",
       "</table>\n"
      ],
      "text/latex": [
       "A data.frame: 6 × 4\n",
       "\\begin{tabular}{r|llll}\n",
       "  & tenure & hours & wks\\_work & ln\\_wage\\\\\n",
       "  & <dbl> & <int> & <int> & <dbl>\\\\\n",
       "\\hline\n",
       "\t1 & 0.08333334 & 20 & 27 & 1.451214\\\\\n",
       "\t2 & 0.08333334 & 44 & 10 & 1.028620\\\\\n",
       "\t3 & 0.91666669 & 40 & 51 & 1.589977\\\\\n",
       "\t4 & 0.08333334 & 40 &  3 & 1.780273\\\\\n",
       "\t5 & 0.16666667 & 10 & 24 & 1.777012\\\\\n",
       "\t6 & 1.50000000 & 32 & 52 & 1.778681\\\\\n",
       "\\end{tabular}\n"
      ],
      "text/markdown": [
       "\n",
       "A data.frame: 6 × 4\n",
       "\n",
       "| <!--/--> | tenure &lt;dbl&gt; | hours &lt;int&gt; | wks_work &lt;int&gt; | ln_wage &lt;dbl&gt; |\n",
       "|---|---|---|---|---|\n",
       "| 1 | 0.08333334 | 20 | 27 | 1.451214 |\n",
       "| 2 | 0.08333334 | 44 | 10 | 1.028620 |\n",
       "| 3 | 0.91666669 | 40 | 51 | 1.589977 |\n",
       "| 4 | 0.08333334 | 40 |  3 | 1.780273 |\n",
       "| 5 | 0.16666667 | 10 | 24 | 1.777012 |\n",
       "| 6 | 1.50000000 | 32 | 52 | 1.778681 |\n",
       "\n"
      ],
      "text/plain": [
       "  tenure     hours wks_work ln_wage \n",
       "1 0.08333334 20    27       1.451214\n",
       "2 0.08333334 44    10       1.028620\n",
       "3 0.91666669 40    51       1.589977\n",
       "4 0.08333334 40     3       1.780273\n",
       "5 0.16666667 10    24       1.777012\n",
       "6 1.50000000 32    52       1.778681"
      ]
     },
     "metadata": {},
     "output_type": "display_data"
    }
   ],
   "source": [
    "head(nlswork[,18:21])"
   ]
  },
  {
   "cell_type": "code",
   "execution_count": 31,
   "metadata": {},
   "outputs": [
    {
     "name": "stderr",
     "output_type": "stream",
     "text": [
      "`stat_bin()` using `bins = 30`. Pick better value with `binwidth`.\n",
      "\n",
      "`stat_bin()` using `bins = 30`. Pick better value with `binwidth`.\n",
      "\n",
      "`stat_bin()` using `bins = 30`. Pick better value with `binwidth`.\n",
      "\n",
      "`stat_bin()` using `bins = 30`. Pick better value with `binwidth`.\n",
      "\n"
     ]
    },
    {
     "data": {
      "image/png": "[encoded data removed]",
      "text/plain": [
       "plot without title"
      ]
     },
     "metadata": {
      "image/png": {
       "height": 720,
       "width": 720
      },
      "text/plain": {
       "height": 720,
       "width": 720
      }
     },
     "output_type": "display_data"
    }
   ],
   "source": [
    "ggpairs(na.omit(nlswork[,c(21:18,25)]), aes(color = universidad))+ theme_test()"
   ]
  },
  {
   "cell_type": "code",
   "execution_count": 32,
   "metadata": {},
   "outputs": [
    {
     "data": {
      "text/html": [
       "<style>\n",
       ".list-inline {list-style: none; margin:0; padding: 0}\n",
       ".list-inline>li {display: inline-block}\n",
       ".list-inline>li:not(:last-child)::after {content: \"\\00b7\"; padding: 0 .5ex}\n",
       "</style>\n",
       "<ol class=list-inline><li>'idcode'</li><li>'year'</li><li>'birth_yr'</li><li>'age'</li><li>'race'</li><li>'msp'</li><li>'nev_mar'</li><li>'grade'</li><li>'collgrad'</li><li>'not_smsa'</li><li>'c_city'</li><li>'south'</li><li>'ind_code'</li><li>'occ_code'</li><li>'union'</li><li>'wks_ue'</li><li>'ttl_exp'</li><li>'tenure'</li><li>'hours'</li><li>'wks_work'</li><li>'ln_wage'</li><li>'raza'</li><li>'casada'</li><li>'se_caso'</li><li>'universidad'</li></ol>\n"
      ],
      "text/latex": [
       "\\begin{enumerate*}\n",
       "\\item 'idcode'\n",
       "\\item 'year'\n",
       "\\item 'birth\\_yr'\n",
       "\\item 'age'\n",
       "\\item 'race'\n",
       "\\item 'msp'\n",
       "\\item 'nev\\_mar'\n",
       "\\item 'grade'\n",
       "\\item 'collgrad'\n",
       "\\item 'not\\_smsa'\n",
       "\\item 'c\\_city'\n",
       "\\item 'south'\n",
       "\\item 'ind\\_code'\n",
       "\\item 'occ\\_code'\n",
       "\\item 'union'\n",
       "\\item 'wks\\_ue'\n",
       "\\item 'ttl\\_exp'\n",
       "\\item 'tenure'\n",
       "\\item 'hours'\n",
       "\\item 'wks\\_work'\n",
       "\\item 'ln\\_wage'\n",
       "\\item 'raza'\n",
       "\\item 'casada'\n",
       "\\item 'se\\_caso'\n",
       "\\item 'universidad'\n",
       "\\end{enumerate*}\n"
      ],
      "text/markdown": [
       "1. 'idcode'\n",
       "2. 'year'\n",
       "3. 'birth_yr'\n",
       "4. 'age'\n",
       "5. 'race'\n",
       "6. 'msp'\n",
       "7. 'nev_mar'\n",
       "8. 'grade'\n",
       "9. 'collgrad'\n",
       "10. 'not_smsa'\n",
       "11. 'c_city'\n",
       "12. 'south'\n",
       "13. 'ind_code'\n",
       "14. 'occ_code'\n",
       "15. 'union'\n",
       "16. 'wks_ue'\n",
       "17. 'ttl_exp'\n",
       "18. 'tenure'\n",
       "19. 'hours'\n",
       "20. 'wks_work'\n",
       "21. 'ln_wage'\n",
       "22. 'raza'\n",
       "23. 'casada'\n",
       "24. 'se_caso'\n",
       "25. 'universidad'\n",
       "\n",
       "\n"
      ],
      "text/plain": [
       " [1] \"idcode\"      \"year\"        \"birth_yr\"    \"age\"         \"race\"       \n",
       " [6] \"msp\"         \"nev_mar\"     \"grade\"       \"collgrad\"    \"not_smsa\"   \n",
       "[11] \"c_city\"      \"south\"       \"ind_code\"    \"occ_code\"    \"union\"      \n",
       "[16] \"wks_ue\"      \"ttl_exp\"     \"tenure\"      \"hours\"       \"wks_work\"   \n",
       "[21] \"ln_wage\"     \"raza\"        \"casada\"      \"se_caso\"     \"universidad\""
      ]
     },
     "metadata": {},
     "output_type": "display_data"
    }
   ],
   "source": [
    "names(nlswork)"
   ]
  },
  {
   "cell_type": "code",
   "execution_count": 33,
   "metadata": {},
   "outputs": [],
   "source": [
    "nls_sub <- na.omit(nlswork[,c(1,2,4,8,16:21,25)])"
   ]
  },
  {
   "cell_type": "code",
   "execution_count": 34,
   "metadata": {
    "scrolled": true
   },
   "outputs": [
    {
     "data": {
      "text/html": [
       "<table>\n",
       "<caption>A data.frame: 6 × 11</caption>\n",
       "<thead>\n",
       "\t<tr><th></th><th scope=col>idcode</th><th scope=col>year</th><th scope=col>age</th><th scope=col>grade</th><th scope=col>wks_ue</th><th scope=col>ttl_exp</th><th scope=col>tenure</th><th scope=col>hours</th><th scope=col>wks_work</th><th scope=col>ln_wage</th><th scope=col>universidad</th></tr>\n",
       "\t<tr><th></th><th scope=col>&lt;int&gt;</th><th scope=col>&lt;int&gt;</th><th scope=col>&lt;int&gt;</th><th scope=col>&lt;int&gt;</th><th scope=col>&lt;int&gt;</th><th scope=col>&lt;dbl&gt;</th><th scope=col>&lt;dbl&gt;</th><th scope=col>&lt;int&gt;</th><th scope=col>&lt;int&gt;</th><th scope=col>&lt;dbl&gt;</th><th scope=col>&lt;fct&gt;</th></tr>\n",
       "</thead>\n",
       "<tbody>\n",
       "\t<tr><th scope=row>1</th><td>1</td><td>70</td><td>18</td><td>12</td><td> 2</td><td>1.083333</td><td>0.08333334</td><td>20</td><td>27</td><td>1.451214</td><td>No Se Graduó U</td></tr>\n",
       "\t<tr><th scope=row>2</th><td>1</td><td>71</td><td>19</td><td>12</td><td>22</td><td>1.275641</td><td>0.08333334</td><td>44</td><td>10</td><td>1.028620</td><td>No Se Graduó U</td></tr>\n",
       "\t<tr><th scope=row>3</th><td>1</td><td>72</td><td>20</td><td>12</td><td> 0</td><td>2.256410</td><td>0.91666669</td><td>40</td><td>51</td><td>1.589977</td><td>No Se Graduó U</td></tr>\n",
       "\t<tr><th scope=row>4</th><td>1</td><td>73</td><td>21</td><td>12</td><td> 0</td><td>2.314102</td><td>0.08333334</td><td>40</td><td> 3</td><td>1.780273</td><td>No Se Graduó U</td></tr>\n",
       "\t<tr><th scope=row>5</th><td>1</td><td>75</td><td>23</td><td>12</td><td> 0</td><td>2.775641</td><td>0.16666667</td><td>10</td><td>24</td><td>1.777012</td><td>No Se Graduó U</td></tr>\n",
       "\t<tr><th scope=row>6</th><td>1</td><td>77</td><td>25</td><td>12</td><td> 0</td><td>3.775641</td><td>1.50000000</td><td>32</td><td>52</td><td>1.778681</td><td>No Se Graduó U</td></tr>\n",
       "</tbody>\n",
       "</table>\n"
      ],
      "text/latex": [
       "A data.frame: 6 × 11\n",
       "\\begin{tabular}{r|lllllllllll}\n",
       "  & idcode & year & age & grade & wks\\_ue & ttl\\_exp & tenure & hours & wks\\_work & ln\\_wage & universidad\\\\\n",
       "  & <int> & <int> & <int> & <int> & <int> & <dbl> & <dbl> & <int> & <int> & <dbl> & <fct>\\\\\n",
       "\\hline\n",
       "\t1 & 1 & 70 & 18 & 12 &  2 & 1.083333 & 0.08333334 & 20 & 27 & 1.451214 & No Se Graduó U\\\\\n",
       "\t2 & 1 & 71 & 19 & 12 & 22 & 1.275641 & 0.08333334 & 44 & 10 & 1.028620 & No Se Graduó U\\\\\n",
       "\t3 & 1 & 72 & 20 & 12 &  0 & 2.256410 & 0.91666669 & 40 & 51 & 1.589977 & No Se Graduó U\\\\\n",
       "\t4 & 1 & 73 & 21 & 12 &  0 & 2.314102 & 0.08333334 & 40 &  3 & 1.780273 & No Se Graduó U\\\\\n",
       "\t5 & 1 & 75 & 23 & 12 &  0 & 2.775641 & 0.16666667 & 10 & 24 & 1.777012 & No Se Graduó U\\\\\n",
       "\t6 & 1 & 77 & 25 & 12 &  0 & 3.775641 & 1.50000000 & 32 & 52 & 1.778681 & No Se Graduó U\\\\\n",
       "\\end{tabular}\n"
      ],
      "text/markdown": [
       "\n",
       "A data.frame: 6 × 11\n",
       "\n",
       "| <!--/--> | idcode &lt;int&gt; | year &lt;int&gt; | age &lt;int&gt; | grade &lt;int&gt; | wks_ue &lt;int&gt; | ttl_exp &lt;dbl&gt; | tenure &lt;dbl&gt; | hours &lt;int&gt; | wks_work &lt;int&gt; | ln_wage &lt;dbl&gt; | universidad &lt;fct&gt; |\n",
       "|---|---|---|---|---|---|---|---|---|---|---|---|\n",
       "| 1 | 1 | 70 | 18 | 12 |  2 | 1.083333 | 0.08333334 | 20 | 27 | 1.451214 | No Se Graduó U |\n",
       "| 2 | 1 | 71 | 19 | 12 | 22 | 1.275641 | 0.08333334 | 44 | 10 | 1.028620 | No Se Graduó U |\n",
       "| 3 | 1 | 72 | 20 | 12 |  0 | 2.256410 | 0.91666669 | 40 | 51 | 1.589977 | No Se Graduó U |\n",
       "| 4 | 1 | 73 | 21 | 12 |  0 | 2.314102 | 0.08333334 | 40 |  3 | 1.780273 | No Se Graduó U |\n",
       "| 5 | 1 | 75 | 23 | 12 |  0 | 2.775641 | 0.16666667 | 10 | 24 | 1.777012 | No Se Graduó U |\n",
       "| 6 | 1 | 77 | 25 | 12 |  0 | 3.775641 | 1.50000000 | 32 | 52 | 1.778681 | No Se Graduó U |\n",
       "\n"
      ],
      "text/plain": [
       "  idcode year age grade wks_ue ttl_exp  tenure     hours wks_work ln_wage \n",
       "1 1      70   18  12     2     1.083333 0.08333334 20    27       1.451214\n",
       "2 1      71   19  12    22     1.275641 0.08333334 44    10       1.028620\n",
       "3 1      72   20  12     0     2.256410 0.91666669 40    51       1.589977\n",
       "4 1      73   21  12     0     2.314102 0.08333334 40     3       1.780273\n",
       "5 1      75   23  12     0     2.775641 0.16666667 10    24       1.777012\n",
       "6 1      77   25  12     0     3.775641 1.50000000 32    52       1.778681\n",
       "  universidad   \n",
       "1 No Se Graduó U\n",
       "2 No Se Graduó U\n",
       "3 No Se Graduó U\n",
       "4 No Se Graduó U\n",
       "5 No Se Graduó U\n",
       "6 No Se Graduó U"
      ]
     },
     "metadata": {},
     "output_type": "display_data"
    }
   ],
   "source": [
    "head(nls_sub)"
   ]
  },
  {
   "cell_type": "code",
   "execution_count": 35,
   "metadata": {},
   "outputs": [
    {
     "data": {
      "text/html": [
       "<style>\n",
       ".list-inline {list-style: none; margin:0; padding: 0}\n",
       ".list-inline>li {display: inline-block}\n",
       ".list-inline>li:not(:last-child)::after {content: \"\\00b7\"; padding: 0 .5ex}\n",
       "</style>\n",
       "<ol class=list-inline><li>22245</li><li>11</li></ol>\n"
      ],
      "text/latex": [
       "\\begin{enumerate*}\n",
       "\\item 22245\n",
       "\\item 11\n",
       "\\end{enumerate*}\n"
      ],
      "text/markdown": [
       "1. 22245\n",
       "2. 11\n",
       "\n",
       "\n"
      ],
      "text/plain": [
       "[1] 22245    11"
      ]
     },
     "metadata": {},
     "output_type": "display_data"
    }
   ],
   "source": [
    "dim(nls_sub)"
   ]
  },
  {
   "cell_type": "code",
   "execution_count": 36,
   "metadata": {},
   "outputs": [
    {
     "data": {
      "text/plain": [
       "     idcode          year            age            grade      \n",
       " Min.   :   1   Min.   :68.00   Min.   :14.00   Min.   : 0.00  \n",
       " 1st Qu.:1299   1st Qu.:71.00   1st Qu.:23.00   1st Qu.:12.00  \n",
       " Median :2570   Median :75.00   Median :27.00   Median :12.00  \n",
       " Mean   :2585   Mean   :76.68   Mean   :27.86   Mean   :12.44  \n",
       " 3rd Qu.:3864   3rd Qu.:82.00   3rd Qu.:33.00   3rd Qu.:13.00  \n",
       " Max.   :5159   Max.   :88.00   Max.   :46.00   Max.   :18.00  \n",
       "     wks_ue          ttl_exp           tenure           hours      \n",
       " Min.   : 0.000   Min.   : 0.000   Min.   : 0.000   Min.   :  1.0  \n",
       " 1st Qu.: 0.000   1st Qu.: 2.077   1st Qu.: 0.500   1st Qu.: 35.0  \n",
       " Median : 0.000   Median : 4.141   Median : 1.417   Median : 40.0  \n",
       " Mean   : 2.519   Mean   : 5.335   Mean   : 2.631   Mean   : 36.2  \n",
       " 3rd Qu.: 0.000   3rd Qu.: 7.346   3rd Qu.: 3.417   3rd Qu.: 40.0  \n",
       " Max.   :76.000   Max.   :28.885   Max.   :25.917   Max.   :168.0  \n",
       "    wks_work         ln_wage              universidad   \n",
       " Min.   :  0.00   Min.   :0.000   Se Graduó U   : 3520  \n",
       " 1st Qu.: 29.00   1st Qu.:1.335   No Se Graduó U:18725  \n",
       " Median : 50.00   Median :1.609                         \n",
       " Mean   : 44.41   Mean   :1.635                         \n",
       " 3rd Qu.: 53.00   3rd Qu.:1.909                         \n",
       " Max.   :103.00   Max.   :5.264                         "
      ]
     },
     "metadata": {},
     "output_type": "display_data"
    }
   ],
   "source": [
    "summary(nls_sub)"
   ]
  },
  {
   "cell_type": "code",
   "execution_count": 37,
   "metadata": {},
   "outputs": [
    {
     "data": {
      "image/png": "[encoded data removed]",
      "text/plain": [
       "plot without title"
      ]
     },
     "metadata": {
      "image/png": {
       "height": 720,
       "width": 720
      },
      "text/plain": {
       "height": 720,
       "width": 720
      }
     },
     "output_type": "display_data"
    }
   ],
   "source": [
    "ggplot(data = nls_sub, aes(x = age, y = ln_wage)) + geom_point() + theme_test()+\n",
    "facet_wrap(~year, nrow = 3) + labs(x = 'Edad', y = 'ln(Salario/PIB)') + \n",
    "theme(axis.title.x = element_text(size = 16),\n",
    "      axis.text.x = element_text(size = 16),\n",
    "      axis.title.y = element_text(size = 16),\n",
    "      axis.text.y = element_text(size = 16),\n",
    "      strip.text = element_text(size = 16),\n",
    "      legend.position = 'none')"
   ]
  },
  {
   "cell_type": "code",
   "execution_count": 38,
   "metadata": {},
   "outputs": [
    {
     "data": {
      "text/html": [
       "<table>\n",
       "<caption>A matrix: 8 × 8 of type dbl</caption>\n",
       "<thead>\n",
       "\t<tr><th></th><th scope=col>ln_wage</th><th scope=col>wks_work</th><th scope=col>hours</th><th scope=col>tenure</th><th scope=col>ttl_exp</th><th scope=col>wks_ue</th><th scope=col>grade</th><th scope=col>age</th></tr>\n",
       "</thead>\n",
       "<tbody>\n",
       "\t<tr><th scope=row>ln_wage</th><td> 1.00</td><td> 0.31</td><td> 0.07</td><td> 0.36</td><td> 0.39</td><td>-0.12</td><td> 0.43</td><td> 0.25</td></tr>\n",
       "\t<tr><th scope=row>wks_work</th><td> 0.31</td><td> 1.00</td><td> 0.12</td><td> 0.38</td><td> 0.53</td><td>-0.23</td><td> 0.20</td><td> 0.40</td></tr>\n",
       "\t<tr><th scope=row>hours</th><td> 0.07</td><td> 0.12</td><td> 1.00</td><td> 0.12</td><td> 0.07</td><td>-0.02</td><td> 0.04</td><td>-0.05</td></tr>\n",
       "\t<tr><th scope=row>tenure</th><td> 0.36</td><td> 0.38</td><td> 0.12</td><td> 1.00</td><td> 0.67</td><td>-0.15</td><td> 0.16</td><td> 0.43</td></tr>\n",
       "\t<tr><th scope=row>ttl_exp</th><td> 0.39</td><td> 0.53</td><td> 0.07</td><td> 0.67</td><td> 1.00</td><td>-0.09</td><td> 0.24</td><td> 0.75</td></tr>\n",
       "\t<tr><th scope=row>wks_ue</th><td>-0.12</td><td>-0.23</td><td>-0.02</td><td>-0.15</td><td>-0.09</td><td> 1.00</td><td>-0.09</td><td>-0.01</td></tr>\n",
       "\t<tr><th scope=row>grade</th><td> 0.43</td><td> 0.20</td><td> 0.04</td><td> 0.16</td><td> 0.24</td><td>-0.09</td><td> 1.00</td><td> 0.18</td></tr>\n",
       "\t<tr><th scope=row>age</th><td> 0.25</td><td> 0.40</td><td>-0.05</td><td> 0.43</td><td> 0.75</td><td>-0.01</td><td> 0.18</td><td> 1.00</td></tr>\n",
       "</tbody>\n",
       "</table>\n"
      ],
      "text/latex": [
       "A matrix: 8 × 8 of type dbl\n",
       "\\begin{tabular}{r|llllllll}\n",
       "  & ln\\_wage & wks\\_work & hours & tenure & ttl\\_exp & wks\\_ue & grade & age\\\\\n",
       "\\hline\n",
       "\tln\\_wage &  1.00 &  0.31 &  0.07 &  0.36 &  0.39 & -0.12 &  0.43 &  0.25\\\\\n",
       "\twks\\_work &  0.31 &  1.00 &  0.12 &  0.38 &  0.53 & -0.23 &  0.20 &  0.40\\\\\n",
       "\thours &  0.07 &  0.12 &  1.00 &  0.12 &  0.07 & -0.02 &  0.04 & -0.05\\\\\n",
       "\ttenure &  0.36 &  0.38 &  0.12 &  1.00 &  0.67 & -0.15 &  0.16 &  0.43\\\\\n",
       "\tttl\\_exp &  0.39 &  0.53 &  0.07 &  0.67 &  1.00 & -0.09 &  0.24 &  0.75\\\\\n",
       "\twks\\_ue & -0.12 & -0.23 & -0.02 & -0.15 & -0.09 &  1.00 & -0.09 & -0.01\\\\\n",
       "\tgrade &  0.43 &  0.20 &  0.04 &  0.16 &  0.24 & -0.09 &  1.00 &  0.18\\\\\n",
       "\tage &  0.25 &  0.40 & -0.05 &  0.43 &  0.75 & -0.01 &  0.18 &  1.00\\\\\n",
       "\\end{tabular}\n"
      ],
      "text/markdown": [
       "\n",
       "A matrix: 8 × 8 of type dbl\n",
       "\n",
       "| <!--/--> | ln_wage | wks_work | hours | tenure | ttl_exp | wks_ue | grade | age |\n",
       "|---|---|---|---|---|---|---|---|---|\n",
       "| ln_wage |  1.00 |  0.31 |  0.07 |  0.36 |  0.39 | -0.12 |  0.43 |  0.25 |\n",
       "| wks_work |  0.31 |  1.00 |  0.12 |  0.38 |  0.53 | -0.23 |  0.20 |  0.40 |\n",
       "| hours |  0.07 |  0.12 |  1.00 |  0.12 |  0.07 | -0.02 |  0.04 | -0.05 |\n",
       "| tenure |  0.36 |  0.38 |  0.12 |  1.00 |  0.67 | -0.15 |  0.16 |  0.43 |\n",
       "| ttl_exp |  0.39 |  0.53 |  0.07 |  0.67 |  1.00 | -0.09 |  0.24 |  0.75 |\n",
       "| wks_ue | -0.12 | -0.23 | -0.02 | -0.15 | -0.09 |  1.00 | -0.09 | -0.01 |\n",
       "| grade |  0.43 |  0.20 |  0.04 |  0.16 |  0.24 | -0.09 |  1.00 |  0.18 |\n",
       "| age |  0.25 |  0.40 | -0.05 |  0.43 |  0.75 | -0.01 |  0.18 |  1.00 |\n",
       "\n"
      ],
      "text/plain": [
       "         ln_wage wks_work hours tenure ttl_exp wks_ue grade age  \n",
       "ln_wage   1.00    0.31     0.07  0.36   0.39   -0.12   0.43  0.25\n",
       "wks_work  0.31    1.00     0.12  0.38   0.53   -0.23   0.20  0.40\n",
       "hours     0.07    0.12     1.00  0.12   0.07   -0.02   0.04 -0.05\n",
       "tenure    0.36    0.38     0.12  1.00   0.67   -0.15   0.16  0.43\n",
       "ttl_exp   0.39    0.53     0.07  0.67   1.00   -0.09   0.24  0.75\n",
       "wks_ue   -0.12   -0.23    -0.02 -0.15  -0.09    1.00  -0.09 -0.01\n",
       "grade     0.43    0.20     0.04  0.16   0.24   -0.09   1.00  0.18\n",
       "age       0.25    0.40    -0.05  0.43   0.75   -0.01   0.18  1.00"
      ]
     },
     "metadata": {},
     "output_type": "display_data"
    }
   ],
   "source": [
    "cormat <- round(cor(nls_sub[,10:3]),2)\n",
    "cormat"
   ]
  },
  {
   "cell_type": "code",
   "execution_count": 39,
   "metadata": {},
   "outputs": [
    {
     "data": {
      "text/html": [
       "<table>\n",
       "<caption>A data.frame: 6 × 3</caption>\n",
       "<thead>\n",
       "\t<tr><th></th><th scope=col>Var1</th><th scope=col>Var2</th><th scope=col>value</th></tr>\n",
       "\t<tr><th></th><th scope=col>&lt;fct&gt;</th><th scope=col>&lt;fct&gt;</th><th scope=col>&lt;dbl&gt;</th></tr>\n",
       "</thead>\n",
       "<tbody>\n",
       "\t<tr><th scope=row>1</th><td>ln_wage </td><td>ln_wage</td><td> 1.00</td></tr>\n",
       "\t<tr><th scope=row>2</th><td>wks_work</td><td>ln_wage</td><td> 0.31</td></tr>\n",
       "\t<tr><th scope=row>3</th><td>hours   </td><td>ln_wage</td><td> 0.07</td></tr>\n",
       "\t<tr><th scope=row>4</th><td>tenure  </td><td>ln_wage</td><td> 0.36</td></tr>\n",
       "\t<tr><th scope=row>5</th><td>ttl_exp </td><td>ln_wage</td><td> 0.39</td></tr>\n",
       "\t<tr><th scope=row>6</th><td>wks_ue  </td><td>ln_wage</td><td>-0.12</td></tr>\n",
       "</tbody>\n",
       "</table>\n"
      ],
      "text/latex": [
       "A data.frame: 6 × 3\n",
       "\\begin{tabular}{r|lll}\n",
       "  & Var1 & Var2 & value\\\\\n",
       "  & <fct> & <fct> & <dbl>\\\\\n",
       "\\hline\n",
       "\t1 & ln\\_wage  & ln\\_wage &  1.00\\\\\n",
       "\t2 & wks\\_work & ln\\_wage &  0.31\\\\\n",
       "\t3 & hours    & ln\\_wage &  0.07\\\\\n",
       "\t4 & tenure   & ln\\_wage &  0.36\\\\\n",
       "\t5 & ttl\\_exp  & ln\\_wage &  0.39\\\\\n",
       "\t6 & wks\\_ue   & ln\\_wage & -0.12\\\\\n",
       "\\end{tabular}\n"
      ],
      "text/markdown": [
       "\n",
       "A data.frame: 6 × 3\n",
       "\n",
       "| <!--/--> | Var1 &lt;fct&gt; | Var2 &lt;fct&gt; | value &lt;dbl&gt; |\n",
       "|---|---|---|---|\n",
       "| 1 | ln_wage  | ln_wage |  1.00 |\n",
       "| 2 | wks_work | ln_wage |  0.31 |\n",
       "| 3 | hours    | ln_wage |  0.07 |\n",
       "| 4 | tenure   | ln_wage |  0.36 |\n",
       "| 5 | ttl_exp  | ln_wage |  0.39 |\n",
       "| 6 | wks_ue   | ln_wage | -0.12 |\n",
       "\n"
      ],
      "text/plain": [
       "  Var1     Var2    value\n",
       "1 ln_wage  ln_wage  1.00\n",
       "2 wks_work ln_wage  0.31\n",
       "3 hours    ln_wage  0.07\n",
       "4 tenure   ln_wage  0.36\n",
       "5 ttl_exp  ln_wage  0.39\n",
       "6 wks_ue   ln_wage -0.12"
      ]
     },
     "metadata": {},
     "output_type": "display_data"
    }
   ],
   "source": [
    "library(reshape2)\n",
    "melted_cormat <- melt(cormat)\n",
    "head(melted_cormat)"
   ]
  },
  {
   "cell_type": "code",
   "execution_count": 40,
   "metadata": {},
   "outputs": [
    {
     "data": {
      "image/png": "[encoded data removed]",
      "text/plain": [
       "plot without title"
      ]
     },
     "metadata": {
      "image/png": {
       "height": 720,
       "width": 720
      },
      "text/plain": {
       "height": 720,
       "width": 720
      }
     },
     "output_type": "display_data"
    }
   ],
   "source": [
    "ggplot(data = melted_cormat, aes(x=Var1, y=Var2, fill=value)) + \n",
    "  geom_tile() + labs(x = '', y = '', fill = '') + scale_fill_continuous(low=\"yellow\", high=\"red\")  +\n",
    "theme(axis.title.x = element_text(size = 16),\n",
    "      axis.text.x = element_text(size = 16),\n",
    "      axis.title.y = element_text(size = 16),\n",
    "      axis.text.y = element_text(size = 16),\n",
    "      strip.text = element_text(size = 16),\n",
    "      legend.text=element_text(size=16))"
   ]
  },
  {
   "cell_type": "markdown",
   "metadata": {},
   "source": [
    "## El Modelo\n",
    "\n",
    "La formulación de un modelo no se basa sólo en la selección de variables. Éste debe estar alienado con elementos teóricos que respalden la función y permita analizar las relaciones encontradas. No vamos a profudizar ni a construir un marco teórico pero sí vamos a usar como referencia una teoría que nos permita definir la funcion.\n",
    "\n",
    "Por ejemplo, la teoría de la señalización que sugiere, en el contexto de la Economía de la Educación, que:\n",
    "* La educación actúa como mecanismo transmisor de las habilidades del trabajador que son desconocidas para la empresa.\n",
    "* La educación actúa como uno de los requisitos para acceder a los mejores trabajos.\n",
    "\n",
    "En ese orden de ideas, la función base sería:\n",
    "\n",
    "$$\n",
    "{\\large\n",
    "Salarios = f\\left(Educacion, Experiencia\\right)\n",
    "}\n",
    "$$\n",
    "\n",
    "Con esa idea, vamos a hacer la selección de las variables. Como proxy de salarios tenemos `ln_wage` y usaremos `grade` como proxy de educación. Añadiremos experiencia pues según algunas teorías contribuye a conseguir mejores empleos, para ello usaremos como proxy la variables `tenure` y `ttl_exp`."
   ]
  },
  {
   "cell_type": "code",
   "execution_count": 41,
   "metadata": {
    "scrolled": false
   },
   "outputs": [
    {
     "data": {
      "text/plain": [
       "     idcode          year            age            grade      \n",
       " Min.   :   1   Min.   :68.00   Min.   :14.00   Min.   : 0.00  \n",
       " 1st Qu.:1299   1st Qu.:71.00   1st Qu.:23.00   1st Qu.:12.00  \n",
       " Median :2570   Median :75.00   Median :27.00   Median :12.00  \n",
       " Mean   :2585   Mean   :76.68   Mean   :27.86   Mean   :12.44  \n",
       " 3rd Qu.:3864   3rd Qu.:82.00   3rd Qu.:33.00   3rd Qu.:13.00  \n",
       " Max.   :5159   Max.   :88.00   Max.   :46.00   Max.   :18.00  \n",
       "     wks_ue          ttl_exp           tenure           hours      \n",
       " Min.   : 0.000   Min.   : 0.000   Min.   : 0.000   Min.   :  1.0  \n",
       " 1st Qu.: 0.000   1st Qu.: 2.077   1st Qu.: 0.500   1st Qu.: 35.0  \n",
       " Median : 0.000   Median : 4.141   Median : 1.417   Median : 40.0  \n",
       " Mean   : 2.519   Mean   : 5.335   Mean   : 2.631   Mean   : 36.2  \n",
       " 3rd Qu.: 0.000   3rd Qu.: 7.346   3rd Qu.: 3.417   3rd Qu.: 40.0  \n",
       " Max.   :76.000   Max.   :28.885   Max.   :25.917   Max.   :168.0  \n",
       "    wks_work         ln_wage              universidad   \n",
       " Min.   :  0.00   Min.   :0.000   Se Graduó U   : 3520  \n",
       " 1st Qu.: 29.00   1st Qu.:1.335   No Se Graduó U:18725  \n",
       " Median : 50.00   Median :1.609                         \n",
       " Mean   : 44.41   Mean   :1.635                         \n",
       " 3rd Qu.: 53.00   3rd Qu.:1.909                         \n",
       " Max.   :103.00   Max.   :5.264                         "
      ]
     },
     "metadata": {},
     "output_type": "display_data"
    }
   ],
   "source": [
    "summary(nls_sub)"
   ]
  },
  {
   "cell_type": "markdown",
   "metadata": {},
   "source": [
    "Hay que tener en cuenta algunos aspectos:\n",
    "\n",
    "* Para poder probar adecuadamente algunos modelos, es necesario que haya variabilidad en los datos agrupados.\n",
    "* Una tabla de frecuencias permite idetificar aquellos casos en los que hubo muy pocos registros.\n",
    "\n",
    "Construyamos, entonces, una tabla de frecuencias"
   ]
  },
  {
   "cell_type": "code",
   "execution_count": 42,
   "metadata": {},
   "outputs": [
    {
     "data": {
      "text/html": [
       "<table>\n",
       "<caption>A table: 4619 × 16 of type dbl</caption>\n",
       "<thead>\n",
       "\t<tr><th></th><th scope=col>68</th><th scope=col>69</th><th scope=col>70</th><th scope=col>71</th><th scope=col>72</th><th scope=col>73</th><th scope=col>75</th><th scope=col>77</th><th scope=col>78</th><th scope=col>80</th><th scope=col>82</th><th scope=col>83</th><th scope=col>85</th><th scope=col>87</th><th scope=col>88</th><th scope=col>Sum</th></tr>\n",
       "</thead>\n",
       "<tbody>\n",
       "\t<tr><th scope=row>1</th><td>0</td><td>0</td><td>1</td><td>1</td><td>1</td><td>1</td><td>1</td><td>1</td><td>1</td><td>1</td><td>0</td><td>0</td><td>1</td><td>1</td><td>1</td><td>11</td></tr>\n",
       "\t<tr><th scope=row>2</th><td>0</td><td>0</td><td>0</td><td>1</td><td>1</td><td>1</td><td>1</td><td>1</td><td>1</td><td>0</td><td>0</td><td>1</td><td>1</td><td>0</td><td>1</td><td> 9</td></tr>\n",
       "\t<tr><th scope=row>3</th><td>1</td><td>1</td><td>1</td><td>1</td><td>1</td><td>1</td><td>1</td><td>1</td><td>1</td><td>0</td><td>0</td><td>1</td><td>0</td><td>1</td><td>1</td><td>12</td></tr>\n",
       "\t<tr><th scope=row>4</th><td>0</td><td>0</td><td>1</td><td>1</td><td>1</td><td>1</td><td>1</td><td>0</td><td>0</td><td>1</td><td>0</td><td>1</td><td>0</td><td>1</td><td>1</td><td> 9</td></tr>\n",
       "\t<tr><th scope=row>5</th><td>1</td><td>1</td><td>1</td><td>1</td><td>1</td><td>1</td><td>1</td><td>1</td><td>1</td><td>0</td><td>1</td><td>0</td><td>0</td><td>0</td><td>0</td><td>10</td></tr>\n",
       "\t<tr><th scope=row>6</th><td>1</td><td>0</td><td>1</td><td>1</td><td>1</td><td>1</td><td>1</td><td>1</td><td>1</td><td>1</td><td>0</td><td>1</td><td>0</td><td>0</td><td>1</td><td>11</td></tr>\n",
       "\t<tr><th scope=row>7</th><td>1</td><td>1</td><td>1</td><td>1</td><td>1</td><td>1</td><td>0</td><td>0</td><td>0</td><td>0</td><td>0</td><td>0</td><td>0</td><td>1</td><td>1</td><td> 8</td></tr>\n",
       "\t<tr><th scope=row>9</th><td>0</td><td>0</td><td>1</td><td>1</td><td>1</td><td>1</td><td>1</td><td>1</td><td>1</td><td>0</td><td>0</td><td>1</td><td>0</td><td>0</td><td>1</td><td> 9</td></tr>\n",
       "\t<tr><th scope=row>10</th><td>0</td><td>1</td><td>1</td><td>1</td><td>1</td><td>0</td><td>1</td><td>1</td><td>1</td><td>1</td><td>1</td><td>0</td><td>0</td><td>0</td><td>0</td><td> 9</td></tr>\n",
       "\t<tr><th scope=row>12</th><td>0</td><td>0</td><td>0</td><td>0</td><td>0</td><td>0</td><td>0</td><td>0</td><td>0</td><td>0</td><td>0</td><td>0</td><td>0</td><td>0</td><td>1</td><td> 1</td></tr>\n",
       "\t<tr><th scope=row>13</th><td>0</td><td>0</td><td>1</td><td>1</td><td>0</td><td>1</td><td>1</td><td>0</td><td>1</td><td>0</td><td>0</td><td>1</td><td>0</td><td>0</td><td>1</td><td> 7</td></tr>\n",
       "\t<tr><th scope=row>14</th><td>0</td><td>0</td><td>0</td><td>0</td><td>0</td><td>0</td><td>0</td><td>0</td><td>0</td><td>0</td><td>0</td><td>0</td><td>0</td><td>0</td><td>1</td><td> 1</td></tr>\n",
       "\t<tr><th scope=row>15</th><td>0</td><td>0</td><td>0</td><td>0</td><td>0</td><td>0</td><td>0</td><td>1</td><td>1</td><td>1</td><td>0</td><td>1</td><td>1</td><td>1</td><td>1</td><td> 7</td></tr>\n",
       "\t<tr><th scope=row>16</th><td>0</td><td>0</td><td>1</td><td>1</td><td>1</td><td>1</td><td>1</td><td>1</td><td>1</td><td>0</td><td>0</td><td>1</td><td>0</td><td>0</td><td>1</td><td> 9</td></tr>\n",
       "\t<tr><th scope=row>17</th><td>0</td><td>0</td><td>1</td><td>1</td><td>1</td><td>1</td><td>0</td><td>1</td><td>0</td><td>0</td><td>0</td><td>0</td><td>0</td><td>1</td><td>0</td><td> 6</td></tr>\n",
       "\t<tr><th scope=row>18</th><td>0</td><td>0</td><td>0</td><td>0</td><td>0</td><td>0</td><td>0</td><td>1</td><td>0</td><td>0</td><td>0</td><td>0</td><td>0</td><td>0</td><td>1</td><td> 2</td></tr>\n",
       "\t<tr><th scope=row>19</th><td>0</td><td>0</td><td>1</td><td>1</td><td>1</td><td>1</td><td>1</td><td>0</td><td>1</td><td>0</td><td>0</td><td>0</td><td>0</td><td>0</td><td>1</td><td> 7</td></tr>\n",
       "\t<tr><th scope=row>20</th><td>0</td><td>0</td><td>1</td><td>1</td><td>1</td><td>1</td><td>1</td><td>1</td><td>1</td><td>0</td><td>1</td><td>1</td><td>0</td><td>0</td><td>1</td><td>10</td></tr>\n",
       "\t<tr><th scope=row>21</th><td>0</td><td>0</td><td>1</td><td>0</td><td>1</td><td>1</td><td>1</td><td>0</td><td>0</td><td>0</td><td>0</td><td>0</td><td>0</td><td>0</td><td>0</td><td> 4</td></tr>\n",
       "\t<tr><th scope=row>22</th><td>0</td><td>1</td><td>1</td><td>1</td><td>0</td><td>1</td><td>1</td><td>1</td><td>1</td><td>0</td><td>0</td><td>0</td><td>0</td><td>0</td><td>1</td><td> 8</td></tr>\n",
       "\t<tr><th scope=row>23</th><td>0</td><td>0</td><td>0</td><td>0</td><td>0</td><td>0</td><td>1</td><td>1</td><td>0</td><td>0</td><td>0</td><td>1</td><td>0</td><td>0</td><td>1</td><td> 4</td></tr>\n",
       "\t<tr><th scope=row>24</th><td>1</td><td>1</td><td>1</td><td>1</td><td>1</td><td>1</td><td>1</td><td>1</td><td>1</td><td>0</td><td>0</td><td>1</td><td>0</td><td>0</td><td>1</td><td>11</td></tr>\n",
       "\t<tr><th scope=row>25</th><td>1</td><td>1</td><td>1</td><td>1</td><td>0</td><td>0</td><td>1</td><td>1</td><td>1</td><td>0</td><td>0</td><td>1</td><td>0</td><td>0</td><td>1</td><td> 9</td></tr>\n",
       "\t<tr><th scope=row>26</th><td>1</td><td>1</td><td>1</td><td>1</td><td>0</td><td>0</td><td>0</td><td>0</td><td>0</td><td>0</td><td>0</td><td>1</td><td>0</td><td>0</td><td>0</td><td> 5</td></tr>\n",
       "\t<tr><th scope=row>27</th><td>1</td><td>1</td><td>1</td><td>1</td><td>0</td><td>0</td><td>0</td><td>0</td><td>0</td><td>0</td><td>0</td><td>0</td><td>0</td><td>0</td><td>0</td><td> 4</td></tr>\n",
       "\t<tr><th scope=row>29</th><td>0</td><td>1</td><td>1</td><td>1</td><td>1</td><td>0</td><td>0</td><td>0</td><td>0</td><td>0</td><td>0</td><td>0</td><td>0</td><td>0</td><td>0</td><td> 4</td></tr>\n",
       "\t<tr><th scope=row>30</th><td>0</td><td>0</td><td>1</td><td>1</td><td>1</td><td>1</td><td>0</td><td>1</td><td>0</td><td>0</td><td>1</td><td>1</td><td>0</td><td>0</td><td>0</td><td> 7</td></tr>\n",
       "\t<tr><th scope=row>33</th><td>1</td><td>0</td><td>0</td><td>0</td><td>0</td><td>0</td><td>0</td><td>0</td><td>0</td><td>0</td><td>0</td><td>0</td><td>0</td><td>0</td><td>0</td><td> 1</td></tr>\n",
       "\t<tr><th scope=row>35</th><td>0</td><td>0</td><td>0</td><td>0</td><td>0</td><td>0</td><td>0</td><td>0</td><td>0</td><td>0</td><td>1</td><td>0</td><td>0</td><td>0</td><td>0</td><td> 1</td></tr>\n",
       "\t<tr><th scope=row>36</th><td>0</td><td>0</td><td>1</td><td>1</td><td>1</td><td>1</td><td>1</td><td>1</td><td>1</td><td>0</td><td>0</td><td>0</td><td>0</td><td>0</td><td>1</td><td> 8</td></tr>\n",
       "\t<tr><th scope=row>...</th><td>...</td><td>...</td><td>...</td><td>...</td><td>...</td><td>...</td><td>...</td><td>...</td><td>...</td><td>...</td><td>...</td><td>...</td><td>...</td><td>...</td><td>...</td><td>...</td></tr>\n",
       "\t<tr><th scope=row>5126</th><td>0</td><td>0</td><td>0</td><td>0</td><td>0</td><td>0</td><td>0</td><td>0</td><td>0</td><td>1</td><td>0</td><td>0</td><td>0</td><td>0</td><td>0</td><td> 1</td></tr>\n",
       "\t<tr><th scope=row>5127</th><td>0</td><td>1</td><td>1</td><td>1</td><td>0</td><td>0</td><td>1</td><td>1</td><td>1</td><td>0</td><td>1</td><td>1</td><td>1</td><td>0</td><td>1</td><td>10</td></tr>\n",
       "\t<tr><th scope=row>5128</th><td>0</td><td>0</td><td>0</td><td>0</td><td>0</td><td>0</td><td>0</td><td>1</td><td>1</td><td>0</td><td>0</td><td>1</td><td>0</td><td>0</td><td>1</td><td> 4</td></tr>\n",
       "\t<tr><th scope=row>5130</th><td>1</td><td>1</td><td>0</td><td>0</td><td>0</td><td>0</td><td>0</td><td>0</td><td>0</td><td>0</td><td>0</td><td>0</td><td>0</td><td>0</td><td>0</td><td> 2</td></tr>\n",
       "\t<tr><th scope=row>5131</th><td>0</td><td>0</td><td>0</td><td>0</td><td>0</td><td>1</td><td>0</td><td>0</td><td>0</td><td>0</td><td>0</td><td>0</td><td>0</td><td>0</td><td>0</td><td> 1</td></tr>\n",
       "\t<tr><th scope=row>5132</th><td>0</td><td>0</td><td>0</td><td>0</td><td>0</td><td>0</td><td>0</td><td>1</td><td>1</td><td>1</td><td>1</td><td>1</td><td>1</td><td>1</td><td>0</td><td> 7</td></tr>\n",
       "\t<tr><th scope=row>5133</th><td>0</td><td>0</td><td>0</td><td>0</td><td>0</td><td>0</td><td>1</td><td>1</td><td>1</td><td>0</td><td>0</td><td>1</td><td>0</td><td>1</td><td>0</td><td> 5</td></tr>\n",
       "\t<tr><th scope=row>5134</th><td>0</td><td>0</td><td>0</td><td>0</td><td>0</td><td>0</td><td>0</td><td>0</td><td>1</td><td>0</td><td>0</td><td>1</td><td>0</td><td>0</td><td>1</td><td> 3</td></tr>\n",
       "\t<tr><th scope=row>5136</th><td>1</td><td>0</td><td>1</td><td>1</td><td>1</td><td>1</td><td>1</td><td>0</td><td>1</td><td>0</td><td>0</td><td>0</td><td>0</td><td>0</td><td>0</td><td> 7</td></tr>\n",
       "\t<tr><th scope=row>5137</th><td>1</td><td>0</td><td>0</td><td>0</td><td>0</td><td>0</td><td>0</td><td>0</td><td>0</td><td>0</td><td>0</td><td>0</td><td>0</td><td>0</td><td>0</td><td> 1</td></tr>\n",
       "\t<tr><th scope=row>5138</th><td>0</td><td>0</td><td>0</td><td>0</td><td>1</td><td>0</td><td>0</td><td>0</td><td>0</td><td>0</td><td>0</td><td>0</td><td>0</td><td>0</td><td>0</td><td> 1</td></tr>\n",
       "\t<tr><th scope=row>5139</th><td>0</td><td>0</td><td>0</td><td>0</td><td>0</td><td>0</td><td>0</td><td>1</td><td>1</td><td>1</td><td>1</td><td>1</td><td>0</td><td>0</td><td>0</td><td> 5</td></tr>\n",
       "\t<tr><th scope=row>5140</th><td>1</td><td>0</td><td>0</td><td>0</td><td>0</td><td>0</td><td>0</td><td>0</td><td>0</td><td>0</td><td>0</td><td>0</td><td>0</td><td>0</td><td>0</td><td> 1</td></tr>\n",
       "\t<tr><th scope=row>5141</th><td>0</td><td>0</td><td>1</td><td>1</td><td>0</td><td>0</td><td>0</td><td>0</td><td>0</td><td>0</td><td>0</td><td>0</td><td>0</td><td>0</td><td>0</td><td> 2</td></tr>\n",
       "\t<tr><th scope=row>5142</th><td>0</td><td>1</td><td>1</td><td>1</td><td>0</td><td>1</td><td>1</td><td>0</td><td>0</td><td>0</td><td>0</td><td>0</td><td>0</td><td>0</td><td>0</td><td> 5</td></tr>\n",
       "\t<tr><th scope=row>5143</th><td>0</td><td>0</td><td>1</td><td>1</td><td>0</td><td>0</td><td>0</td><td>0</td><td>0</td><td>0</td><td>0</td><td>0</td><td>0</td><td>1</td><td>1</td><td> 4</td></tr>\n",
       "\t<tr><th scope=row>5144</th><td>0</td><td>0</td><td>0</td><td>0</td><td>0</td><td>0</td><td>0</td><td>0</td><td>0</td><td>0</td><td>1</td><td>0</td><td>0</td><td>0</td><td>0</td><td> 1</td></tr>\n",
       "\t<tr><th scope=row>5145</th><td>0</td><td>0</td><td>1</td><td>1</td><td>1</td><td>1</td><td>1</td><td>1</td><td>0</td><td>0</td><td>0</td><td>0</td><td>0</td><td>0</td><td>0</td><td> 6</td></tr>\n",
       "\t<tr><th scope=row>5146</th><td>0</td><td>0</td><td>0</td><td>0</td><td>0</td><td>0</td><td>0</td><td>1</td><td>0</td><td>0</td><td>0</td><td>1</td><td>0</td><td>0</td><td>0</td><td> 2</td></tr>\n",
       "\t<tr><th scope=row>5147</th><td>0</td><td>0</td><td>0</td><td>0</td><td>0</td><td>0</td><td>0</td><td>0</td><td>0</td><td>0</td><td>0</td><td>0</td><td>0</td><td>1</td><td>1</td><td> 2</td></tr>\n",
       "\t<tr><th scope=row>5148</th><td>0</td><td>0</td><td>0</td><td>1</td><td>0</td><td>1</td><td>0</td><td>1</td><td>1</td><td>0</td><td>0</td><td>0</td><td>0</td><td>1</td><td>1</td><td> 6</td></tr>\n",
       "\t<tr><th scope=row>5149</th><td>1</td><td>0</td><td>0</td><td>0</td><td>0</td><td>0</td><td>0</td><td>0</td><td>0</td><td>0</td><td>0</td><td>0</td><td>0</td><td>0</td><td>0</td><td> 1</td></tr>\n",
       "\t<tr><th scope=row>5151</th><td>0</td><td>0</td><td>0</td><td>0</td><td>0</td><td>1</td><td>1</td><td>0</td><td>0</td><td>0</td><td>0</td><td>0</td><td>0</td><td>0</td><td>0</td><td> 2</td></tr>\n",
       "\t<tr><th scope=row>5152</th><td>0</td><td>0</td><td>0</td><td>0</td><td>0</td><td>0</td><td>0</td><td>0</td><td>0</td><td>0</td><td>0</td><td>1</td><td>0</td><td>0</td><td>1</td><td> 2</td></tr>\n",
       "\t<tr><th scope=row>5153</th><td>0</td><td>0</td><td>0</td><td>0</td><td>0</td><td>1</td><td>1</td><td>1</td><td>1</td><td>0</td><td>0</td><td>0</td><td>0</td><td>0</td><td>1</td><td> 5</td></tr>\n",
       "\t<tr><th scope=row>5154</th><td>0</td><td>0</td><td>0</td><td>0</td><td>0</td><td>0</td><td>0</td><td>0</td><td>0</td><td>0</td><td>0</td><td>0</td><td>0</td><td>0</td><td>1</td><td> 1</td></tr>\n",
       "\t<tr><th scope=row>5156</th><td>1</td><td>1</td><td>1</td><td>1</td><td>1</td><td>1</td><td>1</td><td>1</td><td>1</td><td>0</td><td>0</td><td>1</td><td>0</td><td>0</td><td>1</td><td>11</td></tr>\n",
       "\t<tr><th scope=row>5157</th><td>0</td><td>0</td><td>0</td><td>0</td><td>1</td><td>1</td><td>1</td><td>1</td><td>0</td><td>1</td><td>1</td><td>1</td><td>1</td><td>0</td><td>1</td><td> 9</td></tr>\n",
       "\t<tr><th scope=row>5158</th><td>1</td><td>1</td><td>0</td><td>0</td><td>0</td><td>0</td><td>0</td><td>0</td><td>0</td><td>0</td><td>0</td><td>0</td><td>0</td><td>0</td><td>0</td><td> 2</td></tr>\n",
       "\t<tr><th scope=row>5159</th><td>0</td><td>0</td><td>0</td><td>0</td><td>0</td><td>0</td><td>0</td><td>1</td><td>1</td><td>0</td><td>0</td><td>1</td><td>1</td><td>0</td><td>1</td><td> 5</td></tr>\n",
       "</tbody>\n",
       "</table>\n"
      ],
      "text/latex": [
       "A table: 4619 × 16 of type dbl\n",
       "\\begin{tabular}{r|llllllllllllllll}\n",
       "  & 68 & 69 & 70 & 71 & 72 & 73 & 75 & 77 & 78 & 80 & 82 & 83 & 85 & 87 & 88 & Sum\\\\\n",
       "\\hline\n",
       "\t1 & 0 & 0 & 1 & 1 & 1 & 1 & 1 & 1 & 1 & 1 & 0 & 0 & 1 & 1 & 1 & 11\\\\\n",
       "\t2 & 0 & 0 & 0 & 1 & 1 & 1 & 1 & 1 & 1 & 0 & 0 & 1 & 1 & 0 & 1 &  9\\\\\n",
       "\t3 & 1 & 1 & 1 & 1 & 1 & 1 & 1 & 1 & 1 & 0 & 0 & 1 & 0 & 1 & 1 & 12\\\\\n",
       "\t4 & 0 & 0 & 1 & 1 & 1 & 1 & 1 & 0 & 0 & 1 & 0 & 1 & 0 & 1 & 1 &  9\\\\\n",
       "\t5 & 1 & 1 & 1 & 1 & 1 & 1 & 1 & 1 & 1 & 0 & 1 & 0 & 0 & 0 & 0 & 10\\\\\n",
       "\t6 & 1 & 0 & 1 & 1 & 1 & 1 & 1 & 1 & 1 & 1 & 0 & 1 & 0 & 0 & 1 & 11\\\\\n",
       "\t7 & 1 & 1 & 1 & 1 & 1 & 1 & 0 & 0 & 0 & 0 & 0 & 0 & 0 & 1 & 1 &  8\\\\\n",
       "\t9 & 0 & 0 & 1 & 1 & 1 & 1 & 1 & 1 & 1 & 0 & 0 & 1 & 0 & 0 & 1 &  9\\\\\n",
       "\t10 & 0 & 1 & 1 & 1 & 1 & 0 & 1 & 1 & 1 & 1 & 1 & 0 & 0 & 0 & 0 &  9\\\\\n",
       "\t12 & 0 & 0 & 0 & 0 & 0 & 0 & 0 & 0 & 0 & 0 & 0 & 0 & 0 & 0 & 1 &  1\\\\\n",
       "\t13 & 0 & 0 & 1 & 1 & 0 & 1 & 1 & 0 & 1 & 0 & 0 & 1 & 0 & 0 & 1 &  7\\\\\n",
       "\t14 & 0 & 0 & 0 & 0 & 0 & 0 & 0 & 0 & 0 & 0 & 0 & 0 & 0 & 0 & 1 &  1\\\\\n",
       "\t15 & 0 & 0 & 0 & 0 & 0 & 0 & 0 & 1 & 1 & 1 & 0 & 1 & 1 & 1 & 1 &  7\\\\\n",
       "\t16 & 0 & 0 & 1 & 1 & 1 & 1 & 1 & 1 & 1 & 0 & 0 & 1 & 0 & 0 & 1 &  9\\\\\n",
       "\t17 & 0 & 0 & 1 & 1 & 1 & 1 & 0 & 1 & 0 & 0 & 0 & 0 & 0 & 1 & 0 &  6\\\\\n",
       "\t18 & 0 & 0 & 0 & 0 & 0 & 0 & 0 & 1 & 0 & 0 & 0 & 0 & 0 & 0 & 1 &  2\\\\\n",
       "\t19 & 0 & 0 & 1 & 1 & 1 & 1 & 1 & 0 & 1 & 0 & 0 & 0 & 0 & 0 & 1 &  7\\\\\n",
       "\t20 & 0 & 0 & 1 & 1 & 1 & 1 & 1 & 1 & 1 & 0 & 1 & 1 & 0 & 0 & 1 & 10\\\\\n",
       "\t21 & 0 & 0 & 1 & 0 & 1 & 1 & 1 & 0 & 0 & 0 & 0 & 0 & 0 & 0 & 0 &  4\\\\\n",
       "\t22 & 0 & 1 & 1 & 1 & 0 & 1 & 1 & 1 & 1 & 0 & 0 & 0 & 0 & 0 & 1 &  8\\\\\n",
       "\t23 & 0 & 0 & 0 & 0 & 0 & 0 & 1 & 1 & 0 & 0 & 0 & 1 & 0 & 0 & 1 &  4\\\\\n",
       "\t24 & 1 & 1 & 1 & 1 & 1 & 1 & 1 & 1 & 1 & 0 & 0 & 1 & 0 & 0 & 1 & 11\\\\\n",
       "\t25 & 1 & 1 & 1 & 1 & 0 & 0 & 1 & 1 & 1 & 0 & 0 & 1 & 0 & 0 & 1 &  9\\\\\n",
       "\t26 & 1 & 1 & 1 & 1 & 0 & 0 & 0 & 0 & 0 & 0 & 0 & 1 & 0 & 0 & 0 &  5\\\\\n",
       "\t27 & 1 & 1 & 1 & 1 & 0 & 0 & 0 & 0 & 0 & 0 & 0 & 0 & 0 & 0 & 0 &  4\\\\\n",
       "\t29 & 0 & 1 & 1 & 1 & 1 & 0 & 0 & 0 & 0 & 0 & 0 & 0 & 0 & 0 & 0 &  4\\\\\n",
       "\t30 & 0 & 0 & 1 & 1 & 1 & 1 & 0 & 1 & 0 & 0 & 1 & 1 & 0 & 0 & 0 &  7\\\\\n",
       "\t33 & 1 & 0 & 0 & 0 & 0 & 0 & 0 & 0 & 0 & 0 & 0 & 0 & 0 & 0 & 0 &  1\\\\\n",
       "\t35 & 0 & 0 & 0 & 0 & 0 & 0 & 0 & 0 & 0 & 0 & 1 & 0 & 0 & 0 & 0 &  1\\\\\n",
       "\t36 & 0 & 0 & 1 & 1 & 1 & 1 & 1 & 1 & 1 & 0 & 0 & 0 & 0 & 0 & 1 &  8\\\\\n",
       "\t... & ... & ... & ... & ... & ... & ... & ... & ... & ... & ... & ... & ... & ... & ... & ... & ...\\\\\n",
       "\t5126 & 0 & 0 & 0 & 0 & 0 & 0 & 0 & 0 & 0 & 1 & 0 & 0 & 0 & 0 & 0 &  1\\\\\n",
       "\t5127 & 0 & 1 & 1 & 1 & 0 & 0 & 1 & 1 & 1 & 0 & 1 & 1 & 1 & 0 & 1 & 10\\\\\n",
       "\t5128 & 0 & 0 & 0 & 0 & 0 & 0 & 0 & 1 & 1 & 0 & 0 & 1 & 0 & 0 & 1 &  4\\\\\n",
       "\t5130 & 1 & 1 & 0 & 0 & 0 & 0 & 0 & 0 & 0 & 0 & 0 & 0 & 0 & 0 & 0 &  2\\\\\n",
       "\t5131 & 0 & 0 & 0 & 0 & 0 & 1 & 0 & 0 & 0 & 0 & 0 & 0 & 0 & 0 & 0 &  1\\\\\n",
       "\t5132 & 0 & 0 & 0 & 0 & 0 & 0 & 0 & 1 & 1 & 1 & 1 & 1 & 1 & 1 & 0 &  7\\\\\n",
       "\t5133 & 0 & 0 & 0 & 0 & 0 & 0 & 1 & 1 & 1 & 0 & 0 & 1 & 0 & 1 & 0 &  5\\\\\n",
       "\t5134 & 0 & 0 & 0 & 0 & 0 & 0 & 0 & 0 & 1 & 0 & 0 & 1 & 0 & 0 & 1 &  3\\\\\n",
       "\t5136 & 1 & 0 & 1 & 1 & 1 & 1 & 1 & 0 & 1 & 0 & 0 & 0 & 0 & 0 & 0 &  7\\\\\n",
       "\t5137 & 1 & 0 & 0 & 0 & 0 & 0 & 0 & 0 & 0 & 0 & 0 & 0 & 0 & 0 & 0 &  1\\\\\n",
       "\t5138 & 0 & 0 & 0 & 0 & 1 & 0 & 0 & 0 & 0 & 0 & 0 & 0 & 0 & 0 & 0 &  1\\\\\n",
       "\t5139 & 0 & 0 & 0 & 0 & 0 & 0 & 0 & 1 & 1 & 1 & 1 & 1 & 0 & 0 & 0 &  5\\\\\n",
       "\t5140 & 1 & 0 & 0 & 0 & 0 & 0 & 0 & 0 & 0 & 0 & 0 & 0 & 0 & 0 & 0 &  1\\\\\n",
       "\t5141 & 0 & 0 & 1 & 1 & 0 & 0 & 0 & 0 & 0 & 0 & 0 & 0 & 0 & 0 & 0 &  2\\\\\n",
       "\t5142 & 0 & 1 & 1 & 1 & 0 & 1 & 1 & 0 & 0 & 0 & 0 & 0 & 0 & 0 & 0 &  5\\\\\n",
       "\t5143 & 0 & 0 & 1 & 1 & 0 & 0 & 0 & 0 & 0 & 0 & 0 & 0 & 0 & 1 & 1 &  4\\\\\n",
       "\t5144 & 0 & 0 & 0 & 0 & 0 & 0 & 0 & 0 & 0 & 0 & 1 & 0 & 0 & 0 & 0 &  1\\\\\n",
       "\t5145 & 0 & 0 & 1 & 1 & 1 & 1 & 1 & 1 & 0 & 0 & 0 & 0 & 0 & 0 & 0 &  6\\\\\n",
       "\t5146 & 0 & 0 & 0 & 0 & 0 & 0 & 0 & 1 & 0 & 0 & 0 & 1 & 0 & 0 & 0 &  2\\\\\n",
       "\t5147 & 0 & 0 & 0 & 0 & 0 & 0 & 0 & 0 & 0 & 0 & 0 & 0 & 0 & 1 & 1 &  2\\\\\n",
       "\t5148 & 0 & 0 & 0 & 1 & 0 & 1 & 0 & 1 & 1 & 0 & 0 & 0 & 0 & 1 & 1 &  6\\\\\n",
       "\t5149 & 1 & 0 & 0 & 0 & 0 & 0 & 0 & 0 & 0 & 0 & 0 & 0 & 0 & 0 & 0 &  1\\\\\n",
       "\t5151 & 0 & 0 & 0 & 0 & 0 & 1 & 1 & 0 & 0 & 0 & 0 & 0 & 0 & 0 & 0 &  2\\\\\n",
       "\t5152 & 0 & 0 & 0 & 0 & 0 & 0 & 0 & 0 & 0 & 0 & 0 & 1 & 0 & 0 & 1 &  2\\\\\n",
       "\t5153 & 0 & 0 & 0 & 0 & 0 & 1 & 1 & 1 & 1 & 0 & 0 & 0 & 0 & 0 & 1 &  5\\\\\n",
       "\t5154 & 0 & 0 & 0 & 0 & 0 & 0 & 0 & 0 & 0 & 0 & 0 & 0 & 0 & 0 & 1 &  1\\\\\n",
       "\t5156 & 1 & 1 & 1 & 1 & 1 & 1 & 1 & 1 & 1 & 0 & 0 & 1 & 0 & 0 & 1 & 11\\\\\n",
       "\t5157 & 0 & 0 & 0 & 0 & 1 & 1 & 1 & 1 & 0 & 1 & 1 & 1 & 1 & 0 & 1 &  9\\\\\n",
       "\t5158 & 1 & 1 & 0 & 0 & 0 & 0 & 0 & 0 & 0 & 0 & 0 & 0 & 0 & 0 & 0 &  2\\\\\n",
       "\t5159 & 0 & 0 & 0 & 0 & 0 & 0 & 0 & 1 & 1 & 0 & 0 & 1 & 1 & 0 & 1 &  5\\\\\n",
       "\\end{tabular}\n"
      ],
      "text/markdown": [
       "\n",
       "A table: 4619 × 16 of type dbl\n",
       "\n",
       "| <!--/--> | 68 | 69 | 70 | 71 | 72 | 73 | 75 | 77 | 78 | 80 | 82 | 83 | 85 | 87 | 88 | Sum |\n",
       "|---|---|---|---|---|---|---|---|---|---|---|---|---|---|---|---|---|\n",
       "| 1 | 0 | 0 | 1 | 1 | 1 | 1 | 1 | 1 | 1 | 1 | 0 | 0 | 1 | 1 | 1 | 11 |\n",
       "| 2 | 0 | 0 | 0 | 1 | 1 | 1 | 1 | 1 | 1 | 0 | 0 | 1 | 1 | 0 | 1 |  9 |\n",
       "| 3 | 1 | 1 | 1 | 1 | 1 | 1 | 1 | 1 | 1 | 0 | 0 | 1 | 0 | 1 | 1 | 12 |\n",
       "| 4 | 0 | 0 | 1 | 1 | 1 | 1 | 1 | 0 | 0 | 1 | 0 | 1 | 0 | 1 | 1 |  9 |\n",
       "| 5 | 1 | 1 | 1 | 1 | 1 | 1 | 1 | 1 | 1 | 0 | 1 | 0 | 0 | 0 | 0 | 10 |\n",
       "| 6 | 1 | 0 | 1 | 1 | 1 | 1 | 1 | 1 | 1 | 1 | 0 | 1 | 0 | 0 | 1 | 11 |\n",
       "| 7 | 1 | 1 | 1 | 1 | 1 | 1 | 0 | 0 | 0 | 0 | 0 | 0 | 0 | 1 | 1 |  8 |\n",
       "| 9 | 0 | 0 | 1 | 1 | 1 | 1 | 1 | 1 | 1 | 0 | 0 | 1 | 0 | 0 | 1 |  9 |\n",
       "| 10 | 0 | 1 | 1 | 1 | 1 | 0 | 1 | 1 | 1 | 1 | 1 | 0 | 0 | 0 | 0 |  9 |\n",
       "| 12 | 0 | 0 | 0 | 0 | 0 | 0 | 0 | 0 | 0 | 0 | 0 | 0 | 0 | 0 | 1 |  1 |\n",
       "| 13 | 0 | 0 | 1 | 1 | 0 | 1 | 1 | 0 | 1 | 0 | 0 | 1 | 0 | 0 | 1 |  7 |\n",
       "| 14 | 0 | 0 | 0 | 0 | 0 | 0 | 0 | 0 | 0 | 0 | 0 | 0 | 0 | 0 | 1 |  1 |\n",
       "| 15 | 0 | 0 | 0 | 0 | 0 | 0 | 0 | 1 | 1 | 1 | 0 | 1 | 1 | 1 | 1 |  7 |\n",
       "| 16 | 0 | 0 | 1 | 1 | 1 | 1 | 1 | 1 | 1 | 0 | 0 | 1 | 0 | 0 | 1 |  9 |\n",
       "| 17 | 0 | 0 | 1 | 1 | 1 | 1 | 0 | 1 | 0 | 0 | 0 | 0 | 0 | 1 | 0 |  6 |\n",
       "| 18 | 0 | 0 | 0 | 0 | 0 | 0 | 0 | 1 | 0 | 0 | 0 | 0 | 0 | 0 | 1 |  2 |\n",
       "| 19 | 0 | 0 | 1 | 1 | 1 | 1 | 1 | 0 | 1 | 0 | 0 | 0 | 0 | 0 | 1 |  7 |\n",
       "| 20 | 0 | 0 | 1 | 1 | 1 | 1 | 1 | 1 | 1 | 0 | 1 | 1 | 0 | 0 | 1 | 10 |\n",
       "| 21 | 0 | 0 | 1 | 0 | 1 | 1 | 1 | 0 | 0 | 0 | 0 | 0 | 0 | 0 | 0 |  4 |\n",
       "| 22 | 0 | 1 | 1 | 1 | 0 | 1 | 1 | 1 | 1 | 0 | 0 | 0 | 0 | 0 | 1 |  8 |\n",
       "| 23 | 0 | 0 | 0 | 0 | 0 | 0 | 1 | 1 | 0 | 0 | 0 | 1 | 0 | 0 | 1 |  4 |\n",
       "| 24 | 1 | 1 | 1 | 1 | 1 | 1 | 1 | 1 | 1 | 0 | 0 | 1 | 0 | 0 | 1 | 11 |\n",
       "| 25 | 1 | 1 | 1 | 1 | 0 | 0 | 1 | 1 | 1 | 0 | 0 | 1 | 0 | 0 | 1 |  9 |\n",
       "| 26 | 1 | 1 | 1 | 1 | 0 | 0 | 0 | 0 | 0 | 0 | 0 | 1 | 0 | 0 | 0 |  5 |\n",
       "| 27 | 1 | 1 | 1 | 1 | 0 | 0 | 0 | 0 | 0 | 0 | 0 | 0 | 0 | 0 | 0 |  4 |\n",
       "| 29 | 0 | 1 | 1 | 1 | 1 | 0 | 0 | 0 | 0 | 0 | 0 | 0 | 0 | 0 | 0 |  4 |\n",
       "| 30 | 0 | 0 | 1 | 1 | 1 | 1 | 0 | 1 | 0 | 0 | 1 | 1 | 0 | 0 | 0 |  7 |\n",
       "| 33 | 1 | 0 | 0 | 0 | 0 | 0 | 0 | 0 | 0 | 0 | 0 | 0 | 0 | 0 | 0 |  1 |\n",
       "| 35 | 0 | 0 | 0 | 0 | 0 | 0 | 0 | 0 | 0 | 0 | 1 | 0 | 0 | 0 | 0 |  1 |\n",
       "| 36 | 0 | 0 | 1 | 1 | 1 | 1 | 1 | 1 | 1 | 0 | 0 | 0 | 0 | 0 | 1 |  8 |\n",
       "| ... | ... | ... | ... | ... | ... | ... | ... | ... | ... | ... | ... | ... | ... | ... | ... | ... |\n",
       "| 5126 | 0 | 0 | 0 | 0 | 0 | 0 | 0 | 0 | 0 | 1 | 0 | 0 | 0 | 0 | 0 |  1 |\n",
       "| 5127 | 0 | 1 | 1 | 1 | 0 | 0 | 1 | 1 | 1 | 0 | 1 | 1 | 1 | 0 | 1 | 10 |\n",
       "| 5128 | 0 | 0 | 0 | 0 | 0 | 0 | 0 | 1 | 1 | 0 | 0 | 1 | 0 | 0 | 1 |  4 |\n",
       "| 5130 | 1 | 1 | 0 | 0 | 0 | 0 | 0 | 0 | 0 | 0 | 0 | 0 | 0 | 0 | 0 |  2 |\n",
       "| 5131 | 0 | 0 | 0 | 0 | 0 | 1 | 0 | 0 | 0 | 0 | 0 | 0 | 0 | 0 | 0 |  1 |\n",
       "| 5132 | 0 | 0 | 0 | 0 | 0 | 0 | 0 | 1 | 1 | 1 | 1 | 1 | 1 | 1 | 0 |  7 |\n",
       "| 5133 | 0 | 0 | 0 | 0 | 0 | 0 | 1 | 1 | 1 | 0 | 0 | 1 | 0 | 1 | 0 |  5 |\n",
       "| 5134 | 0 | 0 | 0 | 0 | 0 | 0 | 0 | 0 | 1 | 0 | 0 | 1 | 0 | 0 | 1 |  3 |\n",
       "| 5136 | 1 | 0 | 1 | 1 | 1 | 1 | 1 | 0 | 1 | 0 | 0 | 0 | 0 | 0 | 0 |  7 |\n",
       "| 5137 | 1 | 0 | 0 | 0 | 0 | 0 | 0 | 0 | 0 | 0 | 0 | 0 | 0 | 0 | 0 |  1 |\n",
       "| 5138 | 0 | 0 | 0 | 0 | 1 | 0 | 0 | 0 | 0 | 0 | 0 | 0 | 0 | 0 | 0 |  1 |\n",
       "| 5139 | 0 | 0 | 0 | 0 | 0 | 0 | 0 | 1 | 1 | 1 | 1 | 1 | 0 | 0 | 0 |  5 |\n",
       "| 5140 | 1 | 0 | 0 | 0 | 0 | 0 | 0 | 0 | 0 | 0 | 0 | 0 | 0 | 0 | 0 |  1 |\n",
       "| 5141 | 0 | 0 | 1 | 1 | 0 | 0 | 0 | 0 | 0 | 0 | 0 | 0 | 0 | 0 | 0 |  2 |\n",
       "| 5142 | 0 | 1 | 1 | 1 | 0 | 1 | 1 | 0 | 0 | 0 | 0 | 0 | 0 | 0 | 0 |  5 |\n",
       "| 5143 | 0 | 0 | 1 | 1 | 0 | 0 | 0 | 0 | 0 | 0 | 0 | 0 | 0 | 1 | 1 |  4 |\n",
       "| 5144 | 0 | 0 | 0 | 0 | 0 | 0 | 0 | 0 | 0 | 0 | 1 | 0 | 0 | 0 | 0 |  1 |\n",
       "| 5145 | 0 | 0 | 1 | 1 | 1 | 1 | 1 | 1 | 0 | 0 | 0 | 0 | 0 | 0 | 0 |  6 |\n",
       "| 5146 | 0 | 0 | 0 | 0 | 0 | 0 | 0 | 1 | 0 | 0 | 0 | 1 | 0 | 0 | 0 |  2 |\n",
       "| 5147 | 0 | 0 | 0 | 0 | 0 | 0 | 0 | 0 | 0 | 0 | 0 | 0 | 0 | 1 | 1 |  2 |\n",
       "| 5148 | 0 | 0 | 0 | 1 | 0 | 1 | 0 | 1 | 1 | 0 | 0 | 0 | 0 | 1 | 1 |  6 |\n",
       "| 5149 | 1 | 0 | 0 | 0 | 0 | 0 | 0 | 0 | 0 | 0 | 0 | 0 | 0 | 0 | 0 |  1 |\n",
       "| 5151 | 0 | 0 | 0 | 0 | 0 | 1 | 1 | 0 | 0 | 0 | 0 | 0 | 0 | 0 | 0 |  2 |\n",
       "| 5152 | 0 | 0 | 0 | 0 | 0 | 0 | 0 | 0 | 0 | 0 | 0 | 1 | 0 | 0 | 1 |  2 |\n",
       "| 5153 | 0 | 0 | 0 | 0 | 0 | 1 | 1 | 1 | 1 | 0 | 0 | 0 | 0 | 0 | 1 |  5 |\n",
       "| 5154 | 0 | 0 | 0 | 0 | 0 | 0 | 0 | 0 | 0 | 0 | 0 | 0 | 0 | 0 | 1 |  1 |\n",
       "| 5156 | 1 | 1 | 1 | 1 | 1 | 1 | 1 | 1 | 1 | 0 | 0 | 1 | 0 | 0 | 1 | 11 |\n",
       "| 5157 | 0 | 0 | 0 | 0 | 1 | 1 | 1 | 1 | 0 | 1 | 1 | 1 | 1 | 0 | 1 |  9 |\n",
       "| 5158 | 1 | 1 | 0 | 0 | 0 | 0 | 0 | 0 | 0 | 0 | 0 | 0 | 0 | 0 | 0 |  2 |\n",
       "| 5159 | 0 | 0 | 0 | 0 | 0 | 0 | 0 | 1 | 1 | 0 | 0 | 1 | 1 | 0 | 1 |  5 |\n",
       "\n"
      ],
      "text/plain": [
       "     68  69  70  71  72  73  75  77  78  80  82  83  85  87  88  Sum\n",
       "1    0   0   1   1   1   1   1   1   1   1   0   0   1   1   1   11 \n",
       "2    0   0   0   1   1   1   1   1   1   0   0   1   1   0   1    9 \n",
       "3    1   1   1   1   1   1   1   1   1   0   0   1   0   1   1   12 \n",
       "4    0   0   1   1   1   1   1   0   0   1   0   1   0   1   1    9 \n",
       "5    1   1   1   1   1   1   1   1   1   0   1   0   0   0   0   10 \n",
       "6    1   0   1   1   1   1   1   1   1   1   0   1   0   0   1   11 \n",
       "7    1   1   1   1   1   1   0   0   0   0   0   0   0   1   1    8 \n",
       "9    0   0   1   1   1   1   1   1   1   0   0   1   0   0   1    9 \n",
       "10   0   1   1   1   1   0   1   1   1   1   1   0   0   0   0    9 \n",
       "12   0   0   0   0   0   0   0   0   0   0   0   0   0   0   1    1 \n",
       "13   0   0   1   1   0   1   1   0   1   0   0   1   0   0   1    7 \n",
       "14   0   0   0   0   0   0   0   0   0   0   0   0   0   0   1    1 \n",
       "15   0   0   0   0   0   0   0   1   1   1   0   1   1   1   1    7 \n",
       "16   0   0   1   1   1   1   1   1   1   0   0   1   0   0   1    9 \n",
       "17   0   0   1   1   1   1   0   1   0   0   0   0   0   1   0    6 \n",
       "18   0   0   0   0   0   0   0   1   0   0   0   0   0   0   1    2 \n",
       "19   0   0   1   1   1   1   1   0   1   0   0   0   0   0   1    7 \n",
       "20   0   0   1   1   1   1   1   1   1   0   1   1   0   0   1   10 \n",
       "21   0   0   1   0   1   1   1   0   0   0   0   0   0   0   0    4 \n",
       "22   0   1   1   1   0   1   1   1   1   0   0   0   0   0   1    8 \n",
       "23   0   0   0   0   0   0   1   1   0   0   0   1   0   0   1    4 \n",
       "24   1   1   1   1   1   1   1   1   1   0   0   1   0   0   1   11 \n",
       "25   1   1   1   1   0   0   1   1   1   0   0   1   0   0   1    9 \n",
       "26   1   1   1   1   0   0   0   0   0   0   0   1   0   0   0    5 \n",
       "27   1   1   1   1   0   0   0   0   0   0   0   0   0   0   0    4 \n",
       "29   0   1   1   1   1   0   0   0   0   0   0   0   0   0   0    4 \n",
       "30   0   0   1   1   1   1   0   1   0   0   1   1   0   0   0    7 \n",
       "33   1   0   0   0   0   0   0   0   0   0   0   0   0   0   0    1 \n",
       "35   0   0   0   0   0   0   0   0   0   0   1   0   0   0   0    1 \n",
       "36   0   0   1   1   1   1   1   1   1   0   0   0   0   0   1    8 \n",
       "...  ... ... ... ... ... ... ... ... ... ... ... ... ... ... ... ...\n",
       "5126 0   0   0   0   0   0   0   0   0   1   0   0   0   0   0    1 \n",
       "5127 0   1   1   1   0   0   1   1   1   0   1   1   1   0   1   10 \n",
       "5128 0   0   0   0   0   0   0   1   1   0   0   1   0   0   1    4 \n",
       "5130 1   1   0   0   0   0   0   0   0   0   0   0   0   0   0    2 \n",
       "5131 0   0   0   0   0   1   0   0   0   0   0   0   0   0   0    1 \n",
       "5132 0   0   0   0   0   0   0   1   1   1   1   1   1   1   0    7 \n",
       "5133 0   0   0   0   0   0   1   1   1   0   0   1   0   1   0    5 \n",
       "5134 0   0   0   0   0   0   0   0   1   0   0   1   0   0   1    3 \n",
       "5136 1   0   1   1   1   1   1   0   1   0   0   0   0   0   0    7 \n",
       "5137 1   0   0   0   0   0   0   0   0   0   0   0   0   0   0    1 \n",
       "5138 0   0   0   0   1   0   0   0   0   0   0   0   0   0   0    1 \n",
       "5139 0   0   0   0   0   0   0   1   1   1   1   1   0   0   0    5 \n",
       "5140 1   0   0   0   0   0   0   0   0   0   0   0   0   0   0    1 \n",
       "5141 0   0   1   1   0   0   0   0   0   0   0   0   0   0   0    2 \n",
       "5142 0   1   1   1   0   1   1   0   0   0   0   0   0   0   0    5 \n",
       "5143 0   0   1   1   0   0   0   0   0   0   0   0   0   1   1    4 \n",
       "5144 0   0   0   0   0   0   0   0   0   0   1   0   0   0   0    1 \n",
       "5145 0   0   1   1   1   1   1   1   0   0   0   0   0   0   0    6 \n",
       "5146 0   0   0   0   0   0   0   1   0   0   0   1   0   0   0    2 \n",
       "5147 0   0   0   0   0   0   0   0   0   0   0   0   0   1   1    2 \n",
       "5148 0   0   0   1   0   1   0   1   1   0   0   0   0   1   1    6 \n",
       "5149 1   0   0   0   0   0   0   0   0   0   0   0   0   0   0    1 \n",
       "5151 0   0   0   0   0   1   1   0   0   0   0   0   0   0   0    2 \n",
       "5152 0   0   0   0   0   0   0   0   0   0   0   1   0   0   1    2 \n",
       "5153 0   0   0   0   0   1   1   1   1   0   0   0   0   0   1    5 \n",
       "5154 0   0   0   0   0   0   0   0   0   0   0   0   0   0   1    1 \n",
       "5156 1   1   1   1   1   1   1   1   1   0   0   1   0   0   1   11 \n",
       "5157 0   0   0   0   1   1   1   1   0   1   1   1   1   0   1    9 \n",
       "5158 1   1   0   0   0   0   0   0   0   0   0   0   0   0   0    2 \n",
       "5159 0   0   0   0   0   0   0   1   1   0   0   1   1   0   1    5 "
      ]
     },
     "metadata": {},
     "output_type": "display_data"
    }
   ],
   "source": [
    "with(nls_sub, addmargins(table(idcode,year),2))"
   ]
  },
  {
   "cell_type": "code",
   "execution_count": 43,
   "metadata": {},
   "outputs": [],
   "source": [
    "selec <- with(nls_sub, as.data.frame(addmargins(table(idcode,year),2)))"
   ]
  },
  {
   "cell_type": "code",
   "execution_count": 44,
   "metadata": {},
   "outputs": [
    {
     "data": {
      "text/html": [
       "<table>\n",
       "<caption>A data.frame: 6 × 3</caption>\n",
       "<thead>\n",
       "\t<tr><th></th><th scope=col>idcode</th><th scope=col>year</th><th scope=col>Freq</th></tr>\n",
       "\t<tr><th></th><th scope=col>&lt;fct&gt;</th><th scope=col>&lt;fct&gt;</th><th scope=col>&lt;dbl&gt;</th></tr>\n",
       "</thead>\n",
       "<tbody>\n",
       "\t<tr><th scope=row>1</th><td>1</td><td>68</td><td>0</td></tr>\n",
       "\t<tr><th scope=row>2</th><td>2</td><td>68</td><td>0</td></tr>\n",
       "\t<tr><th scope=row>3</th><td>3</td><td>68</td><td>1</td></tr>\n",
       "\t<tr><th scope=row>4</th><td>4</td><td>68</td><td>0</td></tr>\n",
       "\t<tr><th scope=row>5</th><td>5</td><td>68</td><td>1</td></tr>\n",
       "\t<tr><th scope=row>6</th><td>6</td><td>68</td><td>1</td></tr>\n",
       "</tbody>\n",
       "</table>\n"
      ],
      "text/latex": [
       "A data.frame: 6 × 3\n",
       "\\begin{tabular}{r|lll}\n",
       "  & idcode & year & Freq\\\\\n",
       "  & <fct> & <fct> & <dbl>\\\\\n",
       "\\hline\n",
       "\t1 & 1 & 68 & 0\\\\\n",
       "\t2 & 2 & 68 & 0\\\\\n",
       "\t3 & 3 & 68 & 1\\\\\n",
       "\t4 & 4 & 68 & 0\\\\\n",
       "\t5 & 5 & 68 & 1\\\\\n",
       "\t6 & 6 & 68 & 1\\\\\n",
       "\\end{tabular}\n"
      ],
      "text/markdown": [
       "\n",
       "A data.frame: 6 × 3\n",
       "\n",
       "| <!--/--> | idcode &lt;fct&gt; | year &lt;fct&gt; | Freq &lt;dbl&gt; |\n",
       "|---|---|---|---|\n",
       "| 1 | 1 | 68 | 0 |\n",
       "| 2 | 2 | 68 | 0 |\n",
       "| 3 | 3 | 68 | 1 |\n",
       "| 4 | 4 | 68 | 0 |\n",
       "| 5 | 5 | 68 | 1 |\n",
       "| 6 | 6 | 68 | 1 |\n",
       "\n"
      ],
      "text/plain": [
       "  idcode year Freq\n",
       "1 1      68   0   \n",
       "2 2      68   0   \n",
       "3 3      68   1   \n",
       "4 4      68   0   \n",
       "5 5      68   1   \n",
       "6 6      68   1   "
      ]
     },
     "metadata": {},
     "output_type": "display_data"
    }
   ],
   "source": [
    "head(selec)"
   ]
  },
  {
   "cell_type": "code",
   "execution_count": 45,
   "metadata": {},
   "outputs": [
    {
     "data": {
      "text/html": [
       "<table>\n",
       "<caption>A data.frame: 6 × 3</caption>\n",
       "<thead>\n",
       "\t<tr><th></th><th scope=col>idcode</th><th scope=col>year</th><th scope=col>Freq</th></tr>\n",
       "\t<tr><th></th><th scope=col>&lt;fct&gt;</th><th scope=col>&lt;fct&gt;</th><th scope=col>&lt;dbl&gt;</th></tr>\n",
       "</thead>\n",
       "<tbody>\n",
       "\t<tr><th scope=row>73899</th><td>5153</td><td>Sum</td><td> 5</td></tr>\n",
       "\t<tr><th scope=row>73900</th><td>5154</td><td>Sum</td><td> 1</td></tr>\n",
       "\t<tr><th scope=row>73901</th><td>5156</td><td>Sum</td><td>11</td></tr>\n",
       "\t<tr><th scope=row>73902</th><td>5157</td><td>Sum</td><td> 9</td></tr>\n",
       "\t<tr><th scope=row>73903</th><td>5158</td><td>Sum</td><td> 2</td></tr>\n",
       "\t<tr><th scope=row>73904</th><td>5159</td><td>Sum</td><td> 5</td></tr>\n",
       "</tbody>\n",
       "</table>\n"
      ],
      "text/latex": [
       "A data.frame: 6 × 3\n",
       "\\begin{tabular}{r|lll}\n",
       "  & idcode & year & Freq\\\\\n",
       "  & <fct> & <fct> & <dbl>\\\\\n",
       "\\hline\n",
       "\t73899 & 5153 & Sum &  5\\\\\n",
       "\t73900 & 5154 & Sum &  1\\\\\n",
       "\t73901 & 5156 & Sum & 11\\\\\n",
       "\t73902 & 5157 & Sum &  9\\\\\n",
       "\t73903 & 5158 & Sum &  2\\\\\n",
       "\t73904 & 5159 & Sum &  5\\\\\n",
       "\\end{tabular}\n"
      ],
      "text/markdown": [
       "\n",
       "A data.frame: 6 × 3\n",
       "\n",
       "| <!--/--> | idcode &lt;fct&gt; | year &lt;fct&gt; | Freq &lt;dbl&gt; |\n",
       "|---|---|---|---|\n",
       "| 73899 | 5153 | Sum |  5 |\n",
       "| 73900 | 5154 | Sum |  1 |\n",
       "| 73901 | 5156 | Sum | 11 |\n",
       "| 73902 | 5157 | Sum |  9 |\n",
       "| 73903 | 5158 | Sum |  2 |\n",
       "| 73904 | 5159 | Sum |  5 |\n",
       "\n"
      ],
      "text/plain": [
       "      idcode year Freq\n",
       "73899 5153   Sum   5  \n",
       "73900 5154   Sum   1  \n",
       "73901 5156   Sum  11  \n",
       "73902 5157   Sum   9  \n",
       "73903 5158   Sum   2  \n",
       "73904 5159   Sum   5  "
      ]
     },
     "metadata": {},
     "output_type": "display_data"
    }
   ],
   "source": [
    "tail(selec)"
   ]
  },
  {
   "cell_type": "code",
   "execution_count": 46,
   "metadata": {},
   "outputs": [],
   "source": [
    "excl <- selec[selec$year == 'Sum' & selec$Freq > 5, ]"
   ]
  },
  {
   "cell_type": "code",
   "execution_count": 47,
   "metadata": {},
   "outputs": [
    {
     "data": {
      "text/html": [
       "<table>\n",
       "<caption>A data.frame: 6 × 3</caption>\n",
       "<thead>\n",
       "\t<tr><th></th><th scope=col>idcode</th><th scope=col>year</th><th scope=col>Freq</th></tr>\n",
       "\t<tr><th></th><th scope=col>&lt;fct&gt;</th><th scope=col>&lt;fct&gt;</th><th scope=col>&lt;dbl&gt;</th></tr>\n",
       "</thead>\n",
       "<tbody>\n",
       "\t<tr><th scope=row>69286</th><td>1</td><td>Sum</td><td>11</td></tr>\n",
       "\t<tr><th scope=row>69287</th><td>2</td><td>Sum</td><td> 9</td></tr>\n",
       "\t<tr><th scope=row>69288</th><td>3</td><td>Sum</td><td>12</td></tr>\n",
       "\t<tr><th scope=row>69289</th><td>4</td><td>Sum</td><td> 9</td></tr>\n",
       "\t<tr><th scope=row>69290</th><td>5</td><td>Sum</td><td>10</td></tr>\n",
       "\t<tr><th scope=row>69291</th><td>6</td><td>Sum</td><td>11</td></tr>\n",
       "</tbody>\n",
       "</table>\n"
      ],
      "text/latex": [
       "A data.frame: 6 × 3\n",
       "\\begin{tabular}{r|lll}\n",
       "  & idcode & year & Freq\\\\\n",
       "  & <fct> & <fct> & <dbl>\\\\\n",
       "\\hline\n",
       "\t69286 & 1 & Sum & 11\\\\\n",
       "\t69287 & 2 & Sum &  9\\\\\n",
       "\t69288 & 3 & Sum & 12\\\\\n",
       "\t69289 & 4 & Sum &  9\\\\\n",
       "\t69290 & 5 & Sum & 10\\\\\n",
       "\t69291 & 6 & Sum & 11\\\\\n",
       "\\end{tabular}\n"
      ],
      "text/markdown": [
       "\n",
       "A data.frame: 6 × 3\n",
       "\n",
       "| <!--/--> | idcode &lt;fct&gt; | year &lt;fct&gt; | Freq &lt;dbl&gt; |\n",
       "|---|---|---|---|\n",
       "| 69286 | 1 | Sum | 11 |\n",
       "| 69287 | 2 | Sum |  9 |\n",
       "| 69288 | 3 | Sum | 12 |\n",
       "| 69289 | 4 | Sum |  9 |\n",
       "| 69290 | 5 | Sum | 10 |\n",
       "| 69291 | 6 | Sum | 11 |\n",
       "\n"
      ],
      "text/plain": [
       "      idcode year Freq\n",
       "69286 1      Sum  11  \n",
       "69287 2      Sum   9  \n",
       "69288 3      Sum  12  \n",
       "69289 4      Sum   9  \n",
       "69290 5      Sum  10  \n",
       "69291 6      Sum  11  "
      ]
     },
     "metadata": {},
     "output_type": "display_data"
    }
   ],
   "source": [
    "head(excl)"
   ]
  },
  {
   "cell_type": "code",
   "execution_count": 48,
   "metadata": {},
   "outputs": [
    {
     "name": "stdout",
     "output_type": "stream",
     "text": [
      "'data.frame':\t22245 obs. of  11 variables:\n",
      " $ idcode     : int  1 1 1 1 1 1 1 1 1 1 ...\n",
      " $ year       : int  70 71 72 73 75 77 78 80 85 87 ...\n",
      " $ age        : int  18 19 20 21 23 25 26 28 33 35 ...\n",
      " $ grade      : int  12 12 12 12 12 12 12 12 12 12 ...\n",
      " $ wks_ue     : int  2 22 0 0 0 0 7 0 0 0 ...\n",
      " $ ttl_exp    : num  1.08 1.28 2.26 2.31 2.78 ...\n",
      " $ tenure     : num  0.0833 0.0833 0.9167 0.0833 0.1667 ...\n",
      " $ hours      : int  20 44 40 40 10 32 52 45 42 45 ...\n",
      " $ wks_work   : int  27 10 51 3 24 52 4 75 97 95 ...\n",
      " $ ln_wage    : num  1.45 1.03 1.59 1.78 1.78 ...\n",
      " $ universidad: Factor w/ 2 levels \"Se Graduó U\",..: 2 2 2 2 2 2 2 2 2 2 ...\n",
      " - attr(*, \"na.action\")= 'omit' Named int [1:6289] 9 19 20 23 34 35 37 46 48 60 ...\n",
      "  ..- attr(*, \"names\")= chr [1:6289] \"9\" \"19\" \"20\" \"23\" ...\n"
     ]
    }
   ],
   "source": [
    "str(nls_sub)"
   ]
  },
  {
   "cell_type": "code",
   "execution_count": 49,
   "metadata": {},
   "outputs": [],
   "source": [
    "nls_sub$idcode <- factor(nls_sub$idcode)"
   ]
  },
  {
   "cell_type": "code",
   "execution_count": 50,
   "metadata": {},
   "outputs": [
    {
     "name": "stdout",
     "output_type": "stream",
     "text": [
      "'data.frame':\t22245 obs. of  11 variables:\n",
      " $ idcode     : Factor w/ 4619 levels \"1\",\"2\",\"3\",\"4\",..: 1 1 1 1 1 1 1 1 1 1 ...\n",
      " $ year       : int  70 71 72 73 75 77 78 80 85 87 ...\n",
      " $ age        : int  18 19 20 21 23 25 26 28 33 35 ...\n",
      " $ grade      : int  12 12 12 12 12 12 12 12 12 12 ...\n",
      " $ wks_ue     : int  2 22 0 0 0 0 7 0 0 0 ...\n",
      " $ ttl_exp    : num  1.08 1.28 2.26 2.31 2.78 ...\n",
      " $ tenure     : num  0.0833 0.0833 0.9167 0.0833 0.1667 ...\n",
      " $ hours      : int  20 44 40 40 10 32 52 45 42 45 ...\n",
      " $ wks_work   : int  27 10 51 3 24 52 4 75 97 95 ...\n",
      " $ ln_wage    : num  1.45 1.03 1.59 1.78 1.78 ...\n",
      " $ universidad: Factor w/ 2 levels \"Se Graduó U\",..: 2 2 2 2 2 2 2 2 2 2 ...\n",
      " - attr(*, \"na.action\")= 'omit' Named int [1:6289] 9 19 20 23 34 35 37 46 48 60 ...\n",
      "  ..- attr(*, \"names\")= chr [1:6289] \"9\" \"19\" \"20\" \"23\" ...\n"
     ]
    }
   ],
   "source": [
    "str(nls_sub)"
   ]
  },
  {
   "cell_type": "code",
   "execution_count": 51,
   "metadata": {},
   "outputs": [
    {
     "name": "stderr",
     "output_type": "stream",
     "text": [
      "\n",
      "Attaching package: 'dplyr'\n",
      "\n",
      "\n",
      "The following object is masked from 'package:GGally':\n",
      "\n",
      "    nasa\n",
      "\n",
      "\n",
      "The following objects are masked from 'package:stats':\n",
      "\n",
      "    filter, lag\n",
      "\n",
      "\n",
      "The following objects are masked from 'package:base':\n",
      "\n",
      "    intersect, setdiff, setequal, union\n",
      "\n",
      "\n"
     ]
    }
   ],
   "source": [
    "library(dplyr)"
   ]
  },
  {
   "cell_type": "code",
   "execution_count": 52,
   "metadata": {},
   "outputs": [],
   "source": [
    "nls_sub1 <- left_join(nls_sub, excl[,c(1,3)], by = 'idcode')"
   ]
  },
  {
   "cell_type": "code",
   "execution_count": 53,
   "metadata": {},
   "outputs": [
    {
     "data": {
      "text/plain": [
       "     idcode           year            age            grade      \n",
       " 75     :   14   Min.   :68.00   Min.   :14.00   Min.   : 0.00  \n",
       " 1126   :   14   1st Qu.:71.00   1st Qu.:23.00   1st Qu.:12.00  \n",
       " 1748   :   14   Median :75.00   Median :27.00   Median :12.00  \n",
       " 1873   :   14   Mean   :76.68   Mean   :27.86   Mean   :12.44  \n",
       " 2849   :   14   3rd Qu.:82.00   3rd Qu.:33.00   3rd Qu.:13.00  \n",
       " 3836   :   14   Max.   :88.00   Max.   :46.00   Max.   :18.00  \n",
       " (Other):22161                                                  \n",
       "     wks_ue          ttl_exp           tenure           hours      \n",
       " Min.   : 0.000   Min.   : 0.000   Min.   : 0.000   Min.   :  1.0  \n",
       " 1st Qu.: 0.000   1st Qu.: 2.077   1st Qu.: 0.500   1st Qu.: 35.0  \n",
       " Median : 0.000   Median : 4.141   Median : 1.417   Median : 40.0  \n",
       " Mean   : 2.519   Mean   : 5.335   Mean   : 2.631   Mean   : 36.2  \n",
       " 3rd Qu.: 0.000   3rd Qu.: 7.346   3rd Qu.: 3.417   3rd Qu.: 40.0  \n",
       " Max.   :76.000   Max.   :28.885   Max.   :25.917   Max.   :168.0  \n",
       "                                                                   \n",
       "    wks_work         ln_wage              universidad         Freq       \n",
       " Min.   :  0.00   Min.   :0.000   Se Graduó U   : 3520   Min.   : 6.000  \n",
       " 1st Qu.: 29.00   1st Qu.:1.335   No Se Graduó U:18725   1st Qu.: 7.000  \n",
       " Median : 50.00   Median :1.609                          Median : 8.000  \n",
       " Mean   : 44.41   Mean   :1.635                          Mean   : 8.531  \n",
       " 3rd Qu.: 53.00   3rd Qu.:1.909                          3rd Qu.:10.000  \n",
       " Max.   :103.00   Max.   :5.264                          Max.   :14.000  \n",
       "                                                         NA's   :7898    "
      ]
     },
     "metadata": {},
     "output_type": "display_data"
    }
   ],
   "source": [
    "summary(nls_sub1)"
   ]
  },
  {
   "cell_type": "code",
   "execution_count": 54,
   "metadata": {},
   "outputs": [],
   "source": [
    "nls_sub2 <- nls_sub1[!is.na(nls_sub1$Freq),]"
   ]
  },
  {
   "cell_type": "code",
   "execution_count": 55,
   "metadata": {
    "scrolled": false
   },
   "outputs": [
    {
     "data": {
      "text/plain": [
       "     idcode           year            age           grade      \n",
       " 75     :   14   Min.   :68.00   Min.   :16.0   Min.   : 0.00  \n",
       " 1126   :   14   1st Qu.:71.00   1st Qu.:23.0   1st Qu.:12.00  \n",
       " 1748   :   14   Median :75.00   Median :26.0   Median :12.00  \n",
       " 1873   :   14   Mean   :76.21   Mean   :27.7   Mean   :12.11  \n",
       " 2849   :   14   3rd Qu.:80.00   3rd Qu.:32.0   3rd Qu.:12.00  \n",
       " 3836   :   14   Max.   :88.00   Max.   :46.0   Max.   :18.00  \n",
       " (Other):14263                                                 \n",
       "     wks_ue          ttl_exp           tenure            hours       \n",
       " Min.   : 0.000   Min.   : 0.000   Min.   : 0.0000   Min.   :  1.00  \n",
       " 1st Qu.: 0.000   1st Qu.: 2.404   1st Qu.: 0.5833   1st Qu.: 35.00  \n",
       " Median : 0.000   Median : 4.532   Median : 1.5833   Median : 40.00  \n",
       " Mean   : 2.352   Mean   : 5.573   Mean   : 2.8353   Mean   : 36.31  \n",
       " 3rd Qu.: 0.000   3rd Qu.: 7.538   3rd Qu.: 3.7500   3rd Qu.: 40.00  \n",
       " Max.   :75.000   Max.   :26.846   Max.   :25.9167   Max.   :112.00  \n",
       "                                                                     \n",
       "    wks_work         ln_wage                universidad         Freq       \n",
       " Min.   :  0.00   Min.   :0.00494   Se Graduó U   : 1434   Min.   : 6.000  \n",
       " 1st Qu.: 34.00   1st Qu.:1.34921   No Se Graduó U:12913   1st Qu.: 7.000  \n",
       " Median : 51.00   Median :1.61166                          Median : 8.000  \n",
       " Mean   : 45.34   Mean   :1.63189                          Mean   : 8.531  \n",
       " 3rd Qu.: 53.00   3rd Qu.:1.89010                          3rd Qu.:10.000  \n",
       " Max.   :103.00   Max.   :5.26392                          Max.   :14.000  \n",
       "                                                                           "
      ]
     },
     "metadata": {},
     "output_type": "display_data"
    }
   ],
   "source": [
    "summary(nls_sub2)"
   ]
  },
  {
   "cell_type": "markdown",
   "metadata": {},
   "source": [
    "Vamos al modelo, primero traemos la librería al entorno de trabajo:"
   ]
  },
  {
   "cell_type": "code",
   "execution_count": 56,
   "metadata": {
    "scrolled": true
   },
   "outputs": [
    {
     "name": "stderr",
     "output_type": "stream",
     "text": [
      "\n",
      "Attaching package: 'plm'\n",
      "\n",
      "\n",
      "The following objects are masked from 'package:dplyr':\n",
      "\n",
      "    between, lag, lead\n",
      "\n",
      "\n"
     ]
    }
   ],
   "source": [
    "library(plm) # llamamos la librería para modelar el panel"
   ]
  },
  {
   "cell_type": "markdown",
   "metadata": {},
   "source": [
    "Indixamos para señalar individuos y periodos:"
   ]
  },
  {
   "cell_type": "code",
   "execution_count": 57,
   "metadata": {},
   "outputs": [],
   "source": [
    "nls_sub2 <- pdata.frame( nls_sub2, c( \"idcode\", \"year\" ) )"
   ]
  },
  {
   "cell_type": "code",
   "execution_count": 58,
   "metadata": {},
   "outputs": [
    {
     "data": {
      "text/html": [
       "<table>\n",
       "<caption>A pdata.frame: 6 × 12</caption>\n",
       "<thead>\n",
       "\t<tr><th></th><th scope=col>idcode</th><th scope=col>year</th><th scope=col>age</th><th scope=col>grade</th><th scope=col>wks_ue</th><th scope=col>ttl_exp</th><th scope=col>tenure</th><th scope=col>hours</th><th scope=col>wks_work</th><th scope=col>ln_wage</th><th scope=col>universidad</th><th scope=col>Freq</th></tr>\n",
       "\t<tr><th></th><th scope=col>&lt;fct&gt;</th><th scope=col>&lt;fct&gt;</th><th scope=col>&lt;int&gt;</th><th scope=col>&lt;int&gt;</th><th scope=col>&lt;int&gt;</th><th scope=col>&lt;dbl&gt;</th><th scope=col>&lt;dbl&gt;</th><th scope=col>&lt;int&gt;</th><th scope=col>&lt;int&gt;</th><th scope=col>&lt;dbl&gt;</th><th scope=col>&lt;fct&gt;</th><th scope=col>&lt;dbl&gt;</th></tr>\n",
       "</thead>\n",
       "<tbody>\n",
       "\t<tr><th scope=row>1-70</th><td>1</td><td>70</td><td>18</td><td>12</td><td> 2</td><td>1.083333</td><td>0.08333334</td><td>20</td><td>27</td><td>1.451214</td><td>No Se Graduó U</td><td>11</td></tr>\n",
       "\t<tr><th scope=row>1-71</th><td>1</td><td>71</td><td>19</td><td>12</td><td>22</td><td>1.275641</td><td>0.08333334</td><td>44</td><td>10</td><td>1.028620</td><td>No Se Graduó U</td><td>11</td></tr>\n",
       "\t<tr><th scope=row>1-72</th><td>1</td><td>72</td><td>20</td><td>12</td><td> 0</td><td>2.256410</td><td>0.91666669</td><td>40</td><td>51</td><td>1.589977</td><td>No Se Graduó U</td><td>11</td></tr>\n",
       "\t<tr><th scope=row>1-73</th><td>1</td><td>73</td><td>21</td><td>12</td><td> 0</td><td>2.314102</td><td>0.08333334</td><td>40</td><td> 3</td><td>1.780273</td><td>No Se Graduó U</td><td>11</td></tr>\n",
       "\t<tr><th scope=row>1-75</th><td>1</td><td>75</td><td>23</td><td>12</td><td> 0</td><td>2.775641</td><td>0.16666667</td><td>10</td><td>24</td><td>1.777012</td><td>No Se Graduó U</td><td>11</td></tr>\n",
       "\t<tr><th scope=row>1-77</th><td>1</td><td>77</td><td>25</td><td>12</td><td> 0</td><td>3.775641</td><td>1.50000000</td><td>32</td><td>52</td><td>1.778681</td><td>No Se Graduó U</td><td>11</td></tr>\n",
       "</tbody>\n",
       "</table>\n"
      ],
      "text/latex": [
       "A pdata.frame: 6 × 12\n",
       "\\begin{tabular}{r|llllllllllll}\n",
       "  & idcode & year & age & grade & wks\\_ue & ttl\\_exp & tenure & hours & wks\\_work & ln\\_wage & universidad & Freq\\\\\n",
       "  & <fct> & <fct> & <int> & <int> & <int> & <dbl> & <dbl> & <int> & <int> & <dbl> & <fct> & <dbl>\\\\\n",
       "\\hline\n",
       "\t1-70 & 1 & 70 & 18 & 12 &  2 & 1.083333 & 0.08333334 & 20 & 27 & 1.451214 & No Se Graduó U & 11\\\\\n",
       "\t1-71 & 1 & 71 & 19 & 12 & 22 & 1.275641 & 0.08333334 & 44 & 10 & 1.028620 & No Se Graduó U & 11\\\\\n",
       "\t1-72 & 1 & 72 & 20 & 12 &  0 & 2.256410 & 0.91666669 & 40 & 51 & 1.589977 & No Se Graduó U & 11\\\\\n",
       "\t1-73 & 1 & 73 & 21 & 12 &  0 & 2.314102 & 0.08333334 & 40 &  3 & 1.780273 & No Se Graduó U & 11\\\\\n",
       "\t1-75 & 1 & 75 & 23 & 12 &  0 & 2.775641 & 0.16666667 & 10 & 24 & 1.777012 & No Se Graduó U & 11\\\\\n",
       "\t1-77 & 1 & 77 & 25 & 12 &  0 & 3.775641 & 1.50000000 & 32 & 52 & 1.778681 & No Se Graduó U & 11\\\\\n",
       "\\end{tabular}\n"
      ],
      "text/markdown": [
       "\n",
       "A pdata.frame: 6 × 12\n",
       "\n",
       "| <!--/--> | idcode &lt;fct&gt; | year &lt;fct&gt; | age &lt;int&gt; | grade &lt;int&gt; | wks_ue &lt;int&gt; | ttl_exp &lt;dbl&gt; | tenure &lt;dbl&gt; | hours &lt;int&gt; | wks_work &lt;int&gt; | ln_wage &lt;dbl&gt; | universidad &lt;fct&gt; | Freq &lt;dbl&gt; |\n",
       "|---|---|---|---|---|---|---|---|---|---|---|---|---|\n",
       "| 1-70 | 1 | 70 | 18 | 12 |  2 | 1.083333 | 0.08333334 | 20 | 27 | 1.451214 | No Se Graduó U | 11 |\n",
       "| 1-71 | 1 | 71 | 19 | 12 | 22 | 1.275641 | 0.08333334 | 44 | 10 | 1.028620 | No Se Graduó U | 11 |\n",
       "| 1-72 | 1 | 72 | 20 | 12 |  0 | 2.256410 | 0.91666669 | 40 | 51 | 1.589977 | No Se Graduó U | 11 |\n",
       "| 1-73 | 1 | 73 | 21 | 12 |  0 | 2.314102 | 0.08333334 | 40 |  3 | 1.780273 | No Se Graduó U | 11 |\n",
       "| 1-75 | 1 | 75 | 23 | 12 |  0 | 2.775641 | 0.16666667 | 10 | 24 | 1.777012 | No Se Graduó U | 11 |\n",
       "| 1-77 | 1 | 77 | 25 | 12 |  0 | 3.775641 | 1.50000000 | 32 | 52 | 1.778681 | No Se Graduó U | 11 |\n",
       "\n"
      ],
      "text/plain": [
       "     idcode year age grade wks_ue ttl_exp  tenure     hours wks_work ln_wage \n",
       "1-70 1      70   18  12     2     1.083333 0.08333334 20    27       1.451214\n",
       "1-71 1      71   19  12    22     1.275641 0.08333334 44    10       1.028620\n",
       "1-72 1      72   20  12     0     2.256410 0.91666669 40    51       1.589977\n",
       "1-73 1      73   21  12     0     2.314102 0.08333334 40     3       1.780273\n",
       "1-75 1      75   23  12     0     2.775641 0.16666667 10    24       1.777012\n",
       "1-77 1      77   25  12     0     3.775641 1.50000000 32    52       1.778681\n",
       "     universidad    Freq\n",
       "1-70 No Se Graduó U 11  \n",
       "1-71 No Se Graduó U 11  \n",
       "1-72 No Se Graduó U 11  \n",
       "1-73 No Se Graduó U 11  \n",
       "1-75 No Se Graduó U 11  \n",
       "1-77 No Se Graduó U 11  "
      ]
     },
     "metadata": {},
     "output_type": "display_data"
    }
   ],
   "source": [
    "head(nls_sub2)"
   ]
  },
  {
   "cell_type": "markdown",
   "metadata": {},
   "source": [
    "Probemos un primer modelo: el de efectos aleatorios"
   ]
  },
  {
   "cell_type": "code",
   "execution_count": 59,
   "metadata": {},
   "outputs": [
    {
     "data": {
      "text/plain": [
       "Oneway (individual) effect Random Effect Model \n",
       "   (Swamy-Arora's transformation)\n",
       "\n",
       "Call:\n",
       "plm(formula = ln_wage ~ tenure + ttl_exp + grade, data = nls_sub2, \n",
       "    model = \"random\")\n",
       "\n",
       "Unbalanced Panel: n = 1766, T = 6-14, N = 14347\n",
       "\n",
       "Effects:\n",
       "                  var std.dev share\n",
       "idiosyncratic 0.08508 0.29168 0.596\n",
       "individual    0.05769 0.24019 0.404\n",
       "theta:\n",
       "   Min. 1st Qu.  Median    Mean 3rd Qu.    Max. \n",
       " 0.5558  0.5828  0.6055  0.6109  0.6415  0.6913 \n",
       "\n",
       "Residuals:\n",
       "   Min. 1st Qu.  Median    Mean 3rd Qu.    Max. \n",
       "-1.7650 -0.1429  0.0152  0.0008  0.1557  3.2583 \n",
       "\n",
       "Coefficients:\n",
       "              Estimate Std. Error z-value  Pr(>|z|)    \n",
       "(Intercept) 0.57436547 0.03810924  15.072 < 2.2e-16 ***\n",
       "tenure      0.01914780 0.00115993  16.508 < 2.2e-16 ***\n",
       "ttl_exp     0.01840265 0.00087538  21.023 < 2.2e-16 ***\n",
       "grade       0.07401454 0.00310181  23.862 < 2.2e-16 ***\n",
       "---\n",
       "Signif. codes:  0 '***' 0.001 '**' 0.01 '*' 0.05 '.' 0.1 ' ' 1\n",
       "\n",
       "Total Sum of Squares:    1498.2\n",
       "Residual Sum of Squares: 1223.2\n",
       "R-Squared:      0.18365\n",
       "Adj. R-Squared: 0.18348\n",
       "Chisq: 3224.01 on 3 DF, p-value: < 2.22e-16"
      ]
     },
     "metadata": {},
     "output_type": "display_data"
    }
   ],
   "source": [
    "m1 <- plm(ln_wage ~ tenure + ttl_exp + grade, data = nls_sub2, model = 'random')\n",
    "summary(m1)"
   ]
  },
  {
   "cell_type": "markdown",
   "metadata": {},
   "source": [
    "Ahora el segundo modelo: Efectos Fijos"
   ]
  },
  {
   "cell_type": "code",
   "execution_count": 60,
   "metadata": {
    "scrolled": false
   },
   "outputs": [
    {
     "data": {
      "text/plain": [
       "Oneway (individual) effect Within Model\n",
       "\n",
       "Call:\n",
       "plm(formula = ln_wage ~ tenure + ttl_exp + grade, data = nls_sub2, \n",
       "    model = \"within\")\n",
       "\n",
       "Unbalanced Panel: n = 1766, T = 6-14, N = 14347\n",
       "\n",
       "Residuals:\n",
       "     Min.   1st Qu.    Median   3rd Qu.      Max. \n",
       "-1.903035 -0.127558  0.014504  0.141046  2.963675 \n",
       "\n",
       "Coefficients:\n",
       "          Estimate Std. Error t-value  Pr(>|t|)    \n",
       "tenure  0.01685875 0.00120633  13.975 < 2.2e-16 ***\n",
       "ttl_exp 0.01932078 0.00089836  21.507 < 2.2e-16 ***\n",
       "---\n",
       "Signif. codes:  0 '***' 0.001 '**' 0.01 '*' 0.05 '.' 0.1 ' ' 1\n",
       "\n",
       "Total Sum of Squares:    1242.2\n",
       "Residual Sum of Squares: 1070.2\n",
       "R-Squared:      0.13847\n",
       "Adj. R-Squared: 0.017444\n",
       "F-statistic: 1010.85 on 2 and 12579 DF, p-value: < 2.22e-16"
      ]
     },
     "metadata": {},
     "output_type": "display_data"
    }
   ],
   "source": [
    "m2 <- plm(ln_wage ~ tenure + ttl_exp + grade, data = nls_sub2, model = 'within')\n",
    "summary(m2)"
   ]
  },
  {
   "cell_type": "markdown",
   "metadata": {},
   "source": [
    "Comparemos los modelos:"
   ]
  },
  {
   "cell_type": "code",
   "execution_count": 61,
   "metadata": {},
   "outputs": [
    {
     "data": {
      "text/plain": [
       "\n",
       "\tF test for individual effects\n",
       "\n",
       "data:  ln_wage ~ tenure + ttl_exp + grade\n",
       "F = 1.0198, df1 = 1764, df2 = 12579, p-value = 0.2893\n",
       "alternative hypothesis: significant effects\n"
      ]
     },
     "metadata": {},
     "output_type": "display_data"
    }
   ],
   "source": [
    "plm::pFtest(m2,m1)"
   ]
  },
  {
   "cell_type": "markdown",
   "metadata": {},
   "source": [
    "El test para efectos individuales sugiere una ventaja estructural del modelo 2 (efectos fijos) sobre el modelo 1 (efectos aleatorios)\n",
    "\n",
    "Probemos, un tercer modelo que contemple un conjunto de coeficientes para cada individuo, no es una regresión agrupada sino un modelo de coeficientes variables:"
   ]
  },
  {
   "cell_type": "code",
   "execution_count": 62,
   "metadata": {
    "scrolled": false
   },
   "outputs": [
    {
     "data": {
      "text/plain": [
       "Oneway (individual) effect No-pooling model\n",
       "\n",
       "Call:\n",
       "pvcm(formula = ln_wage ~ tenure + ttl_exp + grade, data = nls_sub2, \n",
       "    model = \"within\")\n",
       "\n",
       "Unbalanced Panel: n = 1766, T = 6-14, N = 14347\n",
       "\n",
       "Residuals:\n",
       "        Min.      1st Qu.       Median      3rd Qu.         Max. \n",
       "-1.618426775 -0.080244675  0.001973256  0.088410453  2.074355211 \n",
       "\n",
       "Coefficients:\n",
       "  (Intercept)         tenure            ttl_exp              grade     \n",
       " Min.   :-1.800   Min.   :-5.01609   Min.   :-20.16058   Min.   : NA   \n",
       " 1st Qu.: 1.231   1st Qu.:-0.04710   1st Qu.: -0.02115   1st Qu.: NA   \n",
       " Median : 1.436   Median : 0.01627   Median :  0.02245   Median : NA   \n",
       " Mean   : 1.444   Mean   : 0.02398   Mean   :  0.02021   Mean   :NaN   \n",
       " 3rd Qu.: 1.680   3rd Qu.: 0.08627   3rd Qu.:  0.07161   3rd Qu.: NA   \n",
       " Max.   : 3.983   Max.   :20.13955   Max.   :  4.05000   Max.   : NA   \n",
       "                  NA's   :1          NA's   :6           NA's   :1766  \n",
       "\n",
       "Total Sum of Squares: 1426200\n",
       "Residual Sum of Squares: 563.49\n",
       "Multiple R-Squared: 0.9996"
      ]
     },
     "metadata": {},
     "output_type": "display_data"
    }
   ],
   "source": [
    "m3 <- pvcm(ln_wage ~ tenure + ttl_exp + grade, data = nls_sub2, model=\"within\")\n",
    "summary(m3)"
   ]
  },
  {
   "cell_type": "markdown",
   "metadata": {},
   "source": [
    "Comparemos el modelo con el de efectos fijos.\n",
    "\n",
    "Pregunta: ¿porqué no con el de efecto aleatorios?"
   ]
  },
  {
   "cell_type": "code",
   "execution_count": 63,
   "metadata": {},
   "outputs": [
    {
     "data": {
      "text/plain": [
       "\n",
       "\tF statistic\n",
       "\n",
       "data:  ln_wage ~ tenure + ttl_exp + grade\n",
       "F = 1.2366, df1 = 5296, df2 = 7283, p-value < 2.2e-16\n",
       "alternative hypothesis: unstability\n"
      ]
     },
     "metadata": {},
     "output_type": "display_data"
    }
   ],
   "source": [
    "pooltest(m2, m3)"
   ]
  },
  {
   "cell_type": "markdown",
   "metadata": {},
   "source": [
    "¿Que nos sugiere el test? El modelo 2 (efectos fijos) presenta ventajas estructurales sobre el modelo 3 (coeficientes variables).\n",
    "\n",
    "Ahora, probemos con un modelo para datos agrupados ¿Por qué?"
   ]
  },
  {
   "cell_type": "code",
   "execution_count": 64,
   "metadata": {
    "scrolled": false
   },
   "outputs": [
    {
     "data": {
      "text/plain": [
       "Pooling Model\n",
       "\n",
       "Call:\n",
       "plm(formula = ln_wage ~ tenure + ttl_exp + grade, data = nls_sub2, \n",
       "    model = \"pooling\")\n",
       "\n",
       "Unbalanced Panel: n = 1766, T = 6-14, N = 14347\n",
       "\n",
       "Residuals:\n",
       "       Min.     1st Qu.      Median     3rd Qu.        Max. \n",
       "-1.83319424 -0.21642252  0.00052299  0.22077561  3.78584418 \n",
       "\n",
       "Coefficients:\n",
       "             Estimate Std. Error t-value  Pr(>|t|)    \n",
       "(Intercept) 0.5735361  0.0198751  28.857 < 2.2e-16 ***\n",
       "tenure      0.0279966  0.0012503  22.392 < 2.2e-16 ***\n",
       "ttl_exp     0.0149191  0.0010062  14.827 < 2.2e-16 ***\n",
       "grade       0.0739468  0.0016251  45.503 < 2.2e-16 ***\n",
       "---\n",
       "Signif. codes:  0 '***' 0.001 '**' 0.01 '*' 0.05 '.' 0.1 ' ' 1\n",
       "\n",
       "Total Sum of Squares:    2743.6\n",
       "Residual Sum of Squares: 2066.4\n",
       "R-Squared:      0.24685\n",
       "Adj. R-Squared: 0.24669\n",
       "F-statistic: 1566.97 on 3 and 14343 DF, p-value: < 2.22e-16"
      ]
     },
     "metadata": {},
     "output_type": "display_data"
    }
   ],
   "source": [
    "m4 <- plm(ln_wage ~ tenure + ttl_exp + grade, data = nls_sub2, model=\"pooling\")\n",
    "summary(m4)"
   ]
  },
  {
   "cell_type": "markdown",
   "metadata": {},
   "source": [
    "Es importante probar el modelo, como el panel es desbalanceado se necesita implementar una prueba que nos indique si la regresión base está sesgada o no ($H_{0}: Var_{vi} = 0$ contra $H_{1}: Var_{vi} \\neq 0$)"
   ]
  },
  {
   "cell_type": "code",
   "execution_count": 65,
   "metadata": {},
   "outputs": [
    {
     "data": {
      "text/plain": [
       "\n",
       "\tLagrange Multiplier Test - two-ways effects (Breusch-Pagan) for\n",
       "\tunbalanced panels\n",
       "\n",
       "data:  ln_wage ~ tenure + ttl_exp + grade\n",
       "chisq = 9454, df = 2, p-value < 2.2e-16\n",
       "alternative hypothesis: significant effects\n"
      ]
     },
     "metadata": {},
     "output_type": "display_data"
    }
   ],
   "source": [
    "plmtest(m4, effect=\"twoways\", type=\"bp\")"
   ]
  },
  {
   "cell_type": "markdown",
   "metadata": {},
   "source": [
    "La prueba nos sugiere que debería probarse otro modelo.\n",
    "\n",
    "Analicemos, entonces, el modelo con efectos individuales y temporales (en dos vías):"
   ]
  },
  {
   "cell_type": "code",
   "execution_count": 66,
   "metadata": {},
   "outputs": [
    {
     "data": {
      "text/plain": [
       "Twoways effects Within Model\n",
       "\n",
       "Call:\n",
       "plm(formula = ln_wage ~ tenure + ttl_exp + grade, data = nls_sub2, \n",
       "    effect = \"twoways\", model = \"within\")\n",
       "\n",
       "Unbalanced Panel: n = 1766, T = 6-14, N = 14347\n",
       "\n",
       "Residuals:\n",
       "     Min.   1st Qu.    Median   3rd Qu.      Max. \n",
       "-1.865981 -0.126892  0.013435  0.137244  2.989584 \n",
       "\n",
       "Coefficients:\n",
       "         Estimate Std. Error t-value  Pr(>|t|)    \n",
       "tenure  0.0128709  0.0012643  10.181 < 2.2e-16 ***\n",
       "ttl_exp 0.0309167  0.0021266  14.538 < 2.2e-16 ***\n",
       "---\n",
       "Signif. codes:  0 '***' 0.001 '**' 0.01 '*' 0.05 '.' 0.1 ' ' 1\n",
       "\n",
       "Total Sum of Squares:    1106.6\n",
       "Residual Sum of Squares: 1051\n",
       "R-Squared:      0.050261\n",
       "Adj. R-Squared: -0.084358\n",
       "F-statistic: 332.475 on 2 and 12565 DF, p-value: < 2.22e-16"
      ]
     },
     "metadata": {},
     "output_type": "display_data"
    }
   ],
   "source": [
    "m5 <- plm(ln_wage ~ tenure + ttl_exp + grade, data=nls_sub2, effect=\"twoways\", model=\"within\")\n",
    "summary(m5)"
   ]
  },
  {
   "cell_type": "markdown",
   "metadata": {},
   "source": [
    "Y comparémoslo con el modelo para datos agrupados:"
   ]
  },
  {
   "cell_type": "code",
   "execution_count": 67,
   "metadata": {},
   "outputs": [
    {
     "data": {
      "text/plain": [
       "\n",
       "\tF test for twoways effects\n",
       "\n",
       "data:  ln_wage ~ tenure + ttl_exp + grade\n",
       "F = 6.8275, df1 = 1778, df2 = 12565, p-value < 2.2e-16\n",
       "alternative hypothesis: significant effects\n"
      ]
     },
     "metadata": {},
     "output_type": "display_data"
    }
   ],
   "source": [
    "pFtest(m5, m4)"
   ]
  },
  {
   "cell_type": "markdown",
   "metadata": {},
   "source": [
    "La prueba nos sugiere que el modelo de efectos en doble vía (m5) presenta ventajas sobre el modelo de regresión agrupada (m4).\n",
    "\n",
    "¿Necesitamos excluir alguna variable? Revisemos esto con los modelos básicos:"
   ]
  },
  {
   "cell_type": "code",
   "execution_count": 68,
   "metadata": {},
   "outputs": [
    {
     "data": {
      "text/plain": [
       "\n",
       "\tHausman Test\n",
       "\n",
       "data:  ln_wage ~ tenure + ttl_exp + grade\n",
       "chisq = 49.341, df = 2, p-value = 1.931e-11\n",
       "alternative hypothesis: one model is inconsistent\n"
      ]
     },
     "metadata": {},
     "output_type": "display_data"
    }
   ],
   "source": [
    "phtest(m1, m2)"
   ]
  },
  {
   "cell_type": "markdown",
   "metadata": {},
   "source": [
    "El test, se pone de lado del modelo de efectos fijos (se debe a que la estimación, aunque no es eficiente, es consistente).\n",
    "\n",
    "Revisemos entonces, si los coeficientes nos sugieren algo y usemos los modelos que presentan ventajas sobre los otros:"
   ]
  },
  {
   "cell_type": "code",
   "execution_count": 69,
   "metadata": {},
   "outputs": [
    {
     "name": "stderr",
     "output_type": "stream",
     "text": [
      "Loading required package: zoo\n",
      "\n",
      "\n",
      "Attaching package: 'zoo'\n",
      "\n",
      "\n",
      "The following objects are masked from 'package:base':\n",
      "\n",
      "    as.Date, as.Date.numeric\n",
      "\n",
      "\n"
     ]
    }
   ],
   "source": [
    "library(lmtest)"
   ]
  },
  {
   "cell_type": "code",
   "execution_count": 70,
   "metadata": {},
   "outputs": [
    {
     "data": {
      "text/plain": [
       "\n",
       "z test of coefficients:\n",
       "\n",
       "         Estimate Std. Error z value  Pr(>|z|)    \n",
       "tenure  0.0168587  0.0018285  9.2202 < 2.2e-16 ***\n",
       "ttl_exp 0.0193208  0.0015747 12.2693 < 2.2e-16 ***\n",
       "---\n",
       "Signif. codes:  0 '***' 0.001 '**' 0.01 '*' 0.05 '.' 0.1 ' ' 1\n"
      ]
     },
     "metadata": {},
     "output_type": "display_data"
    }
   ],
   "source": [
    "coeftest(m2, vcovHC, df = Inf)"
   ]
  },
  {
   "cell_type": "code",
   "execution_count": 71,
   "metadata": {},
   "outputs": [
    {
     "data": {
      "text/plain": [
       "\n",
       "z test of coefficients:\n",
       "\n",
       "         Estimate Std. Error z value  Pr(>|z|)    \n",
       "tenure  0.0128709  0.0019319  6.6623 2.697e-11 ***\n",
       "ttl_exp 0.0309167  0.0033611  9.1985 < 2.2e-16 ***\n",
       "---\n",
       "Signif. codes:  0 '***' 0.001 '**' 0.01 '*' 0.05 '.' 0.1 ' ' 1\n"
      ]
     },
     "metadata": {},
     "output_type": "display_data"
    }
   ],
   "source": [
    "coeftest(m5, vcovHC, df = Inf)"
   ]
  },
  {
   "cell_type": "markdown",
   "metadata": {},
   "source": [
    "### Modelo Mixto\n",
    "\n",
    "Como vimos, una alternativa a lo datos de panel es el modelo mixto. Hemos determinado que, aunque no es eficiente, el modelo más consistente es el de efectos fijos. Veamos, primero, qué se observa en el largo plazo, debemos usar el modelo con efectos en doble vía (tiene sentido ya que su base es el modelo de efectos fijos):"
   ]
  },
  {
   "cell_type": "code",
   "execution_count": 72,
   "metadata": {},
   "outputs": [
    {
     "name": "stderr",
     "output_type": "stream",
     "text": [
      "`geom_smooth()` using method = 'loess' and formula 'y ~ x'\n",
      "\n"
     ]
    },
    {
     "data": {
      "image/png": "[encoded data removed]",
      "text/plain": [
       "plot without title"
      ]
     },
     "metadata": {
      "image/png": {
       "height": 480,
       "width": 480
      },
      "text/plain": {
       "height": 480,
       "width": 480
      }
     },
     "output_type": "display_data"
    }
   ],
   "source": [
    "fxef<-data.frame(values=fixef(m5, effect = \"time\"),\n",
    "          year=names(fixef(m5, effect = \"time\")))\n",
    "options(repr.plot.width=8, repr.plot.height=8)\n",
    "ggplot(data = fxef, aes( x = year, y = values, group = 1)) + geom_line(size = 0.75) + geom_point() + theme_test() +\n",
    "geom_smooth() + theme(axis.title.x = element_text(size = 16),\n",
    "      axis.text.x = element_text(size = 16),\n",
    "      axis.title.y = element_text(size = 16),\n",
    "      axis.text.y = element_text(size = 16),\n",
    "      strip.text = element_text(size = 16),\n",
    "      legend.position = 'none')"
   ]
  },
  {
   "cell_type": "markdown",
   "metadata": {},
   "source": [
    "**Nota**: La regresión se construye mediante un proceso no paramétrico (en este caso una regresión paramétrica no es aconsejable debido a las incosistencias y al sesgo por agrupamieto). Entonces:\n",
    "\n",
    "* ¿Qué se observa en el proceso?\n",
    "* ¿Cómo podemos interpretar esa tendencia?\n",
    "* ¿Qué significa globalmente este resultado?\n",
    "* En el contexto de la población estudiada ¿qué podemos decir?\n",
    "* A la luz de la función planteada ¿cómo interpretamos estos resultados?\n",
    "\n",
    "Vamos al modelo mixto:"
   ]
  },
  {
   "cell_type": "code",
   "execution_count": 73,
   "metadata": {},
   "outputs": [
    {
     "name": "stderr",
     "output_type": "stream",
     "text": [
      "Loading required package: Matrix\n",
      "\n",
      "Registered S3 methods overwritten by 'lme4':\n",
      "  method                          from\n",
      "  cooks.distance.influence.merMod car \n",
      "  influence.merMod                car \n",
      "  dfbeta.influence.merMod         car \n",
      "  dfbetas.influence.merMod        car \n",
      "\n",
      "\n",
      "Attaching package: 'nlme'\n",
      "\n",
      "\n",
      "The following object is masked from 'package:lme4':\n",
      "\n",
      "    lmList\n",
      "\n",
      "\n",
      "The following object is masked from 'package:dplyr':\n",
      "\n",
      "    collapse\n",
      "\n",
      "\n"
     ]
    }
   ],
   "source": [
    "library('lme4')\n",
    "library('nlme')"
   ]
  },
  {
   "cell_type": "markdown",
   "metadata": {},
   "source": [
    "Como hemos determinado que el modelo de efectos fijo es el más consistente, vamos a usar como base la función establecida definiendo la fórmula como en una sesión anterior:"
   ]
  },
  {
   "cell_type": "code",
   "execution_count": 74,
   "metadata": {},
   "outputs": [],
   "source": [
    "form <- ln_wage ~ tenure + ttl_exp + grade"
   ]
  },
  {
   "cell_type": "markdown",
   "metadata": {},
   "source": [
    "Y, usamos la fórmula para definir el modelo. Debido al volumen de individuos vamos a emplear la función `lme` que, además, es más fácil de definir:"
   ]
  },
  {
   "cell_type": "code",
   "execution_count": 75,
   "metadata": {},
   "outputs": [],
   "source": [
    "reML <- lme(form, data = nls_sub2, random = ~1 | idcode)"
   ]
  },
  {
   "cell_type": "markdown",
   "metadata": {},
   "source": [
    "Y el resumen numérico del modelo:"
   ]
  },
  {
   "cell_type": "code",
   "execution_count": 76,
   "metadata": {},
   "outputs": [
    {
     "data": {
      "text/plain": [
       "Linear mixed-effects model fit by REML\n",
       " Data: nls_sub2 \n",
       "       AIC      BIC    logLik\n",
       "  8724.409 8769.835 -4356.205\n",
       "\n",
       "Random effects:\n",
       " Formula: ~1 | idcode\n",
       "        (Intercept)  Residual\n",
       "StdDev:   0.2429202 0.2916931\n",
       "\n",
       "Fixed effects: list(form) \n",
       "                Value  Std.Error    DF  t-value p-value\n",
       "(Intercept) 0.5743676 0.03842438 12579 14.94800       0\n",
       "tenure      0.0191074 0.00115942 12579 16.48019       0\n",
       "ttl_exp     0.0184188 0.00087478 12579 21.05532       0\n",
       "grade       0.0740151 0.00312739  1764 23.66677       0\n",
       " Correlation: \n",
       "        (Intr) tenure ttl_xp\n",
       "tenure   0.010              \n",
       "ttl_exp -0.032 -0.681       \n",
       "grade   -0.982 -0.008 -0.036\n",
       "\n",
       "Standardized Within-Group Residuals:\n",
       "        Min          Q1         Med          Q3         Max \n",
       "-6.32810005 -0.44699396  0.05537232  0.48680973 10.52819190 \n",
       "\n",
       "Number of Observations: 14347\n",
       "Number of Groups: 1766 "
      ]
     },
     "metadata": {},
     "output_type": "display_data"
    }
   ],
   "source": [
    "summary(reML)"
   ]
  },
  {
   "cell_type": "markdown",
   "metadata": {},
   "source": [
    "Veamos sólo los coeficientes de los efectos fijos:"
   ]
  },
  {
   "cell_type": "code",
   "execution_count": 77,
   "metadata": {},
   "outputs": [
    {
     "data": {
      "text/html": [
       "<table>\n",
       "<caption>A data.frame: 4 × 1</caption>\n",
       "<thead>\n",
       "\t<tr><th></th><th scope=col>summary.reML..coeff.fixed</th></tr>\n",
       "\t<tr><th></th><th scope=col>&lt;dbl&gt;</th></tr>\n",
       "</thead>\n",
       "<tbody>\n",
       "\t<tr><th scope=row>(Intercept)</th><td>0.57436764</td></tr>\n",
       "\t<tr><th scope=row>tenure</th><td>0.01910740</td></tr>\n",
       "\t<tr><th scope=row>ttl_exp</th><td>0.01841879</td></tr>\n",
       "\t<tr><th scope=row>grade</th><td>0.07401514</td></tr>\n",
       "</tbody>\n",
       "</table>\n"
      ],
      "text/latex": [
       "A data.frame: 4 × 1\n",
       "\\begin{tabular}{r|l}\n",
       "  & summary.reML..coeff.fixed\\\\\n",
       "  & <dbl>\\\\\n",
       "\\hline\n",
       "\t(Intercept) & 0.57436764\\\\\n",
       "\ttenure & 0.01910740\\\\\n",
       "\tttl\\_exp & 0.01841879\\\\\n",
       "\tgrade & 0.07401514\\\\\n",
       "\\end{tabular}\n"
      ],
      "text/markdown": [
       "\n",
       "A data.frame: 4 × 1\n",
       "\n",
       "| <!--/--> | summary.reML..coeff.fixed &lt;dbl&gt; |\n",
       "|---|---|\n",
       "| (Intercept) | 0.57436764 |\n",
       "| tenure | 0.01910740 |\n",
       "| ttl_exp | 0.01841879 |\n",
       "| grade | 0.07401514 |\n",
       "\n"
      ],
      "text/plain": [
       "            summary.reML..coeff.fixed\n",
       "(Intercept) 0.57436764               \n",
       "tenure      0.01910740               \n",
       "ttl_exp     0.01841879               \n",
       "grade       0.07401514               "
      ]
     },
     "metadata": {},
     "output_type": "display_data"
    }
   ],
   "source": [
    "data.frame(summary(reML)$coeff$fixed)"
   ]
  },
  {
   "cell_type": "markdown",
   "metadata": {},
   "source": [
    "Y los de efectos aleatorios"
   ]
  },
  {
   "cell_type": "code",
   "execution_count": 78,
   "metadata": {},
   "outputs": [
    {
     "data": {
      "text/html": [
       "<strong>$idcode</strong> = <table>\n",
       "<caption>A matrix: 1766 × 1 of type dbl</caption>\n",
       "<thead>\n",
       "\t<tr><th></th><th scope=col>(Intercept)</th></tr>\n",
       "</thead>\n",
       "<tbody>\n",
       "\t<tr><th scope=row>1</th><td> 0.383241907</td></tr>\n",
       "\t<tr><th scope=row>2</th><td> 0.039620147</td></tr>\n",
       "\t<tr><th scope=row>3</th><td>-0.053159159</td></tr>\n",
       "\t<tr><th scope=row>4</th><td> 0.072524419</td></tr>\n",
       "\t<tr><th scope=row>5</th><td> 0.229267266</td></tr>\n",
       "\t<tr><th scope=row>6</th><td> 0.086319063</td></tr>\n",
       "\t<tr><th scope=row>7</th><td>-0.191578046</td></tr>\n",
       "\t<tr><th scope=row>9</th><td> 0.204396752</td></tr>\n",
       "\t<tr><th scope=row>10</th><td>-0.054056968</td></tr>\n",
       "\t<tr><th scope=row>13</th><td> 0.346926968</td></tr>\n",
       "\t<tr><th scope=row>15</th><td> 0.366292728</td></tr>\n",
       "\t<tr><th scope=row>16</th><td> 0.198186967</td></tr>\n",
       "\t<tr><th scope=row>17</th><td> 0.299562521</td></tr>\n",
       "\t<tr><th scope=row>19</th><td> 0.118022571</td></tr>\n",
       "\t<tr><th scope=row>20</th><td> 0.197293107</td></tr>\n",
       "\t<tr><th scope=row>22</th><td> 0.270427615</td></tr>\n",
       "\t<tr><th scope=row>24</th><td> 0.200085077</td></tr>\n",
       "\t<tr><th scope=row>25</th><td> 0.284241341</td></tr>\n",
       "\t<tr><th scope=row>30</th><td> 0.152842062</td></tr>\n",
       "\t<tr><th scope=row>36</th><td> 0.156625129</td></tr>\n",
       "\t<tr><th scope=row>38</th><td> 0.002893968</td></tr>\n",
       "\t<tr><th scope=row>41</th><td> 0.070175972</td></tr>\n",
       "\t<tr><th scope=row>45</th><td> 0.317222995</td></tr>\n",
       "\t<tr><th scope=row>51</th><td>-0.124197393</td></tr>\n",
       "\t<tr><th scope=row>55</th><td> 0.007005553</td></tr>\n",
       "\t<tr><th scope=row>57</th><td>-0.193197180</td></tr>\n",
       "\t<tr><th scope=row>62</th><td>-0.055096504</td></tr>\n",
       "\t<tr><th scope=row>63</th><td> 0.566768210</td></tr>\n",
       "\t<tr><th scope=row>64</th><td>-0.063349584</td></tr>\n",
       "\t<tr><th scope=row>65</th><td> 0.328818754</td></tr>\n",
       "\t<tr><th scope=row>...</th><td>...</td></tr>\n",
       "\t<tr><th scope=row>5047</th><td> 0.026348277</td></tr>\n",
       "\t<tr><th scope=row>5061</th><td>-0.299499118</td></tr>\n",
       "\t<tr><th scope=row>5064</th><td>-0.182898203</td></tr>\n",
       "\t<tr><th scope=row>5065</th><td>-0.139631221</td></tr>\n",
       "\t<tr><th scope=row>5080</th><td> 0.013907799</td></tr>\n",
       "\t<tr><th scope=row>5081</th><td>-0.451577013</td></tr>\n",
       "\t<tr><th scope=row>5083</th><td> 0.167762878</td></tr>\n",
       "\t<tr><th scope=row>5086</th><td>-0.270790804</td></tr>\n",
       "\t<tr><th scope=row>5088</th><td>-0.169528053</td></tr>\n",
       "\t<tr><th scope=row>5089</th><td>-0.171657119</td></tr>\n",
       "\t<tr><th scope=row>5091</th><td>-0.122390131</td></tr>\n",
       "\t<tr><th scope=row>5092</th><td>-0.134367410</td></tr>\n",
       "\t<tr><th scope=row>5095</th><td>-0.054635557</td></tr>\n",
       "\t<tr><th scope=row>5096</th><td> 0.222107967</td></tr>\n",
       "\t<tr><th scope=row>5098</th><td>-0.200485630</td></tr>\n",
       "\t<tr><th scope=row>5103</th><td>-0.167282627</td></tr>\n",
       "\t<tr><th scope=row>5104</th><td>-0.166171969</td></tr>\n",
       "\t<tr><th scope=row>5108</th><td> 0.035618842</td></tr>\n",
       "\t<tr><th scope=row>5111</th><td> 0.001862118</td></tr>\n",
       "\t<tr><th scope=row>5112</th><td>-0.676494101</td></tr>\n",
       "\t<tr><th scope=row>5114</th><td>-0.250955363</td></tr>\n",
       "\t<tr><th scope=row>5117</th><td> 0.064182048</td></tr>\n",
       "\t<tr><th scope=row>5124</th><td> 0.047563457</td></tr>\n",
       "\t<tr><th scope=row>5127</th><td> 0.210658260</td></tr>\n",
       "\t<tr><th scope=row>5132</th><td> 0.039298867</td></tr>\n",
       "\t<tr><th scope=row>5136</th><td> 0.049989966</td></tr>\n",
       "\t<tr><th scope=row>5145</th><td> 0.043979524</td></tr>\n",
       "\t<tr><th scope=row>5148</th><td>-0.085204236</td></tr>\n",
       "\t<tr><th scope=row>5156</th><td>-0.289775568</td></tr>\n",
       "\t<tr><th scope=row>5157</th><td>-0.507709413</td></tr>\n",
       "</tbody>\n",
       "</table>\n"
      ],
      "text/latex": [
       "\\textbf{\\$idcode} = A matrix: 1766 × 1 of type dbl\n",
       "\\begin{tabular}{r|l}\n",
       "  & (Intercept)\\\\\n",
       "\\hline\n",
       "\t1 &  0.383241907\\\\\n",
       "\t2 &  0.039620147\\\\\n",
       "\t3 & -0.053159159\\\\\n",
       "\t4 &  0.072524419\\\\\n",
       "\t5 &  0.229267266\\\\\n",
       "\t6 &  0.086319063\\\\\n",
       "\t7 & -0.191578046\\\\\n",
       "\t9 &  0.204396752\\\\\n",
       "\t10 & -0.054056968\\\\\n",
       "\t13 &  0.346926968\\\\\n",
       "\t15 &  0.366292728\\\\\n",
       "\t16 &  0.198186967\\\\\n",
       "\t17 &  0.299562521\\\\\n",
       "\t19 &  0.118022571\\\\\n",
       "\t20 &  0.197293107\\\\\n",
       "\t22 &  0.270427615\\\\\n",
       "\t24 &  0.200085077\\\\\n",
       "\t25 &  0.284241341\\\\\n",
       "\t30 &  0.152842062\\\\\n",
       "\t36 &  0.156625129\\\\\n",
       "\t38 &  0.002893968\\\\\n",
       "\t41 &  0.070175972\\\\\n",
       "\t45 &  0.317222995\\\\\n",
       "\t51 & -0.124197393\\\\\n",
       "\t55 &  0.007005553\\\\\n",
       "\t57 & -0.193197180\\\\\n",
       "\t62 & -0.055096504\\\\\n",
       "\t63 &  0.566768210\\\\\n",
       "\t64 & -0.063349584\\\\\n",
       "\t65 &  0.328818754\\\\\n",
       "\t... & ...\\\\\n",
       "\t5047 &  0.026348277\\\\\n",
       "\t5061 & -0.299499118\\\\\n",
       "\t5064 & -0.182898203\\\\\n",
       "\t5065 & -0.139631221\\\\\n",
       "\t5080 &  0.013907799\\\\\n",
       "\t5081 & -0.451577013\\\\\n",
       "\t5083 &  0.167762878\\\\\n",
       "\t5086 & -0.270790804\\\\\n",
       "\t5088 & -0.169528053\\\\\n",
       "\t5089 & -0.171657119\\\\\n",
       "\t5091 & -0.122390131\\\\\n",
       "\t5092 & -0.134367410\\\\\n",
       "\t5095 & -0.054635557\\\\\n",
       "\t5096 &  0.222107967\\\\\n",
       "\t5098 & -0.200485630\\\\\n",
       "\t5103 & -0.167282627\\\\\n",
       "\t5104 & -0.166171969\\\\\n",
       "\t5108 &  0.035618842\\\\\n",
       "\t5111 &  0.001862118\\\\\n",
       "\t5112 & -0.676494101\\\\\n",
       "\t5114 & -0.250955363\\\\\n",
       "\t5117 &  0.064182048\\\\\n",
       "\t5124 &  0.047563457\\\\\n",
       "\t5127 &  0.210658260\\\\\n",
       "\t5132 &  0.039298867\\\\\n",
       "\t5136 &  0.049989966\\\\\n",
       "\t5145 &  0.043979524\\\\\n",
       "\t5148 & -0.085204236\\\\\n",
       "\t5156 & -0.289775568\\\\\n",
       "\t5157 & -0.507709413\\\\\n",
       "\\end{tabular}\n"
      ],
      "text/markdown": [
       "**$idcode** = \n",
       "A matrix: 1766 × 1 of type dbl\n",
       "\n",
       "| <!--/--> | (Intercept) |\n",
       "|---|---|\n",
       "| 1 |  0.383241907 |\n",
       "| 2 |  0.039620147 |\n",
       "| 3 | -0.053159159 |\n",
       "| 4 |  0.072524419 |\n",
       "| 5 |  0.229267266 |\n",
       "| 6 |  0.086319063 |\n",
       "| 7 | -0.191578046 |\n",
       "| 9 |  0.204396752 |\n",
       "| 10 | -0.054056968 |\n",
       "| 13 |  0.346926968 |\n",
       "| 15 |  0.366292728 |\n",
       "| 16 |  0.198186967 |\n",
       "| 17 |  0.299562521 |\n",
       "| 19 |  0.118022571 |\n",
       "| 20 |  0.197293107 |\n",
       "| 22 |  0.270427615 |\n",
       "| 24 |  0.200085077 |\n",
       "| 25 |  0.284241341 |\n",
       "| 30 |  0.152842062 |\n",
       "| 36 |  0.156625129 |\n",
       "| 38 |  0.002893968 |\n",
       "| 41 |  0.070175972 |\n",
       "| 45 |  0.317222995 |\n",
       "| 51 | -0.124197393 |\n",
       "| 55 |  0.007005553 |\n",
       "| 57 | -0.193197180 |\n",
       "| 62 | -0.055096504 |\n",
       "| 63 |  0.566768210 |\n",
       "| 64 | -0.063349584 |\n",
       "| 65 |  0.328818754 |\n",
       "| ... | ... |\n",
       "| 5047 |  0.026348277 |\n",
       "| 5061 | -0.299499118 |\n",
       "| 5064 | -0.182898203 |\n",
       "| 5065 | -0.139631221 |\n",
       "| 5080 |  0.013907799 |\n",
       "| 5081 | -0.451577013 |\n",
       "| 5083 |  0.167762878 |\n",
       "| 5086 | -0.270790804 |\n",
       "| 5088 | -0.169528053 |\n",
       "| 5089 | -0.171657119 |\n",
       "| 5091 | -0.122390131 |\n",
       "| 5092 | -0.134367410 |\n",
       "| 5095 | -0.054635557 |\n",
       "| 5096 |  0.222107967 |\n",
       "| 5098 | -0.200485630 |\n",
       "| 5103 | -0.167282627 |\n",
       "| 5104 | -0.166171969 |\n",
       "| 5108 |  0.035618842 |\n",
       "| 5111 |  0.001862118 |\n",
       "| 5112 | -0.676494101 |\n",
       "| 5114 | -0.250955363 |\n",
       "| 5117 |  0.064182048 |\n",
       "| 5124 |  0.047563457 |\n",
       "| 5127 |  0.210658260 |\n",
       "| 5132 |  0.039298867 |\n",
       "| 5136 |  0.049989966 |\n",
       "| 5145 |  0.043979524 |\n",
       "| 5148 | -0.085204236 |\n",
       "| 5156 | -0.289775568 |\n",
       "| 5157 | -0.507709413 |\n",
       "\n"
      ],
      "text/plain": [
       "$idcode\n",
       "       (Intercept)\n",
       "1     3.832419e-01\n",
       "2     3.962015e-02\n",
       "3    -5.315916e-02\n",
       "4     7.252442e-02\n",
       "5     2.292673e-01\n",
       "6     8.631906e-02\n",
       "7    -1.915780e-01\n",
       "9     2.043968e-01\n",
       "10   -5.405697e-02\n",
       "13    3.469270e-01\n",
       "15    3.662927e-01\n",
       "16    1.981870e-01\n",
       "17    2.995625e-01\n",
       "19    1.180226e-01\n",
       "20    1.972931e-01\n",
       "22    2.704276e-01\n",
       "24    2.000851e-01\n",
       "25    2.842413e-01\n",
       "30    1.528421e-01\n",
       "36    1.566251e-01\n",
       "38    2.893968e-03\n",
       "41    7.017597e-02\n",
       "45    3.172230e-01\n",
       "51   -1.241974e-01\n",
       "55    7.005553e-03\n",
       "57   -1.931972e-01\n",
       "62   -5.509650e-02\n",
       "63    5.667682e-01\n",
       "64   -6.334958e-02\n",
       "65    3.288188e-01\n",
       "66   -2.144452e-01\n",
       "67    3.161759e-01\n",
       "69    4.253931e-02\n",
       "71   -5.110035e-02\n",
       "72   -5.126147e-03\n",
       "73   -9.686647e-02\n",
       "75    3.261025e-01\n",
       "78    5.236637e-01\n",
       "86    1.269226e-01\n",
       "94   -1.272293e-02\n",
       "98    2.470307e-01\n",
       "104  -9.028386e-02\n",
       "107   3.764438e-02\n",
       "111   3.527630e-01\n",
       "115  -4.158759e-02\n",
       "118   2.263592e-01\n",
       "121   1.932203e-01\n",
       "126   1.991515e-01\n",
       "128   1.223681e-01\n",
       "129   2.343878e-01\n",
       "130   7.829260e-02\n",
       "131   8.061595e-03\n",
       "132  -3.392888e-03\n",
       "133   1.539576e-01\n",
       "139   9.345583e-02\n",
       "142   3.181500e-01\n",
       "143   3.575723e-01\n",
       "144   1.782984e-01\n",
       "147   2.952735e-01\n",
       "153   3.053059e-02\n",
       "158   2.289976e-01\n",
       "159   1.698527e-01\n",
       "162  -7.680344e-02\n",
       "171   4.785738e-01\n",
       "172   2.885730e-01\n",
       "173  -9.866164e-02\n",
       "174   3.466366e-01\n",
       "176   8.617690e-02\n",
       "178  -6.366266e-02\n",
       "183   1.893417e-01\n",
       "184   1.364591e-01\n",
       "186  -9.133871e-02\n",
       "195  -1.247529e-01\n",
       "196  -1.452351e-01\n",
       "199  -5.262744e-02\n",
       "201   8.087461e-02\n",
       "203   1.579536e-01\n",
       "209  -8.639726e-02\n",
       "210   5.447236e-02\n",
       "211   1.861398e-01\n",
       "212   8.695908e-03\n",
       "213   2.439533e-01\n",
       "218  -2.276086e-01\n",
       "220   1.060843e-01\n",
       "221   9.153970e-02\n",
       "223  -3.247478e-03\n",
       "227  -3.148127e-01\n",
       "228  -1.101216e-01\n",
       "238   1.496955e-01\n",
       "242  -8.546999e-02\n",
       "252  -3.679677e-02\n",
       "253  -2.216556e-01\n",
       "254   8.197296e-02\n",
       "269  -3.024514e-02\n",
       "272  -1.420117e-01\n",
       "273  -1.111622e-02\n",
       "275  -1.800325e-01\n",
       "276  -1.198266e-01\n",
       "278   2.410581e-01\n",
       "283   3.624842e-03\n",
       "287  -1.308796e-01\n",
       "294  -7.526145e-02\n",
       "296   2.632271e-01\n",
       "297   1.023328e-01\n",
       "304  -1.192327e-01\n",
       "306   2.706220e-03\n",
       "307   6.111373e-02\n",
       "309  -9.444596e-02\n",
       "314  -1.100365e-01\n",
       "318   3.315960e-01\n",
       "319   3.656324e-01\n",
       "321   7.356106e-02\n",
       "324   2.655587e-01\n",
       "325   1.614187e-02\n",
       "326  -4.592911e-02\n",
       "335  -2.153430e-02\n",
       "336   1.269221e-01\n",
       "337   2.578473e-02\n",
       "338  -7.022672e-02\n",
       "340  -1.492243e-01\n",
       "341   2.009809e-01\n",
       "347   1.398320e-01\n",
       "350   1.572252e-01\n",
       "355   1.306397e-01\n",
       "356   6.360286e-02\n",
       "358  -1.634279e-01\n",
       "362  -3.623318e-02\n",
       "368   6.652931e-02\n",
       "369   1.682574e-01\n",
       "370  -2.193190e-02\n",
       "376   1.317669e-01\n",
       "379  -1.444088e-01\n",
       "380   1.712715e-01\n",
       "381   7.730017e-02\n",
       "382   1.889477e-01\n",
       "384   1.862077e-01\n",
       "386   4.204064e-01\n",
       "388  -1.257750e-01\n",
       "390   8.936913e-02\n",
       "393  -2.694612e-01\n",
       "396  -2.749530e-01\n",
       "397   7.640992e-02\n",
       "399   2.696501e-01\n",
       "402  -8.110027e-02\n",
       "406  -4.471619e-02\n",
       "409  -1.394365e-01\n",
       "416  -1.784581e-02\n",
       "423   1.882945e-01\n",
       "427  -1.564983e-01\n",
       "430   2.323639e-01\n",
       "433  -4.175072e-03\n",
       "435   1.999418e-01\n",
       "436   8.424511e-02\n",
       "440   1.748339e-01\n",
       "443  -1.267185e-01\n",
       "450   2.705956e-01\n",
       "452  -1.910476e-01\n",
       "453   3.726860e-01\n",
       "455   3.529562e-02\n",
       "457   1.462581e-01\n",
       "459   6.883574e-02\n",
       "461   3.104287e-02\n",
       "465  -4.674074e-02\n",
       "469  -1.532129e-01\n",
       "477  -1.788041e-01\n",
       "478   1.961021e-02\n",
       "481   1.820907e-03\n",
       "487  -1.962323e-01\n",
       "488  -4.911586e-02\n",
       "489   1.426506e-01\n",
       "490   1.152581e-01\n",
       "492   1.635835e-01\n",
       "493   1.891769e-01\n",
       "496   1.122515e-01\n",
       "499  -7.263863e-02\n",
       "504   1.793267e-01\n",
       "505   2.529262e-02\n",
       "511   6.544834e-02\n",
       "516  -2.412132e-01\n",
       "518   6.297332e-02\n",
       "520   2.054225e-01\n",
       "521   2.420188e-01\n",
       "522  -4.375675e-02\n",
       "524  -2.610629e-01\n",
       "531   2.827258e-01\n",
       "534  -2.226702e-02\n",
       "542   4.308798e-01\n",
       "547  -4.876106e-02\n",
       "548  -1.922145e-02\n",
       "549   3.525471e-02\n",
       "555   4.012131e-01\n",
       "558  -1.515007e-03\n",
       "565   2.175515e-01\n",
       "570   2.007531e-01\n",
       "585   2.760888e-01\n",
       "586   2.604962e-01\n",
       "589   3.289677e-01\n",
       "591   3.392810e-01\n",
       "595   1.683641e-01\n",
       "596   1.941021e-01\n",
       "599   2.684022e-01\n",
       "601   4.127477e-01\n",
       "602   2.776713e-01\n",
       "606  -1.995130e-01\n",
       "617   4.068778e-01\n",
       "627   2.961248e-01\n",
       "628  -9.691058e-02\n",
       "635   3.342976e-02\n",
       "638   1.604027e-01\n",
       "646   4.965400e-01\n",
       "652   2.906555e-01\n",
       "653   1.922945e-01\n",
       "656   2.857483e-01\n",
       "665   3.170517e-01\n",
       "666   6.028107e-02\n",
       "670   1.725319e-01\n",
       "671   2.499256e-02\n",
       "676   5.273563e-01\n",
       "681  -1.898406e-01\n",
       "684   2.903958e-01\n",
       "688   6.315068e-02\n",
       "689   6.018004e-02\n",
       "690   3.213397e-01\n",
       "691   4.857765e-01\n",
       "692   4.676051e-02\n",
       "693   2.778749e-01\n",
       "694   3.999849e-01\n",
       "695  -2.386554e-02\n",
       "697   3.474582e-01\n",
       "706   2.045318e-01\n",
       "710   1.060485e-01\n",
       "716   3.664286e-01\n",
       "722   1.351623e-01\n",
       "727   2.053901e-01\n",
       "730   2.597617e-01\n",
       "731   1.036443e-01\n",
       "732  -2.299594e-01\n",
       "734   6.702187e-02\n",
       "735   7.227057e-01\n",
       "737   7.800777e-02\n",
       "738   5.490608e-01\n",
       "741  -1.144067e-01\n",
       "745   2.484341e-01\n",
       "748   3.797386e-01\n",
       "749   4.345229e-01\n",
       "750  -5.776287e-02\n",
       "751   1.641416e-01\n",
       "752  -1.291097e-01\n",
       "754  -1.220524e-01\n",
       "757   1.971265e-01\n",
       "762   2.415894e-01\n",
       "764   2.268862e-01\n",
       "766   1.727491e-01\n",
       "768   3.866848e-02\n",
       "769   3.510067e-01\n",
       "770  -6.640360e-02\n",
       "773  -6.935171e-02\n",
       "776   1.682834e-01\n",
       "784   1.235373e-01\n",
       "790   3.395675e-01\n",
       "791  -7.732854e-02\n",
       "792   1.773688e-01\n",
       "795   1.475378e-01\n",
       "796   1.962482e-01\n",
       "797   2.684773e-01\n",
       "798   4.205406e-01\n",
       "800   1.910358e-01\n",
       "802   4.660423e-01\n",
       "808   1.967580e-01\n",
       "809   1.770426e-01\n",
       "810   2.388497e-01\n",
       "814   1.778121e-01\n",
       "816  -1.160529e-01\n",
       "817  -1.546676e-02\n",
       "820  -9.542446e-02\n",
       "821   1.493822e-01\n",
       "824   1.996135e-01\n",
       "826   2.925372e-01\n",
       "828   2.173002e-01\n",
       "830   9.202476e-02\n",
       "831   2.656335e-02\n",
       "836  -7.872116e-02\n",
       "837  -2.312715e-01\n",
       "839   3.450031e-01\n",
       "841  -1.360232e-01\n",
       "842   1.529527e-01\n",
       "843   2.740656e-02\n",
       "844   1.602646e-03\n",
       "845  -1.078738e-01\n",
       "846   1.174098e-01\n",
       "847   2.370930e-02\n",
       "849   1.819429e-01\n",
       "851  -7.586757e-01\n",
       "855   8.322987e-02\n",
       "856   7.248282e-01\n",
       "857  -1.482168e-01\n",
       "859   2.465508e-01\n",
       "864   2.174704e-01\n",
       "867   1.756432e-01\n",
       "870  -1.036789e-02\n",
       "875  -1.308871e-01\n",
       "877  -6.125650e-02\n",
       "880   3.638811e-01\n",
       "882  -2.949457e-01\n",
       "891  -2.638122e-02\n",
       "895  -1.435569e-01\n",
       "896  -9.578430e-02\n",
       "898  -1.364079e-01\n",
       "899  -1.630256e-01\n",
       "900  -6.164806e-03\n",
       "902  -1.331201e-01\n",
       "905  -5.273428e-02\n",
       "911  -8.211368e-02\n",
       "925  -1.389052e-01\n",
       "932  -2.548388e-03\n",
       "935  -2.771994e-01\n",
       "937   1.825288e-02\n",
       "938   9.994812e-02\n",
       "939  -9.559311e-02\n",
       "940   1.333126e-01\n",
       "941  -4.546366e-03\n",
       "943   3.119256e-01\n",
       "951  -3.005194e-03\n",
       "953   7.169849e-03\n",
       "957  -9.955563e-02\n",
       "958  -3.238049e-01\n",
       "960  -1.751097e-01\n",
       "961  -3.299908e-01\n",
       "965  -3.408203e-02\n",
       "966   1.086761e-01\n",
       "968  -4.139982e-02\n",
       "969   2.418966e-01\n",
       "978  -1.624638e-02\n",
       "980   1.821836e-01\n",
       "981  -1.010406e-01\n",
       "984   3.171059e-02\n",
       "987   5.219593e-02\n",
       "988  -2.022770e-01\n",
       "991   2.223292e-01\n",
       "993   1.908396e-01\n",
       "999  -6.717380e-02\n",
       "1001 -1.907851e-01\n",
       "1002 -2.906604e-01\n",
       "1003 -1.442270e-01\n",
       "1005  3.264816e-01\n",
       "1007  5.749595e-02\n",
       "1010  3.351662e-01\n",
       "1011  3.035938e-01\n",
       "1013 -4.578541e-02\n",
       "1014 -8.492220e-02\n",
       "1016 -2.996996e-02\n",
       "1017 -3.821593e-02\n",
       "1021 -1.026098e-01\n",
       "1023  3.176565e-01\n",
       "1028  8.503227e-02\n",
       "1029  2.724855e-01\n",
       "1030 -1.023467e-01\n",
       "1032 -3.075476e-02\n",
       "1034 -2.891739e-02\n",
       "1037 -1.286861e-01\n",
       "1041 -1.050841e-01\n",
       "1043  3.620399e-01\n",
       "1044  5.412008e-01\n",
       "1045  7.708087e-02\n",
       "1048  3.267703e-01\n",
       "1050  6.672107e-02\n",
       "1051  3.064719e-01\n",
       "1055 -2.621788e-01\n",
       "1056 -3.662231e-02\n",
       "1058  1.734273e-01\n",
       "1059 -1.127312e-02\n",
       "1060  2.110131e-01\n",
       "1062  2.171849e-01\n",
       "1070  4.854800e-02\n",
       "1071 -1.292602e-01\n",
       "1074 -2.328271e-01\n",
       "1075  1.091496e-02\n",
       "1076 -3.810794e-01\n",
       "1078  1.043443e-01\n",
       "1081 -4.552756e-02\n",
       "1085  4.694932e-01\n",
       "1086  5.399303e-05\n",
       "1089  3.030429e-01\n",
       "1092 -1.994909e-01\n",
       "1095  3.647077e-01\n",
       "1098 -8.634699e-04\n",
       "1099  1.846014e-01\n",
       "1101 -2.956747e-01\n",
       "1103 -3.325705e-01\n",
       "1106 -2.264514e-02\n",
       "1107  7.020392e-01\n",
       "1113  2.457580e-01\n",
       "1115 -1.014379e-01\n",
       "1116 -7.653651e-02\n",
       "1117 -1.821182e-01\n",
       "1118 -2.577214e-01\n",
       "1119 -3.955676e-01\n",
       "1123  2.213487e-01\n",
       "1125  5.892599e-01\n",
       "1126  1.387871e-02\n",
       "1129 -7.442642e-02\n",
       "1130  2.246042e-01\n",
       "1132 -7.036767e-02\n",
       "1133 -1.338428e-01\n",
       "1141  8.433802e-02\n",
       "1143  1.397857e-01\n",
       "1145  8.377127e-02\n",
       "1146  5.690040e-03\n",
       "1148  3.136654e-03\n",
       "1150 -1.050438e-01\n",
       "1162  1.444178e-01\n",
       "1163  2.434402e-01\n",
       "1168  1.124818e-01\n",
       "1169  5.082202e-01\n",
       "1170  2.900638e-01\n",
       "1171 -1.463960e-01\n",
       "1176 -1.113260e-01\n",
       "1183  1.048543e-01\n",
       "1186 -3.943639e-02\n",
       "1190 -1.846531e-01\n",
       "1198  1.289892e-01\n",
       "1203  5.899194e-02\n",
       "1205  2.076594e-01\n",
       "1206  2.075861e-03\n",
       "1207  5.193532e-02\n",
       "1209  4.584603e-01\n",
       "1218  7.051112e-02\n",
       "1219  4.083823e-01\n",
       "1220  1.511902e-01\n",
       "1227 -6.304079e-02\n",
       "1231  2.624655e-01\n",
       "1241  1.583826e-01\n",
       "1244 -2.811686e-02\n",
       "1253  3.091745e-01\n",
       "1257  9.705107e-02\n",
       "1258  4.874207e-01\n",
       "1259  1.553425e-01\n",
       "1262  2.480320e-01\n",
       "1263 -4.976281e-02\n",
       "1264  2.808429e-01\n",
       "1266 -2.598828e-02\n",
       "1267 -2.945699e-02\n",
       "1269  1.189987e-01\n",
       "1271  2.895754e-01\n",
       "1275  2.459258e-01\n",
       "1283  2.953380e-01\n",
       "1286  4.189786e-01\n",
       "1287  1.195005e-01\n",
       "1292  9.160738e-02\n",
       "1294 -8.537787e-02\n",
       "1302  1.769474e-01\n",
       "1303  4.197829e-02\n",
       "1307  4.010290e-01\n",
       "1309 -1.361407e-01\n",
       "1315  7.369645e-02\n",
       "1325 -2.544475e-01\n",
       "1329  8.956297e-02\n",
       "1337 -2.705774e-01\n",
       "1339  2.422184e-01\n",
       "1340  1.158609e-01\n",
       "1342 -3.762137e-01\n",
       "1345  1.205504e-01\n",
       "1350 -3.489677e-02\n",
       "1353  2.965743e-02\n",
       "1356  9.701816e-02\n",
       "1358  1.004670e-01\n",
       "1359  2.853639e-01\n",
       "1366 -1.993008e-01\n",
       "1369 -3.002798e-01\n",
       "1373  2.484387e-01\n",
       "1376  1.494147e-01\n",
       "1379  1.835368e-01\n",
       "1380  2.244791e-01\n",
       "1381  4.446347e-01\n",
       "1384 -8.827036e-02\n",
       "1389 -1.570606e-01\n",
       "1411 -3.894994e-02\n",
       "1414 -1.044386e-01\n",
       "1415 -9.783684e-02\n",
       "1418 -1.007410e-01\n",
       "1420  2.803372e-01\n",
       "1422  7.182115e-02\n",
       "1427 -1.544757e-01\n",
       "1434 -2.664060e-01\n",
       "1435 -1.912196e-01\n",
       "1436 -1.540624e-01\n",
       "1439 -1.114162e-01\n",
       "1448 -1.348632e-01\n",
       "1449  2.546715e-01\n",
       "1450  1.146718e-01\n",
       "1453 -1.180767e-01\n",
       "1457  1.975057e-01\n",
       "1465 -2.164782e-01\n",
       "1467  9.995989e-02\n",
       "1469 -3.124922e-02\n",
       "1472 -1.252420e-01\n",
       "1473 -2.100483e-01\n",
       "1478 -1.424116e-02\n",
       "1479 -5.557952e-02\n",
       "1480  5.834840e-01\n",
       "1482  3.112285e-02\n",
       "1485 -2.970348e-01\n",
       "1486 -5.003018e-01\n",
       "1489 -2.053271e-01\n",
       "1492  2.768042e-01\n",
       "1493 -8.386910e-02\n",
       "1494  2.654940e-01\n",
       "1495 -2.701924e-01\n",
       "1497 -2.533516e-02\n",
       "1498  1.227543e-01\n",
       "1499  2.348246e-02\n",
       "1500 -1.776758e-01\n",
       "1504 -1.004556e-01\n",
       "1505 -1.106585e-01\n",
       "1506 -1.456211e-02\n",
       "1512 -4.567173e-01\n",
       "1519 -2.943011e-01\n",
       "1520  1.020746e-01\n",
       "1523 -1.066085e-01\n",
       "1525 -3.184416e-02\n",
       "1530 -1.793496e-01\n",
       "1540  2.830008e-02\n",
       "1541  7.080484e-02\n",
       "1542 -1.096406e-01\n",
       "1543  1.796602e-01\n",
       "1544  3.103872e-01\n",
       "1546  1.813293e-02\n",
       "1548  1.901313e-01\n",
       "1553  4.116213e-01\n",
       "1554 -1.872468e-01\n",
       "1555 -4.589319e-02\n",
       "1556  3.211957e-01\n",
       "1557  4.921684e-03\n",
       "1558 -1.035688e-01\n",
       "1559 -4.190949e-01\n",
       "1562  1.436183e-02\n",
       "1564  4.870291e-02\n",
       "1571  2.207983e-01\n",
       "1572  1.372264e-01\n",
       "1574 -5.408012e-02\n",
       "1583 -2.248141e-01\n",
       "1587  9.530032e-02\n",
       "1590 -3.252874e-01\n",
       "1596 -8.449052e-03\n",
       "1599  3.768219e-01\n",
       "1600 -1.912455e-01\n",
       "1603  8.411531e-02\n",
       "1607  1.966647e-02\n",
       "1613 -2.779155e-01\n",
       "1615 -2.180250e-01\n",
       "1618 -5.993885e-01\n",
       "1619 -2.071062e-01\n",
       "1626 -5.942722e-01\n",
       "1628 -3.555349e-01\n",
       "1630 -3.117364e-01\n",
       "1632 -1.881119e-01\n",
       "1635 -6.957930e-02\n",
       "1636 -2.499926e-01\n",
       "1638 -1.812049e-01\n",
       "1644 -6.901048e-02\n",
       "1646 -4.495273e-01\n",
       "1653  1.446690e-01\n",
       "1654 -1.000567e-01\n",
       "1655  3.677632e-01\n",
       "1656 -1.199243e-01\n",
       "1657 -1.670338e-01\n",
       "1664  9.571062e-02\n",
       "1674 -1.491395e-01\n",
       "1677 -3.909646e-01\n",
       "1678 -3.217976e-01\n",
       "1680 -6.550542e-01\n",
       "1688 -1.094323e-01\n",
       "1689 -2.900156e-01\n",
       "1690 -3.197434e-01\n",
       "1691 -2.571551e-01\n",
       "1693  3.784673e-02\n",
       "1696  2.847392e-02\n",
       "1697 -1.792302e-01\n",
       "1698 -1.198239e-01\n",
       "1701 -2.066245e-02\n",
       "1702 -2.778634e-01\n",
       "1708  3.459771e-01\n",
       "1712 -2.816352e-01\n",
       "1713 -1.631138e-01\n",
       "1717 -5.385243e-02\n",
       "1719  3.229174e-01\n",
       "1721 -3.915175e-01\n",
       "1725  1.779440e-01\n",
       "1729 -7.012810e-01\n",
       "1733 -1.197444e-01\n",
       "1734  1.581530e-01\n",
       "1735 -3.469131e-01\n",
       "1737 -1.056602e-01\n",
       "1738 -2.728868e-01\n",
       "1740 -1.165031e-01\n",
       "1743  1.260911e-01\n",
       "1745 -2.357322e-02\n",
       "1746  2.190245e-01\n",
       "1748 -2.149167e-01\n",
       "1752 -1.775137e-01\n",
       "1757  5.954376e-02\n",
       "1758 -7.717626e-02\n",
       "1760  8.930535e-02\n",
       "1762 -1.865767e-01\n",
       "1764  1.195264e-02\n",
       "1765 -1.387171e-01\n",
       "1770  7.261764e-03\n",
       "1772  2.996746e-02\n",
       "1773  2.328311e-01\n",
       "1777  4.014223e-01\n",
       "1778  4.545526e-01\n",
       "1779 -4.547394e-01\n",
       "1780  4.138898e-01\n",
       "1785  4.434157e-02\n",
       "1787 -2.401552e-01\n",
       "1788 -4.249574e-01\n",
       "1790 -4.725829e-02\n",
       "1793  1.738467e-02\n",
       "1796 -4.986640e-01\n",
       "1801  2.176469e-01\n",
       "1802 -8.949985e-02\n",
       "1804  2.659005e-01\n",
       "1805  8.317632e-02\n",
       "1811  8.733851e-02\n",
       "1812 -1.996454e-01\n",
       "1813  3.702951e-02\n",
       "1817  1.616249e-01\n",
       "1822  2.086914e-01\n",
       "1823  1.174349e-01\n",
       "1824  1.044663e-01\n",
       "1825 -1.281103e-01\n",
       "1826 -1.719664e-02\n",
       "1827  1.134604e-01\n",
       "1828  2.019712e-01\n",
       "1831 -2.131043e-01\n",
       "1833  1.292469e-01\n",
       "1834  2.179857e-02\n",
       "1842  1.624545e-02\n",
       "1843  3.585773e-02\n",
       "1845 -1.109256e-01\n",
       "1846 -3.070131e-01\n",
       "1851  2.766177e-01\n",
       "1852  3.536003e-01\n",
       "1856  4.357230e-02\n",
       "1858 -6.020854e-02\n",
       "1862 -1.032039e-01\n",
       "1863  7.942493e-01\n",
       "1866  3.028318e-01\n",
       "1867 -1.921838e-01\n",
       "1868 -3.707555e-01\n",
       "1870 -2.937014e-01\n",
       "1873 -1.970626e-01\n",
       "1874 -2.365672e-01\n",
       "1875  5.996914e-02\n",
       "1876  3.617580e-01\n",
       "1880  3.253400e-01\n",
       "1881  5.872486e-02\n",
       "1882  2.202224e-01\n",
       "1884  3.479352e-02\n",
       "1886  2.464141e-01\n",
       "1890  2.629525e-01\n",
       "1891  1.463485e-01\n",
       "1892  2.508999e-01\n",
       "1893  1.925056e-01\n",
       "1894  4.911900e-02\n",
       "1901 -2.143027e-01\n",
       "1905 -3.926334e-02\n",
       "1916 -1.818078e-01\n",
       "1921  5.530721e-01\n",
       "1922  1.876098e-01\n",
       "1924 -5.381797e-02\n",
       "1925 -6.572000e-02\n",
       "1926  1.852915e-01\n",
       "1932  1.347642e-01\n",
       "1935  2.437662e-01\n",
       "1939  4.751472e-02\n",
       "1943  2.317562e-01\n",
       "1949  2.237444e-01\n",
       "1957  7.991976e-02\n",
       "1958  1.657125e-01\n",
       "1964 -1.048754e-01\n",
       "1965  1.830793e-01\n",
       "1968 -3.136420e-02\n",
       "1970 -3.043857e-01\n",
       "1972 -1.432483e-01\n",
       "1973  2.361460e-02\n",
       "1979  3.861309e-01\n",
       "1980  3.885573e-01\n",
       "1987 -9.013182e-02\n",
       "1991 -2.959453e-01\n",
       "1994 -3.456876e-01\n",
       "1995 -1.385808e-01\n",
       "1999  1.339608e-02\n",
       "2000  6.541344e-02\n",
       "2005  1.116887e-01\n",
       "2009  5.241566e-02\n",
       "2022  5.083371e-02\n",
       "2024 -6.363685e-02\n",
       "2026 -1.147720e-01\n",
       "2028 -8.519563e-02\n",
       "2031 -1.213524e-01\n",
       "2034  2.553071e-01\n",
       "2036 -2.124533e-01\n",
       "2042 -2.628112e-01\n",
       "2045  1.168919e-01\n",
       "2046  4.668096e-02\n",
       "2050  5.965482e-02\n",
       "2052  5.037993e-02\n",
       "2056  1.530276e-01\n",
       "2057  5.245388e-02\n",
       "2058 -2.281521e-01\n",
       "2059 -2.005330e-01\n",
       "2066 -1.463056e-01\n",
       "2067  1.330975e-01\n",
       "2068 -4.311967e-01\n",
       "2069  9.253627e-03\n",
       "2070  2.854049e-02\n",
       "2073 -2.007504e-01\n",
       "2074 -3.267924e-01\n",
       "2077  3.561044e-01\n",
       "2083 -6.839270e-02\n",
       "2085  1.941477e-01\n",
       "2087 -3.118206e-01\n",
       "2088 -2.465417e-01\n",
       "2089 -1.137622e-01\n",
       "2091 -1.886598e-01\n",
       "2096  3.892617e-02\n",
       "2098  1.985117e-01\n",
       "2111 -4.122766e-02\n",
       "2113  7.409031e-02\n",
       "2119 -1.528740e-02\n",
       "2122 -9.353670e-02\n",
       "2123 -3.191323e-02\n",
       "2124  1.190743e-02\n",
       "2125  1.661638e-02\n",
       "2126 -1.526801e-01\n",
       "2129  5.326826e-02\n",
       "2132 -1.184837e-01\n",
       "2140  1.136671e-02\n",
       "2143 -1.670413e-01\n",
       "2146 -1.620804e-01\n",
       "2148 -1.162114e-01\n",
       "2153 -1.608719e-01\n",
       "2160 -8.906910e-02\n",
       "2163  1.203757e-01\n",
       "2165 -2.453618e-01\n",
       "2172  3.685907e-01\n",
       "2174  5.811395e-02\n",
       "2175 -1.237017e-01\n",
       "2178 -3.214135e-01\n",
       "2179 -8.852849e-02\n",
       "2180 -2.495226e-02\n",
       "2181  5.629651e-02\n",
       "2182 -4.224689e-01\n",
       "2185  2.205057e-01\n",
       "2186  4.876667e-02\n",
       "2189  6.616936e-02\n",
       "2196 -1.303084e-01\n",
       "2197 -2.046566e-01\n",
       "2200  7.231677e-02\n",
       "2202  5.628716e-02\n",
       "2203 -2.125120e-01\n",
       "2204  1.374296e-01\n",
       "2207 -4.871162e-02\n",
       "2211 -3.359969e-01\n",
       "2213  8.687148e-02\n",
       "2216  3.176567e-02\n",
       "2217 -1.079397e-01\n",
       "2218  7.208351e-02\n",
       "2222  6.394035e-02\n",
       "2223 -5.714288e-02\n",
       "2224  1.175394e-01\n",
       "2226  1.968428e-01\n",
       "2227  3.240762e-02\n",
       "2229 -1.161168e-01\n",
       "2230 -6.034315e-02\n",
       "2231 -7.961919e-03\n",
       "2234  8.975908e-02\n",
       "2236 -1.180154e-01\n",
       "2237  3.470878e-01\n",
       "2238 -4.118156e-01\n",
       "2241 -2.130778e-01\n",
       "2253 -2.490816e-01\n",
       "2260 -2.113692e-01\n",
       "2263 -1.710623e-01\n",
       "2265 -3.142557e-01\n",
       "2271 -2.031612e-01\n",
       "2273  2.052246e-01\n",
       "2275 -3.265452e-03\n",
       "2278 -1.627442e-02\n",
       "2279  4.965620e-02\n",
       "2280  4.702872e-02\n",
       "2291 -2.760418e-01\n",
       "2292 -3.534207e-01\n",
       "2299  2.568968e-01\n",
       "2303 -4.393498e-02\n",
       "2305  2.751596e-02\n",
       "2306 -8.100765e-02\n",
       "2309 -4.777430e-02\n",
       "2316 -1.824371e-01\n",
       "2320 -1.209402e-01\n",
       "2327 -4.346656e-01\n",
       "2328 -1.215824e-01\n",
       "2333  2.893556e-01\n",
       "2337 -1.977724e-01\n",
       "2338 -2.838665e-01\n",
       "2340 -1.709014e-01\n",
       "2342  3.964406e-01\n",
       "2351  9.540021e-02\n",
       "2354 -6.367195e-02\n",
       "2355 -2.412123e-01\n",
       "2358  3.393706e-01\n",
       "2361  8.772276e-02\n",
       "2362 -5.582800e-03\n",
       "2364  9.668213e-02\n",
       "2365 -2.744876e-01\n",
       "2368 -2.207564e-02\n",
       "2373  2.638242e-01\n",
       "2375  2.315823e-01\n",
       "2377 -1.790367e-01\n",
       "2378 -1.218298e-01\n",
       "2379 -1.309618e-01\n",
       "2381 -3.006270e-01\n",
       "2383 -2.721893e-01\n",
       "2384 -1.795993e-02\n",
       "2386 -7.329564e-02\n",
       "2390 -1.095931e-01\n",
       "2391 -9.886817e-02\n",
       "2394 -1.058640e-01\n",
       "2396  3.871577e-01\n",
       "2397 -2.435666e-01\n",
       "2398 -9.120089e-02\n",
       "2399 -2.436539e-02\n",
       "2401 -8.125000e-02\n",
       "2412 -1.705259e-01\n",
       "2415 -4.796856e-02\n",
       "2418  1.188746e-01\n",
       "2419  1.459644e-01\n",
       "2420  1.325343e-01\n",
       "2422 -1.299670e-01\n",
       "2428 -1.005755e-01\n",
       "2433 -4.062666e-02\n",
       "2434 -8.054181e-02\n",
       "2436 -1.948359e-01\n",
       "2442  1.044904e-01\n",
       "2443 -3.449938e-02\n",
       "2444  2.643301e-01\n",
       "2447  1.362405e-01\n",
       "2448 -1.233500e-01\n",
       "2453  4.176598e-02\n",
       "2454  1.690026e-01\n",
       "2461  1.564228e-01\n",
       "2465  5.029193e-02\n",
       "2467  1.341453e-01\n",
       "2469  2.362350e-01\n",
       "2476  4.978598e-02\n",
       "2480  8.788209e-01\n",
       "2481  5.783355e-02\n",
       "2482 -1.116662e-01\n",
       "2484 -2.039405e-01\n",
       "2486  3.075408e-01\n",
       "2487 -2.108012e-02\n",
       "2491 -9.447518e-02\n",
       "2495 -5.186155e-02\n",
       "2500  1.525470e-01\n",
       "2503  1.391296e-01\n",
       "2506  3.891079e-01\n",
       "2514 -1.808575e-02\n",
       "2517 -1.733361e-01\n",
       "2518  5.476442e-03\n",
       "2520 -2.751863e-01\n",
       "2522 -4.786786e-01\n",
       "2525  1.857852e-01\n",
       "2529 -9.135041e-02\n",
       "2530 -1.044184e-01\n",
       "2531  9.389931e-02\n",
       "2535  1.305213e-01\n",
       "2536  1.862830e-01\n",
       "2537 -1.835405e-05\n",
       "2544  9.312461e-02\n",
       "2547 -1.861519e-01\n",
       "2550  4.613182e-02\n",
       "2552 -1.389616e-01\n",
       "2555 -1.935528e-01\n",
       "2556 -2.289186e-01\n",
       "2559  9.600282e-02\n",
       "2560  7.390801e-02\n",
       "2562  1.457782e-01\n",
       "2577  7.036985e-01\n",
       "2578  2.115296e-01\n",
       "2583 -2.531688e-01\n",
       "2592 -3.590155e-02\n",
       "2593  3.039113e-01\n",
       "2594  2.246439e-01\n",
       "2596  9.632481e-02\n",
       "2602 -1.573969e-01\n",
       "2608  2.900087e-01\n",
       "2615  1.891976e-01\n",
       "2619 -6.738389e-02\n",
       "2620  3.596327e-01\n",
       "2623 -2.569331e-01\n",
       "2625  2.815288e-01\n",
       "2626  3.382093e-01\n",
       "2632  2.273039e-01\n",
       "2633  4.283154e-02\n",
       "2636  1.068516e-01\n",
       "2640  2.702262e-01\n",
       "2647  1.029780e-01\n",
       "2648  3.037062e-01\n",
       "2649  2.976770e-01\n",
       "2654 -7.156574e-02\n",
       "2661  1.660710e-01\n",
       "2662 -1.440281e-01\n",
       "2663  1.717411e-01\n",
       "2664  2.955386e-01\n",
       "2665 -2.146980e-01\n",
       "2674 -6.568856e-02\n",
       "2675  3.635122e-01\n",
       "2676  8.029154e-02\n",
       "2677 -7.443697e-02\n",
       "2678 -2.903973e-02\n",
       "2679 -1.219660e-01\n",
       "2680  1.378008e-01\n",
       "2686  1.817364e-01\n",
       "2691 -1.980937e-01\n",
       "2699  5.631228e-02\n",
       "2701  1.136329e-01\n",
       "2707 -5.058605e-02\n",
       "2708 -1.734431e-02\n",
       "2711  5.692100e-03\n",
       "2719  1.094258e-02\n",
       "2720 -8.870090e-02\n",
       "2721  5.407846e-02\n",
       "2723 -3.055638e-01\n",
       "2725  1.742313e-02\n",
       "2735 -1.712883e-01\n",
       "2745 -2.607498e-01\n",
       "2746 -6.939888e-02\n",
       "2747 -1.709329e-02\n",
       "2754 -1.591146e-01\n",
       "2757 -2.012995e-01\n",
       "2763  6.691885e-02\n",
       "2764  1.526171e-01\n",
       "2766 -1.910889e-01\n",
       "2770  8.138296e-02\n",
       "2771 -3.511731e-03\n",
       "2776  7.300428e-02\n",
       "2777 -1.547549e-01\n",
       "2780 -9.689094e-02\n",
       "2786  1.002520e-02\n",
       "2787 -8.072751e-02\n",
       "2788  3.398333e-01\n",
       "2790  9.528461e-02\n",
       "2792  3.541763e-01\n",
       "2795  7.689082e-02\n",
       "2796  2.148090e-02\n",
       "2806 -6.263123e-02\n",
       "2813  1.193047e-01\n",
       "2816  2.286491e-01\n",
       "2824  3.441036e-01\n",
       "2827 -8.066694e-02\n",
       "2830 -3.770730e-01\n",
       "2831  2.303383e-02\n",
       "2835 -9.376383e-02\n",
       "2841 -2.639024e-01\n",
       "2844 -2.268872e-01\n",
       "2849  1.149620e-01\n",
       "2850 -3.077810e-01\n",
       "2851 -1.576137e-01\n",
       "2853 -1.494038e-01\n",
       "2854 -2.186511e-01\n",
       "2855 -1.338594e-01\n",
       "2858 -7.282790e-02\n",
       "2859 -5.642008e-01\n",
       "2870 -2.058374e-01\n",
       "2876  2.232358e-03\n",
       "2878 -1.996473e-01\n",
       "2880 -2.471117e-01\n",
       "2888  1.320391e-01\n",
       "2894 -1.044476e-01\n",
       "2900  2.170723e-01\n",
       "2902  1.443604e-01\n",
       "2908  1.707353e-01\n",
       "2909 -9.880064e-02\n",
       "2913  1.028564e-01\n",
       "2914 -7.839955e-03\n",
       "2915  2.208339e-01\n",
       "2918 -9.291476e-02\n",
       "2919  2.694209e-02\n",
       "2932  3.926001e-02\n",
       "2934 -2.841353e-01\n",
       "2940  4.321163e-01\n",
       "2942  5.153009e-01\n",
       "2945 -2.538575e-01\n",
       "2946 -1.189553e-01\n",
       "2947 -1.601204e-01\n",
       "2949 -3.931641e-01\n",
       "2954 -3.193514e-01\n",
       "2956  9.536900e-02\n",
       "2958 -1.417746e-01\n",
       "2960 -1.208960e-01\n",
       "2961  3.133708e-02\n",
       "2969 -4.733347e-02\n",
       "2971 -2.010563e-01\n",
       "2973 -2.092707e-01\n",
       "2978 -1.636577e-01\n",
       "2979 -2.343293e-01\n",
       "2980  1.520465e-01\n",
       "2984  1.523011e-01\n",
       "2986 -1.423411e-01\n",
       "2987  1.023458e-01\n",
       "2993  2.838261e-02\n",
       "3000 -1.507400e-01\n",
       "3001  9.643288e-02\n",
       "3004 -6.986098e-02\n",
       "3006 -4.505407e-02\n",
       "3008  1.236606e-01\n",
       "3010  1.350934e-01\n",
       "3013  1.633665e-01\n",
       "3015  1.343251e-01\n",
       "3019 -3.150213e-03\n",
       "3021 -1.609215e-02\n",
       "3024 -3.008280e-01\n",
       "3025 -2.707439e-01\n",
       "3028 -3.331717e-01\n",
       "3029  1.025872e-01\n",
       "3038  2.383539e-01\n",
       "3039  2.964669e-02\n",
       "3040 -2.141298e-01\n",
       "3042 -1.031732e-01\n",
       "3043  2.413098e-01\n",
       "3044 -4.659894e-02\n",
       "3045  4.282333e-02\n",
       "3046 -2.779343e-01\n",
       "3048 -2.531386e-01\n",
       "3050  1.279167e-01\n",
       "3051  1.100413e-01\n",
       "3052  1.051555e-01\n",
       "3053 -5.501231e-02\n",
       "3056  3.079056e-02\n",
       "3058 -3.243428e-02\n",
       "3059  2.947135e-01\n",
       "3062 -2.683805e-02\n",
       "3064  5.028843e-03\n",
       "3069  1.460178e-01\n",
       "3070 -6.036384e-02\n",
       "3073  8.695225e-02\n",
       "3074  2.823055e-02\n",
       "3075  3.823905e-01\n",
       "3077  2.905380e-02\n",
       "3078  4.944657e-01\n",
       "3079 -4.771642e-01\n",
       "3090 -4.014532e-01\n",
       "3092  3.067472e-01\n",
       "3095  2.262469e-01\n",
       "3096 -1.589382e-01\n",
       "3097 -7.178880e-02\n",
       "3098 -2.045604e-01\n",
       "3099  1.269489e-02\n",
       "3106 -3.104978e-01\n",
       "3114  1.267914e-01\n",
       "3115 -2.607034e-01\n",
       "3116  2.768106e-01\n",
       "3118  2.070063e-01\n",
       "3121  1.043717e-01\n",
       "3123 -1.403054e-01\n",
       "3127 -7.670933e-02\n",
       "3133  3.096068e-02\n",
       "3135 -9.508156e-03\n",
       "3136 -1.349158e-01\n",
       "3137 -4.916119e-02\n",
       "3142 -5.283920e-02\n",
       "3144 -1.284235e-01\n",
       "3145 -3.524114e-01\n",
       "3148 -3.911638e-01\n",
       "3149 -2.412513e-01\n",
       "3151 -3.686830e-01\n",
       "3156 -1.718996e-01\n",
       "3157 -2.509997e-01\n",
       "3161  3.753360e-01\n",
       "3163  3.069477e-01\n",
       "3166 -2.306327e-01\n",
       "3167 -2.599884e-01\n",
       "3171 -9.576406e-02\n",
       "3172  2.711799e-01\n",
       "3173  1.794073e-02\n",
       "3174 -1.327348e-01\n",
       "3175 -4.125483e-02\n",
       "3177 -1.411256e-02\n",
       "3179 -9.692563e-02\n",
       "3182 -3.644357e-03\n",
       "3184 -4.525503e-02\n",
       "3185  8.032419e-02\n",
       "3186 -5.615101e-02\n",
       "3187 -2.614142e-02\n",
       "3188 -3.676155e-01\n",
       "3189  1.518541e-02\n",
       "3191  2.431986e-01\n",
       "3193  5.765540e-03\n",
       "3195 -2.414627e-01\n",
       "3197 -6.280800e-01\n",
       "3198 -2.719976e-01\n",
       "3200 -1.583824e-01\n",
       "3203 -4.850587e-02\n",
       "3204  6.201687e-02\n",
       "3205  8.852461e-02\n",
       "3208 -2.601539e-01\n",
       "3211 -1.625090e-01\n",
       "3212 -7.892083e-02\n",
       "3218 -1.342348e-01\n",
       "3225 -2.755375e-01\n",
       "3231 -3.526406e-01\n",
       "3232 -2.033006e-02\n",
       "3235 -2.303066e-02\n",
       "3236 -1.830829e-01\n",
       "3238 -2.435942e-01\n",
       "3242 -2.657998e-01\n",
       "3243 -1.610807e-02\n",
       "3245 -2.566013e-01\n",
       "3247 -6.233313e-02\n",
       "3250  2.807926e-01\n",
       "3255 -1.516164e-01\n",
       "3256 -1.499730e-02\n",
       "3258 -1.827570e-01\n",
       "3263 -4.822945e-01\n",
       "3269  1.372769e-01\n",
       "3272  3.226020e-01\n",
       "3277 -1.186165e-01\n",
       "3278  9.808388e-02\n",
       "3280 -4.760041e-02\n",
       "3289  1.013159e-01\n",
       "3291 -4.373254e-02\n",
       "3292  6.313949e-02\n",
       "3293 -1.017175e-01\n",
       "3294 -1.670287e-01\n",
       "3297 -3.272688e-01\n",
       "3301  2.336043e-01\n",
       "3305  2.385083e-01\n",
       "3307 -3.225482e-02\n",
       "3308 -4.123373e-02\n",
       "3309  1.622018e-01\n",
       "3314 -7.145821e-02\n",
       "3316  3.815587e-02\n",
       "3317 -3.451759e-02\n",
       "3320 -5.282714e-02\n",
       "3322  2.222901e-01\n",
       "3324 -2.836630e-02\n",
       "3326  2.758166e-02\n",
       "3327 -4.287602e-01\n",
       "3329 -3.722250e-02\n",
       "3334  2.307898e-02\n",
       "3338 -2.222779e-01\n",
       "3339 -3.398360e-01\n",
       "3340 -2.155783e-01\n",
       "3342 -3.807810e-01\n",
       "3344 -5.883930e-01\n",
       "3351  5.093049e-03\n",
       "3356 -2.344063e-01\n",
       "3357  1.246336e-01\n",
       "3360 -1.438652e-01\n",
       "3362 -2.958793e-01\n",
       "3368  4.463133e-02\n",
       "3371 -1.170517e-01\n",
       "3372 -7.616752e-02\n",
       "3374 -4.045151e-03\n",
       "3381  1.600908e-01\n",
       "3384 -1.288877e-01\n",
       "3386 -2.942027e-01\n",
       "3387  1.210703e-01\n",
       "3389  6.157822e-02\n",
       "3390  1.231918e-01\n",
       "3391 -3.152133e-01\n",
       "3392  5.327208e-03\n",
       "3395 -9.853819e-02\n",
       "3397 -2.230994e-01\n",
       "3401 -1.006001e-01\n",
       "3402 -1.323635e-01\n",
       "3403 -1.435929e-01\n",
       "3406 -5.635616e-02\n",
       "3408  2.131169e-01\n",
       "3410 -8.371601e-02\n",
       "3412 -2.731518e-01\n",
       "3413 -1.449131e-01\n",
       "3416 -1.127186e-01\n",
       "3417 -5.735623e-02\n",
       "3418 -1.631311e-01\n",
       "3419 -3.379293e-01\n",
       "3420  1.740469e-01\n",
       "3421  2.408357e-01\n",
       "3422 -4.463985e-01\n",
       "3423 -4.071591e-01\n",
       "3426 -1.880193e-01\n",
       "3429 -3.440074e-01\n",
       "3434 -6.818153e-02\n",
       "3435  4.526367e-01\n",
       "3437 -8.699659e-02\n",
       "3438 -1.874417e-01\n",
       "3439 -2.000293e-01\n",
       "3441 -1.887893e-01\n",
       "3443 -4.849170e-01\n",
       "3445  1.799033e-01\n",
       "3449 -9.004255e-02\n",
       "3455 -5.592980e-02\n",
       "3463 -2.894537e-01\n",
       "3464 -4.965857e-01\n",
       "3465 -1.360615e-01\n",
       "3466 -2.520858e-01\n",
       "3471 -2.953331e-01\n",
       "3474 -2.118869e-02\n",
       "3477  1.525778e-02\n",
       "3479 -9.339799e-02\n",
       "3480 -2.342222e-01\n",
       "3485  8.815096e-02\n",
       "3488 -3.710016e-01\n",
       "3490 -5.153630e-02\n",
       "3492  2.817111e-01\n",
       "3494  6.626197e-01\n",
       "3498  2.178405e-02\n",
       "3500 -5.148617e-02\n",
       "3501  1.819776e-02\n",
       "3502 -2.220534e-03\n",
       "3504  3.126467e-01\n",
       "3514  1.901230e-01\n",
       "3523  3.598771e-01\n",
       "3526 -1.093748e-01\n",
       "3534  2.041303e-01\n",
       "3535  4.264642e-01\n",
       "3536 -2.339308e-01\n",
       "3538  1.849919e-01\n",
       "3539  1.346796e-01\n",
       "3541  3.544762e-01\n",
       "3542 -3.681082e-01\n",
       "3551  3.527894e-01\n",
       "3555  2.122817e-01\n",
       "3558 -1.299398e-01\n",
       "3559  4.047885e-01\n",
       "3560 -4.386414e-02\n",
       "3562  3.511545e-01\n",
       "3563  3.323538e-01\n",
       "3565  3.226205e-01\n",
       "3571  1.133782e-01\n",
       "3573  4.677120e-01\n",
       "3574 -2.179018e-01\n",
       "3584  1.961888e-01\n",
       "3588  1.989696e-01\n",
       "3593  2.603067e-03\n",
       "3596  2.003494e-01\n",
       "3601  1.383209e-01\n",
       "3602  1.421503e-01\n",
       "3604  1.847112e-01\n",
       "3611  3.244986e-01\n",
       "3613  1.639907e-01\n",
       "3621  3.339879e-01\n",
       "3627  2.698984e-01\n",
       "3630 -2.060807e-01\n",
       "3632 -1.475990e-01\n",
       "3633  4.124468e-01\n",
       "3634  1.854694e-02\n",
       "3636 -1.411435e-01\n",
       "3640  1.092920e-01\n",
       "3641  2.047309e-01\n",
       "3643  1.179594e-01\n",
       "3644  1.208402e-01\n",
       "3648  3.783405e-01\n",
       "3651  2.737449e-01\n",
       "3660 -9.833246e-02\n",
       "3661  2.582692e-01\n",
       "3664  1.975837e-01\n",
       "3665  8.512194e-02\n",
       "3666  1.579226e-01\n",
       "3667 -1.267558e-01\n",
       "3669  7.324520e-02\n",
       "3671  3.665032e-01\n",
       "3686  3.789644e-01\n",
       "3689 -2.010017e-02\n",
       "3692 -2.099503e-01\n",
       "3695  6.072165e-02\n",
       "3696 -4.431813e-01\n",
       "3703  4.621195e-01\n",
       "3704  8.348193e-02\n",
       "3705 -7.372961e-02\n",
       "3709  1.144693e-01\n",
       "3711  1.821943e-01\n",
       "3712  9.157642e-02\n",
       "3718 -1.170178e-01\n",
       "3721 -2.466212e-01\n",
       "3730 -8.745990e-04\n",
       "3731  3.002571e-01\n",
       "3734  6.798849e-01\n",
       "3735  1.832687e-01\n",
       "3737  1.015233e-01\n",
       "3739 -9.388027e-02\n",
       "3745  6.658803e-02\n",
       "3746  1.768922e-01\n",
       "3747 -1.414453e-01\n",
       "3748  6.205799e-02\n",
       "3758  3.840015e-01\n",
       "3762  6.316623e-02\n",
       "3764  5.261049e-01\n",
       "3766  3.588815e-01\n",
       "3768  2.171197e-01\n",
       "3770  1.528803e-01\n",
       "3779  2.144988e-01\n",
       "3780 -1.274912e-01\n",
       "3787 -1.003953e-01\n",
       "3789  1.853895e-01\n",
       "3792  1.153533e-01\n",
       "3795 -3.373086e-02\n",
       "3800  7.466633e-02\n",
       "3811  6.129906e-02\n",
       "3812 -4.111953e-02\n",
       "3813 -2.004888e-01\n",
       "3815  4.226567e-01\n",
       "3817  4.180296e-01\n",
       "3819 -8.010126e-02\n",
       "3821 -5.267163e-02\n",
       "3822 -5.740647e-02\n",
       "3826 -1.065529e-01\n",
       "3827  4.816318e-03\n",
       "3829 -4.633094e-02\n",
       "3830  5.580041e-02\n",
       "3831 -2.191736e-01\n",
       "3832 -2.325635e-01\n",
       "3836  2.058498e-01\n",
       "3839  4.666529e-01\n",
       "3840 -1.242812e-02\n",
       "3846  3.356746e-02\n",
       "3850  4.541786e-02\n",
       "3852  1.929833e-02\n",
       "3859 -1.210902e-01\n",
       "3861 -1.148627e-01\n",
       "3864  5.504044e-02\n",
       "3871  3.015740e-01\n",
       "3872  3.662844e-02\n",
       "3876 -2.647248e-01\n",
       "3878  2.861706e-01\n",
       "3881 -2.677234e-01\n",
       "3882 -2.193652e-01\n",
       "3885  3.172410e-01\n",
       "3886 -2.500194e-01\n",
       "3903  6.470525e-02\n",
       "3908 -1.671339e-01\n",
       "3910  2.207549e-02\n",
       "3915  1.576578e-01\n",
       "3920  2.400447e-01\n",
       "3924 -1.298616e-01\n",
       "3925  3.891658e-01\n",
       "3929  8.895681e-02\n",
       "3930  1.065730e-01\n",
       "3933 -8.990882e-02\n",
       "3939 -3.528930e-02\n",
       "3943  1.697211e-01\n",
       "3952  3.531680e-01\n",
       "3956 -1.882325e-01\n",
       "3958  8.190032e-02\n",
       "3964 -2.116672e-01\n",
       "3966  2.435902e-01\n",
       "3983  3.964913e-01\n",
       "3985 -9.181464e-02\n",
       "3988  1.286767e-01\n",
       "3991 -2.978431e-01\n",
       "3992 -1.011508e-01\n",
       "3994 -1.937527e-01\n",
       "4003  1.610950e-01\n",
       "4007  8.781621e-02\n",
       "4009 -3.332289e-01\n",
       "4015 -1.649254e-01\n",
       "4020  2.280676e-01\n",
       "4021 -1.019596e-01\n",
       "4024 -1.406801e-01\n",
       "4026 -1.448494e-01\n",
       "4038  1.768197e-01\n",
       "4043 -3.683500e-02\n",
       "4050  3.867539e-02\n",
       "4051 -4.810394e-02\n",
       "4053  2.808584e-02\n",
       "4055 -6.774360e-02\n",
       "4060  4.063158e-02\n",
       "4063  4.925589e-02\n",
       "4069  1.935177e-01\n",
       "4072 -3.276729e-01\n",
       "4082  1.664344e-02\n",
       "4084  8.789316e-02\n",
       "4086  5.594248e-02\n",
       "4087  3.047664e-01\n",
       "4091  3.391557e-01\n",
       "4108  1.713767e-01\n",
       "4113  2.563274e-01\n",
       "4118  1.674613e-01\n",
       "4119 -9.287099e-02\n",
       "4120  2.082093e-01\n",
       "4121  5.092156e-01\n",
       "4124 -1.376331e-01\n",
       "4127  2.405945e-02\n",
       "4128 -1.136920e-01\n",
       "4129  1.581339e-01\n",
       "4132  5.400568e-01\n",
       "4138  2.623854e-01\n",
       "4145  3.520607e-01\n",
       "4146 -8.571680e-03\n",
       "4147  2.502826e-01\n",
       "4148  8.476801e-02\n",
       "4149  3.160836e-02\n",
       "4160  3.482989e-02\n",
       "4168  8.381544e-02\n",
       "4172 -1.387938e-01\n",
       "4173  1.788398e-01\n",
       "4176  8.591161e-02\n",
       "4184  2.280286e-01\n",
       "4188 -1.620376e-01\n",
       "4189 -8.000587e-02\n",
       "4191 -5.403971e-02\n",
       "4192 -1.857367e-01\n",
       "4198  1.391847e-01\n",
       "4202  1.069599e-01\n",
       "4203 -3.009851e-01\n",
       "4204 -1.478731e-01\n",
       "4207  4.757690e-01\n",
       "4211 -2.453326e-01\n",
       "4222 -5.658159e-01\n",
       "4225 -1.934540e-01\n",
       "4232  1.751440e-01\n",
       "4233 -5.465069e-01\n",
       "4237 -2.715303e-03\n",
       "4240 -1.652502e-01\n",
       "4242 -6.871653e-03\n",
       "4247  4.680347e-02\n",
       "4250  3.242856e-01\n",
       "4252  3.264697e-02\n",
       "4253  7.454427e-02\n",
       "4257  1.012325e-01\n",
       "4259  2.474187e-01\n",
       "4269  1.745045e-01\n",
       "4277  2.398705e-01\n",
       "4279  7.648802e-02\n",
       "4281 -3.286981e-01\n",
       "4283  3.811068e-02\n",
       "4287  1.122700e-01\n",
       "4291 -4.109170e-01\n",
       "4292  2.101532e-02\n",
       "4293  2.886145e-01\n",
       "4299 -9.229214e-02\n",
       "4304 -1.279875e-01\n",
       "4309 -9.152135e-02\n",
       "4312 -2.784018e-01\n",
       "4315  4.638729e-02\n",
       "4318 -2.199418e-01\n",
       "4324  2.191750e-01\n",
       "4330 -1.029585e-01\n",
       "4334 -2.660124e-02\n",
       "4338  7.393786e-02\n",
       "4340 -2.934153e-01\n",
       "4343  1.542990e-01\n",
       "4344 -1.399086e-01\n",
       "4345  9.605281e-02\n",
       "4346  4.706682e-02\n",
       "4351  1.365692e-02\n",
       "4356  1.434381e-01\n",
       "4359  2.599850e-01\n",
       "4360  6.980260e-02\n",
       "4361  6.315836e-02\n",
       "4365  4.938791e-02\n",
       "4367 -4.121159e-02\n",
       "4368 -1.135233e-01\n",
       "4369 -7.742670e-02\n",
       "4376 -2.110735e-01\n",
       "4382 -1.214287e-01\n",
       "4383 -2.940162e-01\n",
       "4384 -4.476192e-01\n",
       "4385 -4.288040e-01\n",
       "4386 -9.511099e-02\n",
       "4388 -2.107719e-01\n",
       "4389 -1.291068e-01\n",
       "4393 -3.717074e-01\n",
       "4394 -2.488258e-01\n",
       "4398 -3.549244e-02\n",
       "4399 -8.154049e-02\n",
       "4400 -4.353664e-02\n",
       "4401 -2.091446e-01\n",
       "4402 -6.164247e-02\n",
       "4405  1.146493e-02\n",
       "4407 -1.622814e-01\n",
       "4409 -2.235560e-01\n",
       "4411 -5.077338e-01\n",
       "4413 -2.408084e-01\n",
       "4419 -1.461820e-01\n",
       "4420 -1.895630e-01\n",
       "4421 -2.928666e-01\n",
       "4422  9.321026e-03\n",
       "4423 -6.963189e-02\n",
       "4425 -5.986223e-02\n",
       "4426 -3.236819e-01\n",
       "4428 -2.149611e-01\n",
       "4429  2.181880e-01\n",
       "4431 -2.523187e-01\n",
       "4436 -3.594680e-02\n",
       "4437 -1.881969e-01\n",
       "4438 -3.316901e-01\n",
       "4441 -1.343309e-01\n",
       "4442 -3.900285e-01\n",
       "4446 -3.147514e-01\n",
       "4448 -3.809715e-01\n",
       "4450  1.073358e-01\n",
       "4451 -2.515898e-01\n",
       "4452 -1.902543e-01\n",
       "4453 -2.491760e-01\n",
       "4454 -1.029039e-01\n",
       "4455 -2.347492e-01\n",
       "4457 -2.517907e-01\n",
       "4458 -8.750686e-03\n",
       "4460 -1.273554e-01\n",
       "4462 -5.224839e-01\n",
       "4463 -1.572052e-01\n",
       "4465 -5.836997e-01\n",
       "4467 -7.775901e-02\n",
       "4477  6.282831e-02\n",
       "4480 -9.571902e-02\n",
       "4488 -1.607214e-01\n",
       "4489 -8.198517e-02\n",
       "4490  4.425999e-01\n",
       "4491 -1.280519e-01\n",
       "4492 -1.647176e-01\n",
       "4493 -1.077702e-01\n",
       "4494 -8.523067e-02\n",
       "4496 -1.449115e-01\n",
       "4497  1.208215e-01\n",
       "4498 -5.604941e-02\n",
       "4501 -1.269291e-01\n",
       "4506 -2.311589e-02\n",
       "4511 -1.430983e-01\n",
       "4512 -2.372689e-01\n",
       "4515 -2.570164e-01\n",
       "4517 -1.440846e-02\n",
       "4520  3.478534e-01\n",
       "4523  1.556121e-01\n",
       "4526  1.228252e-01\n",
       "4527 -3.664769e-01\n",
       "4528  6.050005e-03\n",
       "4530 -5.796054e-02\n",
       "4531 -2.834447e-01\n",
       "4532 -2.094453e-01\n",
       "4533 -9.892624e-02\n",
       "4535  3.051269e-01\n",
       "4539  5.201539e-01\n",
       "4542  8.678680e-02\n",
       "4543  2.552817e-01\n",
       "4545  1.135112e-01\n",
       "4546 -1.962511e-01\n",
       "4547 -1.829729e-01\n",
       "4548  2.187832e-01\n",
       "4549  2.620855e-01\n",
       "4554 -8.134921e-02\n",
       "4556  4.089171e-02\n",
       "4558  2.216278e-02\n",
       "4559  2.147070e-01\n",
       "4563  2.263954e-01\n",
       "4564 -2.461445e-01\n",
       "4565  2.268529e-01\n",
       "4566 -9.294587e-02\n",
       "4567 -2.008337e-03\n",
       "4569 -2.243899e-01\n",
       "4575  4.676336e-02\n",
       "4578 -2.178775e-01\n",
       "4579 -4.931098e-02\n",
       "4580 -9.812156e-02\n",
       "4583  1.954673e-01\n",
       "4584  2.968088e-02\n",
       "4589 -3.506222e-01\n",
       "4600 -3.374121e-01\n",
       "4603  1.143984e-01\n",
       "4605  1.620660e-01\n",
       "4606 -8.918842e-02\n",
       "4607  2.158017e-01\n",
       "4614 -1.077692e-01\n",
       "4615  1.747420e-01\n",
       "4618 -2.008336e-01\n",
       "4620  1.276401e-02\n",
       "4621 -1.490656e-01\n",
       "4623  2.316601e-01\n",
       "4625 -7.366430e-02\n",
       "4628  4.477858e-02\n",
       "4640 -5.591970e-01\n",
       "4641 -1.099937e-01\n",
       "4642 -9.854814e-02\n",
       "4648  4.625188e-01\n",
       "4649 -3.787996e-02\n",
       "4656 -1.960875e-01\n",
       "4658 -3.833717e-03\n",
       "4659  3.704279e-01\n",
       "4660  3.645628e-01\n",
       "4667 -1.683244e-02\n",
       "4669 -1.404125e-01\n",
       "4672 -3.358396e-01\n",
       "4678 -5.578757e-01\n",
       "4680  1.520361e-02\n",
       "4683 -3.242779e-01\n",
       "4684  1.764115e-01\n",
       "4686 -3.514644e-01\n",
       "4687 -2.714770e-01\n",
       "4688 -4.855369e-02\n",
       "4690 -9.809359e-02\n",
       "4691  2.139098e-02\n",
       "4696 -1.217040e-01\n",
       "4697 -3.207407e-01\n",
       "4703 -2.896881e-01\n",
       "4704  1.866602e-01\n",
       "4705 -5.847530e-02\n",
       "4707 -2.420314e-01\n",
       "4708 -2.812543e-01\n",
       "4712 -2.536545e-01\n",
       "4713 -2.189690e-01\n",
       "4716 -4.081095e-02\n",
       "4718 -3.795917e-01\n",
       "4721  8.202735e-02\n",
       "4724 -3.419956e-01\n",
       "4728  3.796424e-02\n",
       "4731 -1.961023e-01\n",
       "4732  5.597331e-01\n",
       "4733 -1.723481e-01\n",
       "4734 -1.865955e-01\n",
       "4735 -5.632605e-02\n",
       "4736 -2.114689e-01\n",
       "4737  4.492669e-01\n",
       "4739  4.313837e-02\n",
       "4742 -1.391313e-01\n",
       "4745 -2.502262e-01\n",
       "4746 -8.809116e-02\n",
       "4749 -4.962135e-02\n",
       "4751  2.043613e-02\n",
       "4762 -2.643388e-01\n",
       "4763 -1.920522e-01\n",
       "4764  1.539765e-01\n",
       "4765 -2.048498e-01\n",
       "4768 -2.593802e-01\n",
       "4769 -4.250363e-01\n",
       "4770 -6.922580e-02\n",
       "4773 -1.804912e-01\n",
       "4777 -9.694533e-02\n",
       "4779  9.368073e-01\n",
       "4780 -2.781121e-02\n",
       "4781 -2.805632e-01\n",
       "4785 -9.177224e-02\n",
       "4786 -1.210216e-02\n",
       "4790 -2.244511e-02\n",
       "4796 -1.474789e-01\n",
       "4799 -5.813356e-02\n",
       "4800  1.281977e-01\n",
       "4802 -4.588100e-01\n",
       "4806 -1.642652e-01\n",
       "4808 -9.081671e-01\n",
       "4810 -1.841760e-01\n",
       "4811 -2.610313e-01\n",
       "4813 -5.913786e-01\n",
       "4814 -2.444337e-01\n",
       "4820 -2.677351e-01\n",
       "4823  1.345860e-01\n",
       "4828 -3.505996e-01\n",
       "4832 -8.867226e-03\n",
       "4833  7.591490e-02\n",
       "4836  3.466443e-02\n",
       "4841 -3.790690e-01\n",
       "4845 -4.478302e-02\n",
       "4846 -1.769885e-01\n",
       "4847 -2.663242e-01\n",
       "4848 -2.697547e-01\n",
       "4849 -1.600179e-02\n",
       "4850 -1.937236e-01\n",
       "4851 -1.802140e-01\n",
       "4852 -1.327696e-01\n",
       "4853 -9.637321e-01\n",
       "4854 -4.414105e-01\n",
       "4856 -2.449948e-01\n",
       "4857 -3.238227e-03\n",
       "4858 -1.473542e-01\n",
       "4862 -9.652797e-02\n",
       "4866 -3.754303e-02\n",
       "4868 -7.032137e-01\n",
       "4870 -2.979224e-01\n",
       "4871 -3.647316e-01\n",
       "4872 -8.502502e-02\n",
       "4876 -1.246588e-01\n",
       "4880 -1.670131e-01\n",
       "4882 -2.737963e-01\n",
       "4883  2.445473e-01\n",
       "4885 -8.543818e-03\n",
       "4889 -6.280128e-01\n",
       "4897 -4.833220e-01\n",
       "4902  6.570694e-02\n",
       "4908 -2.379772e-01\n",
       "4909 -1.407816e-01\n",
       "4911  2.309762e-01\n",
       "4912  3.633497e-02\n",
       "4917  1.152074e-02\n",
       "4918 -2.920785e-01\n",
       "4919 -2.296903e-01\n",
       "4922 -2.091776e-01\n",
       "4924 -1.631083e-01\n",
       "4925  4.367476e-01\n",
       "4926 -1.563120e-01\n",
       "4935 -3.472960e-01\n",
       "4938 -1.595357e-01\n",
       "4939 -3.539497e-01\n",
       "4942  2.459698e-01\n",
       "4943  9.824678e-03\n",
       "4949  8.623596e-02\n",
       "4955 -2.515771e-01\n",
       "4956  1.655714e-01\n",
       "4957  1.427101e-01\n",
       "4959  8.845736e-02\n",
       "4962  4.286133e-02\n",
       "4966 -4.962095e-01\n",
       "4968 -2.502180e-01\n",
       "4969 -4.830249e-02\n",
       "4971 -1.778904e-03\n",
       "4975 -8.238167e-02\n",
       "4977 -1.264687e-01\n",
       "4978 -2.004805e-01\n",
       "4982 -9.336816e-02\n",
       "4986  4.364879e-02\n",
       "4987 -2.480968e-02\n",
       "4988 -4.811288e-01\n",
       "4991 -3.799389e-01\n",
       "4995  1.436451e-01\n",
       "5001 -2.574817e-01\n",
       "5002  9.986656e-03\n",
       "5007  5.415394e-02\n",
       "5008  2.142071e-01\n",
       "5010  4.950734e-01\n",
       "5013 -1.101173e-01\n",
       "5017 -1.965657e-01\n",
       "5020  1.721328e-01\n",
       "5021 -3.087071e-01\n",
       "5029 -1.448223e-01\n",
       "5039  1.297640e-01\n",
       "5043  2.423668e-01\n",
       "5046 -5.801628e-04\n",
       "5047  2.634828e-02\n",
       "5061 -2.994991e-01\n",
       "5064 -1.828982e-01\n",
       "5065 -1.396312e-01\n",
       "5080  1.390780e-02\n",
       "5081 -4.515770e-01\n",
       "5083  1.677629e-01\n",
       "5086 -2.707908e-01\n",
       "5088 -1.695281e-01\n",
       "5089 -1.716571e-01\n",
       "5091 -1.223901e-01\n",
       "5092 -1.343674e-01\n",
       "5095 -5.463556e-02\n",
       "5096  2.221080e-01\n",
       "5098 -2.004856e-01\n",
       "5103 -1.672826e-01\n",
       "5104 -1.661720e-01\n",
       "5108  3.561884e-02\n",
       "5111  1.862118e-03\n",
       "5112 -6.764941e-01\n",
       "5114 -2.509554e-01\n",
       "5117  6.418205e-02\n",
       "5124  4.756346e-02\n",
       "5127  2.106583e-01\n",
       "5132  3.929887e-02\n",
       "5136  4.998997e-02\n",
       "5145  4.397952e-02\n",
       "5148 -8.520424e-02\n",
       "5156 -2.897756e-01\n",
       "5157 -5.077094e-01\n"
      ]
     },
     "metadata": {},
     "output_type": "display_data"
    }
   ],
   "source": [
    "summary(reML)$coeff$random"
   ]
  },
  {
   "cell_type": "markdown",
   "metadata": {},
   "source": [
    "Un ajuste que puede explorarse, debido a que hay factores de dependencia en el tiempo, es una estructura de autocorrelación temporal. Para esto requirimos un ajuste previo para evitar incosistencias matriciales:"
   ]
  },
  {
   "cell_type": "code",
   "execution_count": 79,
   "metadata": {},
   "outputs": [],
   "source": [
    "nls_sub2$year <- as.numeric(as.character(nls_sub2$year))"
   ]
  },
  {
   "cell_type": "markdown",
   "metadata": {},
   "source": [
    "Y, mediante un modelo generalizado, incluimos la estructura de correlación:"
   ]
  },
  {
   "cell_type": "code",
   "execution_count": 80,
   "metadata": {},
   "outputs": [],
   "source": [
    "lmAR1ML <- gls(form, data=nls_sub2, correlation=corAR1(0,form=~year|idcode))"
   ]
  },
  {
   "cell_type": "markdown",
   "metadata": {},
   "source": [
    "Y, se puede ajustar un intercepto aleatorio (adicional). Esto permitirá determinar si es necesario o no el ajuste de correlación serial."
   ]
  },
  {
   "cell_type": "code",
   "execution_count": 81,
   "metadata": {},
   "outputs": [],
   "source": [
    "reAR1ML <- lme(form, data=nls_sub2,random=~1|idcode, correlation=corAR1(0,form=~year|idcode))"
   ]
  },
  {
   "cell_type": "markdown",
   "metadata": {},
   "source": [
    "El resumen numérido del modelo:"
   ]
  },
  {
   "cell_type": "code",
   "execution_count": 82,
   "metadata": {},
   "outputs": [
    {
     "data": {
      "text/plain": [
       "Linear mixed-effects model fit by REML\n",
       " Data: nls_sub2 \n",
       "       AIC      BIC    logLik\n",
       "  6738.132 6791.129 -3362.066\n",
       "\n",
       "Random effects:\n",
       " Formula: ~1 | idcode\n",
       "        (Intercept)  Residual\n",
       "StdDev:   0.2181318 0.3255322\n",
       "\n",
       "Correlation Structure: ARMA(1,0)\n",
       " Formula: ~year | idcode \n",
       " Parameter estimate(s):\n",
       "     Phi1 \n",
       "0.6264161 \n",
       "Fixed effects: list(form) \n",
       "                Value  Std.Error    DF  t-value p-value\n",
       "(Intercept) 0.5592226 0.03977379 12579 14.06008       0\n",
       "tenure      0.0184517 0.00135359 12579 13.63168       0\n",
       "ttl_exp     0.0213054 0.00110648 12579 19.25521       0\n",
       "grade       0.0730535 0.00323891  1764 22.55500       0\n",
       " Correlation: \n",
       "        (Intr) tenure ttl_xp\n",
       "tenure   0.017              \n",
       "ttl_exp -0.053 -0.650       \n",
       "grade   -0.978 -0.010 -0.052\n",
       "\n",
       "Standardized Within-Group Residuals:\n",
       "        Min          Q1         Med          Q3         Max \n",
       "-5.29684146 -0.40642346  0.09165184  0.52858670  9.21444706 \n",
       "\n",
       "Number of Observations: 14347\n",
       "Number of Groups: 1766 "
      ]
     },
     "metadata": {},
     "output_type": "display_data"
    }
   ],
   "source": [
    "summary(reAR1ML)"
   ]
  },
  {
   "cell_type": "markdown",
   "metadata": {},
   "source": [
    "Tenemos un coeficiente de correlación serial que hemos calculado (_phi_). Para obtener la prueba de significancia del coeficiente de correlación serial vamos a hacer una prueba de razón de probabilidad.\n",
    "\n",
    "Una prueba de razón de probabilidad para la correlación serial en los residuos idiosincrásicos se puede hacer como una prueba de modelos anidados, por `anova()`, comparando el modelo con los residuos idiosincrásicos esféricos con la alternativa más general que presenta los residuos `AR(1)`. La prueba toma la forma de una prueba de restricción cero en el parámetro autorregresivo.\n",
    "\n",
    "Esto se puede hacer en modelos de efectos agrupados o aleatorios por igual. Primero informamos el caso más simple.\n",
    "\n",
    "Ya estimamos el modelo `AR(1)` de agrupación anterior. El modelo GLS sin correlación en los residuos es el mismo que OLS, y bien podría usarse `lm()` para el modelo restringido, pero vamos a usar `gls()` que es más consistente."
   ]
  },
  {
   "cell_type": "code",
   "execution_count": 83,
   "metadata": {},
   "outputs": [
    {
     "data": {
      "text/html": [
       "<table>\n",
       "<caption>A anova.lme: 2 × 9</caption>\n",
       "<thead>\n",
       "\t<tr><th></th><th scope=col>call</th><th scope=col>Model</th><th scope=col>df</th><th scope=col>AIC</th><th scope=col>BIC</th><th scope=col>logLik</th><th scope=col>Test</th><th scope=col>L.Ratio</th><th scope=col>p-value</th></tr>\n",
       "\t<tr><th></th><th scope=col>&lt;chr&gt;</th><th scope=col>&lt;int&gt;</th><th scope=col>&lt;dbl&gt;</th><th scope=col>&lt;dbl&gt;</th><th scope=col>&lt;dbl&gt;</th><th scope=col>&lt;dbl&gt;</th><th scope=col>&lt;fct&gt;</th><th scope=col>&lt;dbl&gt;</th><th scope=col>&lt;dbl&gt;</th></tr>\n",
       "</thead>\n",
       "<tbody>\n",
       "\t<tr><th scope=row>lmML</th><td>gls(model = form, data = nls_sub2)                                                                                  </td><td>1</td><td>5</td><td>12968.882</td><td>13006.737</td><td>-6479.441</td><td>      </td><td>     NA</td><td>NA</td></tr>\n",
       "\t<tr><th scope=row>reAR1ML</th><td>lme.formula(fixed = form, data = nls_sub2, random = ~1 | idcode,     correlation = corAR1(0, form = ~year | idcode))</td><td>2</td><td>7</td><td> 6738.132</td><td> 6791.129</td><td>-3362.066</td><td>1 vs 2</td><td>6234.75</td><td> 0</td></tr>\n",
       "</tbody>\n",
       "</table>\n"
      ],
      "text/latex": [
       "A anova.lme: 2 × 9\n",
       "\\begin{tabular}{r|lllllllll}\n",
       "  & call & Model & df & AIC & BIC & logLik & Test & L.Ratio & p-value\\\\\n",
       "  & <chr> & <int> & <dbl> & <dbl> & <dbl> & <dbl> & <fct> & <dbl> & <dbl>\\\\\n",
       "\\hline\n",
       "\tlmML & gls(model = form, data = nls\\_sub2)                                                                                   & 1 & 5 & 12968.882 & 13006.737 & -6479.441 &        &      NA & NA\\\\\n",
       "\treAR1ML & lme.formula(fixed = form, data = nls\\_sub2, random = \\textasciitilde{}1 \\textbar{} idcode,     correlation = corAR1(0, form = \\textasciitilde{}year \\textbar{} idcode)) & 2 & 7 &  6738.132 &  6791.129 & -3362.066 & 1 vs 2 & 6234.75 &  0\\\\\n",
       "\\end{tabular}\n"
      ],
      "text/markdown": [
       "\n",
       "A anova.lme: 2 × 9\n",
       "\n",
       "| <!--/--> | call &lt;chr&gt; | Model &lt;int&gt; | df &lt;dbl&gt; | AIC &lt;dbl&gt; | BIC &lt;dbl&gt; | logLik &lt;dbl&gt; | Test &lt;fct&gt; | L.Ratio &lt;dbl&gt; | p-value &lt;dbl&gt; |\n",
       "|---|---|---|---|---|---|---|---|---|---|\n",
       "| lmML | gls(model = form, data = nls_sub2)                                                                                   | 1 | 5 | 12968.882 | 13006.737 | -6479.441 | <!----> |      NA | NA |\n",
       "| reAR1ML | lme.formula(fixed = form, data = nls_sub2, random = ~1 | idcode,     correlation = corAR1(0, form = ~year | idcode)) | 2 | 7 |  6738.132 |  6791.129 | -3362.066 | 1 vs 2 | 6234.75 |  0 |\n",
       "\n"
      ],
      "text/plain": [
       "        call                                                                                                                \n",
       "lmML    gls(model = form, data = nls_sub2)                                                                                  \n",
       "reAR1ML lme.formula(fixed = form, data = nls_sub2, random = ~1 | idcode,     correlation = corAR1(0, form = ~year | idcode))\n",
       "        Model df AIC       BIC       logLik    Test   L.Ratio p-value\n",
       "lmML    1     5  12968.882 13006.737 -6479.441             NA NA     \n",
       "reAR1ML 2     7   6738.132  6791.129 -3362.066 1 vs 2 6234.75  0     "
      ]
     },
     "metadata": {},
     "output_type": "display_data"
    }
   ],
   "source": [
    "lmML <- gls(form, data=nls_sub2)\n",
    "anova(lmML, reAR1ML)"
   ]
  },
  {
   "cell_type": "markdown",
   "metadata": {},
   "source": [
    "Los resultados de la prueba sugieren que el modelo con ajuste de correlación serial es un mejor modelo para el caso.\n",
    "\n",
    "Podemos comparar el modelo restringido con el modelo mixto, para determinar si es necesario o no el intercepto aleatorio:"
   ]
  },
  {
   "cell_type": "code",
   "execution_count": 84,
   "metadata": {},
   "outputs": [
    {
     "data": {
      "text/html": [
       "<table>\n",
       "<caption>A anova.lme: 2 × 9</caption>\n",
       "<thead>\n",
       "\t<tr><th></th><th scope=col>call</th><th scope=col>Model</th><th scope=col>df</th><th scope=col>AIC</th><th scope=col>BIC</th><th scope=col>logLik</th><th scope=col>Test</th><th scope=col>L.Ratio</th><th scope=col>p-value</th></tr>\n",
       "\t<tr><th></th><th scope=col>&lt;chr&gt;</th><th scope=col>&lt;int&gt;</th><th scope=col>&lt;dbl&gt;</th><th scope=col>&lt;dbl&gt;</th><th scope=col>&lt;dbl&gt;</th><th scope=col>&lt;dbl&gt;</th><th scope=col>&lt;fct&gt;</th><th scope=col>&lt;dbl&gt;</th><th scope=col>&lt;dbl&gt;</th></tr>\n",
       "</thead>\n",
       "<tbody>\n",
       "\t<tr><th scope=row>lmML</th><td>gls(model = form, data = nls_sub2)                              </td><td>1</td><td>5</td><td>12968.882</td><td>13006.737</td><td>-6479.441</td><td>      </td><td>      NA</td><td>NA</td></tr>\n",
       "\t<tr><th scope=row>reML</th><td>lme.formula(fixed = form, data = nls_sub2, random = ~1 | idcode)</td><td>2</td><td>6</td><td> 8724.409</td><td> 8769.835</td><td>-4356.205</td><td>1 vs 2</td><td>4246.472</td><td> 0</td></tr>\n",
       "</tbody>\n",
       "</table>\n"
      ],
      "text/latex": [
       "A anova.lme: 2 × 9\n",
       "\\begin{tabular}{r|lllllllll}\n",
       "  & call & Model & df & AIC & BIC & logLik & Test & L.Ratio & p-value\\\\\n",
       "  & <chr> & <int> & <dbl> & <dbl> & <dbl> & <dbl> & <fct> & <dbl> & <dbl>\\\\\n",
       "\\hline\n",
       "\tlmML & gls(model = form, data = nls\\_sub2)                               & 1 & 5 & 12968.882 & 13006.737 & -6479.441 &        &       NA & NA\\\\\n",
       "\treML & lme.formula(fixed = form, data = nls\\_sub2, random = \\textasciitilde{}1 \\textbar{} idcode) & 2 & 6 &  8724.409 &  8769.835 & -4356.205 & 1 vs 2 & 4246.472 &  0\\\\\n",
       "\\end{tabular}\n"
      ],
      "text/markdown": [
       "\n",
       "A anova.lme: 2 × 9\n",
       "\n",
       "| <!--/--> | call &lt;chr&gt; | Model &lt;int&gt; | df &lt;dbl&gt; | AIC &lt;dbl&gt; | BIC &lt;dbl&gt; | logLik &lt;dbl&gt; | Test &lt;fct&gt; | L.Ratio &lt;dbl&gt; | p-value &lt;dbl&gt; |\n",
       "|---|---|---|---|---|---|---|---|---|---|\n",
       "| lmML | gls(model = form, data = nls_sub2)                               | 1 | 5 | 12968.882 | 13006.737 | -6479.441 | <!----> |       NA | NA |\n",
       "| reML | lme.formula(fixed = form, data = nls_sub2, random = ~1 | idcode) | 2 | 6 |  8724.409 |  8769.835 | -4356.205 | 1 vs 2 | 4246.472 |  0 |\n",
       "\n"
      ],
      "text/plain": [
       "     call                                                             Model df\n",
       "lmML gls(model = form, data = nls_sub2)                               1     5 \n",
       "reML lme.formula(fixed = form, data = nls_sub2, random = ~1 | idcode) 2     6 \n",
       "     AIC       BIC       logLik    Test   L.Ratio  p-value\n",
       "lmML 12968.882 13006.737 -6479.441              NA NA     \n",
       "reML  8724.409  8769.835 -4356.205 1 vs 2 4246.472  0     "
      ]
     },
     "metadata": {},
     "output_type": "display_data"
    }
   ],
   "source": [
    "anova(lmML, reML)"
   ]
  },
  {
   "cell_type": "markdown",
   "metadata": {},
   "source": [
    "Según los resultados, el modelo mixto es mejor que el modelo restringido. Probemos comparándolo incluyendo la estructura de correlación serial:"
   ]
  },
  {
   "cell_type": "code",
   "execution_count": 85,
   "metadata": {},
   "outputs": [
    {
     "data": {
      "text/html": [
       "<table>\n",
       "<caption>A anova.lme: 2 × 9</caption>\n",
       "<thead>\n",
       "\t<tr><th></th><th scope=col>call</th><th scope=col>Model</th><th scope=col>df</th><th scope=col>AIC</th><th scope=col>BIC</th><th scope=col>logLik</th><th scope=col>Test</th><th scope=col>L.Ratio</th><th scope=col>p-value</th></tr>\n",
       "\t<tr><th></th><th scope=col>&lt;chr&gt;</th><th scope=col>&lt;int&gt;</th><th scope=col>&lt;dbl&gt;</th><th scope=col>&lt;dbl&gt;</th><th scope=col>&lt;dbl&gt;</th><th scope=col>&lt;dbl&gt;</th><th scope=col>&lt;fct&gt;</th><th scope=col>&lt;dbl&gt;</th><th scope=col>&lt;dbl&gt;</th></tr>\n",
       "</thead>\n",
       "<tbody>\n",
       "\t<tr><th scope=row>reML</th><td>lme.formula(fixed = form, data = nls_sub2, random = ~1 | idcode)                                                    </td><td>1</td><td>6</td><td>8724.409</td><td>8769.835</td><td>-4356.205</td><td>      </td><td>      NA</td><td>NA</td></tr>\n",
       "\t<tr><th scope=row>reAR1ML</th><td>lme.formula(fixed = form, data = nls_sub2, random = ~1 | idcode,     correlation = corAR1(0, form = ~year | idcode))</td><td>2</td><td>7</td><td>6738.132</td><td>6791.129</td><td>-3362.066</td><td>1 vs 2</td><td>1988.278</td><td> 0</td></tr>\n",
       "</tbody>\n",
       "</table>\n"
      ],
      "text/latex": [
       "A anova.lme: 2 × 9\n",
       "\\begin{tabular}{r|lllllllll}\n",
       "  & call & Model & df & AIC & BIC & logLik & Test & L.Ratio & p-value\\\\\n",
       "  & <chr> & <int> & <dbl> & <dbl> & <dbl> & <dbl> & <fct> & <dbl> & <dbl>\\\\\n",
       "\\hline\n",
       "\treML & lme.formula(fixed = form, data = nls\\_sub2, random = \\textasciitilde{}1 \\textbar{} idcode)                                                     & 1 & 6 & 8724.409 & 8769.835 & -4356.205 &        &       NA & NA\\\\\n",
       "\treAR1ML & lme.formula(fixed = form, data = nls\\_sub2, random = \\textasciitilde{}1 \\textbar{} idcode,     correlation = corAR1(0, form = \\textasciitilde{}year \\textbar{} idcode)) & 2 & 7 & 6738.132 & 6791.129 & -3362.066 & 1 vs 2 & 1988.278 &  0\\\\\n",
       "\\end{tabular}\n"
      ],
      "text/markdown": [
       "\n",
       "A anova.lme: 2 × 9\n",
       "\n",
       "| <!--/--> | call &lt;chr&gt; | Model &lt;int&gt; | df &lt;dbl&gt; | AIC &lt;dbl&gt; | BIC &lt;dbl&gt; | logLik &lt;dbl&gt; | Test &lt;fct&gt; | L.Ratio &lt;dbl&gt; | p-value &lt;dbl&gt; |\n",
       "|---|---|---|---|---|---|---|---|---|---|\n",
       "| reML | lme.formula(fixed = form, data = nls_sub2, random = ~1 | idcode)                                                     | 1 | 6 | 8724.409 | 8769.835 | -4356.205 | <!----> |       NA | NA |\n",
       "| reAR1ML | lme.formula(fixed = form, data = nls_sub2, random = ~1 | idcode,     correlation = corAR1(0, form = ~year | idcode)) | 2 | 7 | 6738.132 | 6791.129 | -3362.066 | 1 vs 2 | 1988.278 |  0 |\n",
       "\n"
      ],
      "text/plain": [
       "        call                                                                                                                \n",
       "reML    lme.formula(fixed = form, data = nls_sub2, random = ~1 | idcode)                                                    \n",
       "reAR1ML lme.formula(fixed = form, data = nls_sub2, random = ~1 | idcode,     correlation = corAR1(0, form = ~year | idcode))\n",
       "        Model df AIC      BIC      logLik    Test   L.Ratio  p-value\n",
       "reML    1     6  8724.409 8769.835 -4356.205              NA NA     \n",
       "reAR1ML 2     7  6738.132 6791.129 -3362.066 1 vs 2 1988.278  0     "
      ]
     },
     "metadata": {},
     "output_type": "display_data"
    }
   ],
   "source": [
    "anova(reML, reAR1ML)"
   ]
  },
  {
   "cell_type": "markdown",
   "metadata": {},
   "source": [
    "Observamos que el modelo con estructura de correlación es mejor que el mixto sin correlación. Finalmente, podemos probar y comparar si es necesario incluir o no el intercepto aleatorio:"
   ]
  },
  {
   "cell_type": "code",
   "execution_count": 86,
   "metadata": {},
   "outputs": [
    {
     "data": {
      "text/html": [
       "<table>\n",
       "<caption>A anova.lme: 2 × 9</caption>\n",
       "<thead>\n",
       "\t<tr><th></th><th scope=col>call</th><th scope=col>Model</th><th scope=col>df</th><th scope=col>AIC</th><th scope=col>BIC</th><th scope=col>logLik</th><th scope=col>Test</th><th scope=col>L.Ratio</th><th scope=col>p-value</th></tr>\n",
       "\t<tr><th></th><th scope=col>&lt;chr&gt;</th><th scope=col>&lt;int&gt;</th><th scope=col>&lt;dbl&gt;</th><th scope=col>&lt;dbl&gt;</th><th scope=col>&lt;dbl&gt;</th><th scope=col>&lt;dbl&gt;</th><th scope=col>&lt;fct&gt;</th><th scope=col>&lt;dbl&gt;</th><th scope=col>&lt;dbl&gt;</th></tr>\n",
       "</thead>\n",
       "<tbody>\n",
       "\t<tr><th scope=row>lmAR1ML</th><td>gls(model = form, data = nls_sub2, correlation = corAR1(0, form = ~year |     idcode))                              </td><td>1</td><td>6</td><td>7158.653</td><td>7204.079</td><td>-3573.326</td><td>      </td><td>     NA</td><td>          NA</td></tr>\n",
       "\t<tr><th scope=row>reAR1ML</th><td>lme.formula(fixed = form, data = nls_sub2, random = ~1 | idcode,     correlation = corAR1(0, form = ~year | idcode))</td><td>2</td><td>7</td><td>6738.132</td><td>6791.129</td><td>-3362.066</td><td>1 vs 2</td><td>422.521</td><td>6.898103e-94</td></tr>\n",
       "</tbody>\n",
       "</table>\n"
      ],
      "text/latex": [
       "A anova.lme: 2 × 9\n",
       "\\begin{tabular}{r|lllllllll}\n",
       "  & call & Model & df & AIC & BIC & logLik & Test & L.Ratio & p-value\\\\\n",
       "  & <chr> & <int> & <dbl> & <dbl> & <dbl> & <dbl> & <fct> & <dbl> & <dbl>\\\\\n",
       "\\hline\n",
       "\tlmAR1ML & gls(model = form, data = nls\\_sub2, correlation = corAR1(0, form = \\textasciitilde{}year \\textbar{}     idcode))                               & 1 & 6 & 7158.653 & 7204.079 & -3573.326 &        &      NA &           NA\\\\\n",
       "\treAR1ML & lme.formula(fixed = form, data = nls\\_sub2, random = \\textasciitilde{}1 \\textbar{} idcode,     correlation = corAR1(0, form = \\textasciitilde{}year \\textbar{} idcode)) & 2 & 7 & 6738.132 & 6791.129 & -3362.066 & 1 vs 2 & 422.521 & 6.898103e-94\\\\\n",
       "\\end{tabular}\n"
      ],
      "text/markdown": [
       "\n",
       "A anova.lme: 2 × 9\n",
       "\n",
       "| <!--/--> | call &lt;chr&gt; | Model &lt;int&gt; | df &lt;dbl&gt; | AIC &lt;dbl&gt; | BIC &lt;dbl&gt; | logLik &lt;dbl&gt; | Test &lt;fct&gt; | L.Ratio &lt;dbl&gt; | p-value &lt;dbl&gt; |\n",
       "|---|---|---|---|---|---|---|---|---|---|\n",
       "| lmAR1ML | gls(model = form, data = nls_sub2, correlation = corAR1(0, form = ~year |     idcode))                               | 1 | 6 | 7158.653 | 7204.079 | -3573.326 | <!----> |      NA |           NA |\n",
       "| reAR1ML | lme.formula(fixed = form, data = nls_sub2, random = ~1 | idcode,     correlation = corAR1(0, form = ~year | idcode)) | 2 | 7 | 6738.132 | 6791.129 | -3362.066 | 1 vs 2 | 422.521 | 6.898103e-94 |\n",
       "\n"
      ],
      "text/plain": [
       "        call                                                                                                                \n",
       "lmAR1ML gls(model = form, data = nls_sub2, correlation = corAR1(0, form = ~year |     idcode))                              \n",
       "reAR1ML lme.formula(fixed = form, data = nls_sub2, random = ~1 | idcode,     correlation = corAR1(0, form = ~year | idcode))\n",
       "        Model df AIC      BIC      logLik    Test   L.Ratio p-value     \n",
       "lmAR1ML 1     6  7158.653 7204.079 -3573.326             NA           NA\n",
       "reAR1ML 2     7  6738.132 6791.129 -3362.066 1 vs 2 422.521 6.898103e-94"
      ]
     },
     "metadata": {},
     "output_type": "display_data"
    }
   ],
   "source": [
    "anova(lmAR1ML, reAR1ML)"
   ]
  },
  {
   "cell_type": "markdown",
   "metadata": {},
   "source": [
    "Los resutlados nos sugieren que se requiere tanto del intercepto aleatorio como de la estructura de correlación serial, lo que indicaría que el modelo que mejor explica el fenómeno es el modelo mixto con estructura de autocorrelación."
   ]
  },
  {
   "cell_type": "code",
   "execution_count": 87,
   "metadata": {},
   "outputs": [
    {
     "data": {
      "image/png": "[encoded data removed]",
      "text/plain": [
       "plot without title"
      ]
     },
     "metadata": {
      "image/png": {
       "height": 480,
       "width": 480
      },
      "text/plain": {
       "height": 480,
       "width": 480
      }
     },
     "output_type": "display_data"
    }
   ],
   "source": [
    "plot(reAR1ML, resid(., type = \"p\") ~ fitted(.) | universidad, abline = 0)"
   ]
  },
  {
   "cell_type": "code",
   "execution_count": null,
   "metadata": {},
   "outputs": [],
   "source": []
  }
 ],
 "metadata": {
  "kernelspec": {
   "display_name": "R",
   "language": "R",
   "name": "ir"
  },
  "language_info": {
   "codemirror_mode": "r",
   "file_extension": ".r",
   "mimetype": "text/x-r-source",
   "name": "R",
   "pygments_lexer": "r",
   "version": "4.0.0"
  }
 },
 "nbformat": 4,
 "nbformat_minor": 4
}
